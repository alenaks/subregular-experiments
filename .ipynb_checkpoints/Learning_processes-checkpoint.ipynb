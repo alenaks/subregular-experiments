{
 "cells": [
  {
   "cell_type": "markdown",
   "metadata": {},
   "source": [
    "# Code for Chapter 4: Learning Mappings\n",
    "\n",
    "This notebook provides the code written for and used in the Chapter 4 of my dissertation **_SigmaPie_ for subregular and subsequential grammar induction**. All the links will be added soon. :)"
   ]
  },
  {
   "cell_type": "markdown",
   "metadata": {},
   "source": [
    "# Generators and evaluators: the setup for the experiments\n",
    "\n",
    "## Step 1: loading dependencies, including _SigmaPie_"
   ]
  },
  {
   "cell_type": "code",
   "execution_count": 2,
   "metadata": {},
   "outputs": [],
   "source": [
    "import codecs\n",
    "from random import choice, randint\n",
    "from pprint import pprint"
   ]
  },
  {
   "cell_type": "code",
   "execution_count": 3,
   "metadata": {},
   "outputs": [
    {
     "name": "stdout",
     "output_type": "stream",
     "text": [
      "/home/alenaks/subregular-experiments/local_sigmapie/code\n",
      "\n",
      "You successfully loaded SigmaPie. \n",
      "\n",
      "Formal language classes and grammars available:\n",
      "\t* strictly piecewise: SP(alphabet, grammar, k, data, polar);\n",
      "\t* strictly local: SL(alphabet, grammar, k, data, edges, polar);\n",
      "\t* tier-based strictly local: TSL(alphabet, grammar, k, data, edges, polar, tier);\n",
      "\t* multiple tier-based strictly local: MTSL(alphabet, grammar, k, data, edges, polar).\n",
      "\n",
      "Alternatively, you can initialize a transducer: FST(states, sigma, gamma, initial, transitions, stout).\n",
      "Learning algorithm:\n",
      "\tOSTIA: ostia(sample, sigma, gamma).\n",
      "/home/alenaks/subregular-experiments\n"
     ]
    }
   ],
   "source": [
    "# accessing SigmaPie toolkit: I know, horrible!\n",
    "# I promise I'll make it a package soon\n",
    "%cd local_sigmapie/code/\n",
    "from main import *\n",
    "%cd ../.."
   ]
  },
  {
   "cell_type": "markdown",
   "metadata": {},
   "source": [
    "## Step 2: defining general harmonic evaluator\n",
    "\n",
    "Here, I will talk about the artificial harmonic generator that I will be using throughout Chapters 3 and 4 of my dissertation.\n",
    "It can generate two types of samples:\n",
    "\n",
    "* Samples of **well-formed words**, i.e. words that don't violate the rules of the harmony; and\n",
    "* Samples of **underlying -> surface forms**, i.e. pairs where the first member has only the first value of every harmonic class specified (i.e. the feature that needs to be spread is given), and all consecutive members of the same class are masked as the name of that class.\n",
    "\n",
    "### Parameters of the generator\n",
    "\n",
    "List of the parameters that are available:\n",
    "\n",
    "* number of strings to be generated;\n",
    "* harmonic classes and their members (harmonic class is a class of segments that don't co-occur unless there is a blocker in-between them);\n",
    "* minimal and maximal cluster length of each of the harmonic classes;\n",
    "* blockers and the new domain that they introduce;\n",
    "* a probability of observing a blocker (1 / n, where n is a parameter): basically means \"every n-th cluster will be the blocker\"."
   ]
  },
  {
   "cell_type": "code",
   "execution_count": 4,
   "metadata": {},
   "outputs": [],
   "source": [
    "class Harmony(object):\n",
    "    \"\"\"\n",
    "    Class defining the toy generator for the harmonic datasets.\n",
    "    \n",
    "    Attributes:\n",
    "        cl_members (dict): dictionary of the type {(harmonic_class_1):class_id_1,\n",
    "            (harmonic_class_2):class_id_2, ...} that contains info about the present\n",
    "            harmonic classes. Note that the transparent element can be encoded by \n",
    "            a harmonic class containing a single element.\n",
    "            Example: {(\"a\", \"o\"):\"A\", (\"b\", \"p\"):\"B\", (\"c\"):\"C\"}\n",
    "        cl_lengths (dict): dictionary of the type {class_id:(min_len, max_len)},\n",
    "            where min_len and max_len denote the min and max len of the cluster\n",
    "            made out of elements of class_id.\n",
    "            Example: {\"A\":(1, 3), \"B\":(2, 4), \"C\":(4, 8)}\n",
    "        blockers (dict): dictionary of the type {\"b_1\":\"u_1\", \"b_2\":\"u_2\", ...} where\n",
    "            \"b\" is the blocker, and \"u\" is the newly introduced value.\n",
    "            Example: {\"t\":\"p\"}\n",
    "        blocker_prob (int): a chance of observing a blocker, the P evaluates from\n",
    "            (1/blocker_prob).\n",
    "            Example: 5\n",
    "    \"\"\"\n",
    "    def __init__(self, cl_members, cl_lengths = None, blockers = None, blocker_prob = 5):\n",
    "        \"\"\"\n",
    "        Init function for the Harmony class.\n",
    "        \"\"\"\n",
    "        self.cl_members = cl_members\n",
    "        if cl_lengths is not None:\n",
    "            self.cl_lengths = cl_lengths\n",
    "        else:\n",
    "            self.cl_lengths = {i:(1, 3) for i in self.cl_members.values()}\n",
    "        self.blockers = blockers\n",
    "        self.blocker_prob = blocker_prob\n",
    "        \n",
    "\n",
    "        \n",
    "    def generate_words(self, n = 3, length = 10):\n",
    "        \"\"\"\n",
    "        Generates n strings of a given length.\n",
    "        \n",
    "        Arguments:\n",
    "            n (int): how many strings need to be generated;\n",
    "            length (int): length of the strings.\n",
    "            \n",
    "        Returns:\n",
    "            list[str]: n generated strings.\n",
    "        \"\"\"\n",
    "        # check if the harmony rules are well-formed\n",
    "        if not self._verify_classes():\n",
    "            raise(\"Cannot generate dataset: the sets are overlapping.\")\n",
    "            \n",
    "        # unpack the dictionary for a quicker lookup\n",
    "        unpacked = self._unpack_classes()\n",
    "        transparent = self._transparent()\n",
    "        generated = [self._generate(unpacked, length) for i in range(n)]\n",
    "        return generated\n",
    "    \n",
    "\n",
    "    def generate_pairs(self, n = 3, length = 10):\n",
    "        \"\"\"\n",
    "        Generates n pairs of strings of a given length.\n",
    "        \n",
    "        Arguments:\n",
    "            n (int): how many strings need to be generated;\n",
    "            length (int): length of the strings.\n",
    "            \n",
    "        Returns:\n",
    "            list[tuple[str]]: n generated pairs of strings.\n",
    "        \"\"\"\n",
    "        transparent = self._transparent()\n",
    "        outputs = self.generate_words(n, length)\n",
    "        inputs = self._mask_words(outputs, transparent)\n",
    "        return list(zip(inputs, outputs))\n",
    "        \n",
    "        \n",
    "    def _generate(self, unpacked, length):\n",
    "        \"\"\"\n",
    "        Generates a set of strings; helper function.\n",
    "        \n",
    "        Output type: list[str]\n",
    "        \"\"\"\n",
    "        \n",
    "        # initialize the specifications of this particular string\n",
    "        string = \"\"\n",
    "        specs = self._specify()\n",
    "        \n",
    "        while len(string) < length:\n",
    "            \n",
    "            \n",
    "            # check if we can now output the blocker\n",
    "            if self.blockers is not None:\n",
    "                while randint(1, self.blocker_prob) == 1:\n",
    "                    b = choice(list(self.blockers))\n",
    "                    string += b\n",
    "                    \n",
    "                    if len(string) == length:\n",
    "                        return string\n",
    "                    \n",
    "                    # rewrite the specification because of the blocker\n",
    "                    if self.blockers[b] not in specs:\n",
    "                        for spec in specs:\n",
    "                            if unpacked[spec] == unpacked[self.blockers[b]]:\n",
    "                                specs.remove(spec)\n",
    "                                specs.append(self.blockers[b])\n",
    "                                break\n",
    "                                \n",
    "            # make sure that we don't generate cluster of the same\n",
    "            # harminic set as the previous one\n",
    "            if len(string) > 0:\n",
    "                change = string[-1] in unpacked\n",
    "            else:\n",
    "                change = False\n",
    "            \n",
    "            # select and add new possible character as many times as\n",
    "            # cl_lengths indicate\n",
    "            if not change:\n",
    "                newchar = choice(specs)\n",
    "            else:\n",
    "                collection = [i for i in specs]\n",
    "                collection.remove(string[-1])\n",
    "                newchar = choice(collection)\n",
    "            freq_b, freq_e = self.cl_lengths[unpacked[newchar]]\n",
    "            string += newchar * randint(freq_b, freq_e)\n",
    "            \n",
    "            # output\n",
    "            if len(string) > length:\n",
    "                string = \"\"\n",
    "            elif len(string) == length:\n",
    "                return string\n",
    "            \n",
    "            \n",
    "    def _mask(self, string, transparent):\n",
    "        \"\"\"\n",
    "        Masks all non-initial mentions of the specified allophone: helper function.\n",
    "        \n",
    "        Output type: str\n",
    "        \"\"\"\n",
    "        classes = {i:False for i in self.cl_members.keys()}\n",
    "        undergoers = self._undergoers()\n",
    "        new = \"\"\n",
    "        for s in string:\n",
    "            if (s in undergoers) and (s not in transparent.values()):\n",
    "                for c in classes:\n",
    "                    \n",
    "                    # rewrite the non-initial mention of the harmonic set member\n",
    "                    # as its harmony_class_id\n",
    "                    if s in c and not classes[c]:\n",
    "                        classes[c] = True\n",
    "                        new += s\n",
    "                    elif s in c:\n",
    "                        new += self.cl_members[c]\n",
    "            else:\n",
    "                new += s\n",
    "        return new\n",
    "\n",
    "    \n",
    "    def _mask_words(self, words, transparent):\n",
    "        \"\"\"\n",
    "        Masks every word of a given list; helper function.\n",
    "        \n",
    "        Output type: list[str]\n",
    "        \"\"\"\n",
    "        return [self._mask(w, transparent) for w in words]\n",
    "            \n",
    "            \n",
    "    def _undergoers(self):\n",
    "        \"\"\"\n",
    "        Collects all undergoers; helper function.\n",
    "        \n",
    "        Output type: list[char]\n",
    "        \"\"\"\n",
    "        items = []\n",
    "        for i in self.cl_members:\n",
    "            items.extend(list(i))\n",
    "        return items\n",
    "    \n",
    "    def _transparent(self):\n",
    "        \"\"\"\n",
    "        Checks if there are transparent items, i.e. if there is\n",
    "        a harmonic class or classes that only contain a single item.\n",
    "        \n",
    "        Output type: dict[str:str]\n",
    "        \"\"\"\n",
    "        transparent = dict()\n",
    "        for i in self.cl_members:\n",
    "            if len(i) == 1:\n",
    "                transparent[self.cl_members[i]] = i[0]\n",
    "        return transparent\n",
    "        \n",
    "        \n",
    "    def _verify_classes(self):\n",
    "        \"\"\"\n",
    "        Verifies that no set (harmonic sets or the set of blockers)\n",
    "        overlaps with each other.\n",
    "        \n",
    "        Output type: bool\n",
    "        \"\"\"\n",
    "        items = self._undergoers()\n",
    "        if self.blockers is not None:\n",
    "            block_ok = all([i not in items for i in self.blockers])\n",
    "        else:\n",
    "            block_ok = True\n",
    "        return len(items) == len(set(items)) and block_ok\n",
    "    \n",
    "    \n",
    "    def _unpack_classes(self):\n",
    "        \"\"\"\n",
    "        Creates a dictionary where every harmonizing element \n",
    "        is mapped to its harmonic class; helps to optimize \n",
    "        the lookup of this information.\n",
    "        \n",
    "        Output type: dict\n",
    "        \"\"\"\n",
    "        items = self._undergoers()\n",
    "        unpacked = {}\n",
    "        for i in items:\n",
    "            for j in self.cl_members:\n",
    "                if i in j:\n",
    "                    unpacked[i] = self.cl_members[j]\n",
    "        return unpacked\n",
    "\n",
    "    \n",
    "    def _specify(self):\n",
    "        \"\"\"\n",
    "        Randomly initialize a specification from all given\n",
    "        harmonic datasets.\n",
    "        \n",
    "        Output type: list[char]\n",
    "        \"\"\"\n",
    "        return list(map(choice, self.cl_members.keys()))"
   ]
  },
  {
   "cell_type": "markdown",
   "metadata": {},
   "source": [
    "### Examples of the data generated by AHG\n",
    "\n",
    "#### Parallel vowel and consonant harmonies\n",
    "Harmony of a class \"A\" that contains \"a\" and \"o\" and of a class \"B\" that contains \"b\" and \"p\". Linguistically, these are simultaneous and independent vowel and consonant harmonies."
   ]
  },
  {
   "cell_type": "code",
   "execution_count": 5,
   "metadata": {},
   "outputs": [],
   "source": [
    "s1 = {(\"a\", \"o\"):\"A\", (\"b\", \"p\"):\"B\"}\n",
    "h1 = Harmony(s1)"
   ]
  },
  {
   "cell_type": "markdown",
   "metadata": {},
   "source": [
    "Now, let's generate a sample of well-formed words."
   ]
  },
  {
   "cell_type": "code",
   "execution_count": 6,
   "metadata": {},
   "outputs": [
    {
     "name": "stdout",
     "output_type": "stream",
     "text": [
      "['bbabbbaaba', 'ppooopppoo', 'bbboobbboo', 'baabbabaab', 'ababbaabbb']\n"
     ]
    }
   ],
   "source": [
    "print(h1.generate_words(n = 5, length = 10))"
   ]
  },
  {
   "cell_type": "markdown",
   "metadata": {},
   "source": [
    "And now, a sample of well-formed pairs."
   ]
  },
  {
   "cell_type": "code",
   "execution_count": 7,
   "metadata": {},
   "outputs": [
    {
     "name": "stdout",
     "output_type": "stream",
     "text": [
      "[('paBAAABB', 'papaaapp'),\n",
      " ('bBoABBBA', 'bboobbbo'),\n",
      " ('opBBABBA', 'opppoppo'),\n",
      " ('bBBaBBBA', 'bbbabbba')]\n"
     ]
    }
   ],
   "source": [
    "pprint(h1.generate_pairs(n = 4, length = 8))"
   ]
  },
  {
   "cell_type": "markdown",
   "metadata": {},
   "source": [
    "#### Harmony with a transparent element\n",
    "\n",
    "Transparent, or irrelevant items that only introduce the long-distance effect in the dataset can be modeled by providing an extra harmonic class with just a single item in it."
   ]
  },
  {
   "cell_type": "code",
   "execution_count": 8,
   "metadata": {},
   "outputs": [],
   "source": [
    "s2 = {(\"a\", \"o\"):\"A\", (\"x\"):\"X\"}\n",
    "l2 = {\"A\":(1, 2), \"X\":(2, 4)}\n",
    "h2 = Harmony(s2, l2)"
   ]
  },
  {
   "cell_type": "markdown",
   "metadata": {},
   "source": [
    "Now, us generate some well-formed words."
   ]
  },
  {
   "cell_type": "code",
   "execution_count": 9,
   "metadata": {},
   "outputs": [
    {
     "name": "stdout",
     "output_type": "stream",
     "text": [
      "['xxxxoxxxoo', 'xxxxaaxxxx', 'ooxxxoxxxo', 'xxooxxooxx', 'xxxaaxxxxa']\n"
     ]
    }
   ],
   "source": [
    "print(h2.generate_words(n = 5, length = 10))"
   ]
  },
  {
   "cell_type": "markdown",
   "metadata": {},
   "source": [
    "And now the underlying and surface forms. Note that transparent items are not masked!"
   ]
  },
  {
   "cell_type": "code",
   "execution_count": 10,
   "metadata": {},
   "outputs": [
    {
     "name": "stdout",
     "output_type": "stream",
     "text": [
      "[('aAxxxxAA', 'aaxxxxaa'),\n",
      " ('aAxxxAxx', 'aaxxxaxx'),\n",
      " ('xxaAxxxA', 'xxaaxxxa'),\n",
      " ('xxxxaAxx', 'xxxxaaxx')]\n"
     ]
    }
   ],
   "source": [
    "pprint(h2.generate_pairs(n = 4, length = 8))"
   ]
  },
  {
   "cell_type": "markdown",
   "metadata": {},
   "source": [
    "#### Parallel vowel and consonant harmonies with a blocking effect\n",
    "\n",
    "Harmony of a class \"A\" and of a class \"B\", where if \"t\" occurred, \"p\" cannot be observed anymore: class \"B\" changes its specification to \"p\". Namely, \"t\" is a blocker that only allows for \"p\" after itself.\n",
    "\n",
    "Additionally, clusters of the A-element consist usually from 1 to 3 elements, and clusters of the B-elements are 2 to 4 elements long. The probability of observing the blocker is $\\frac{1}{4}$ at every step of the generation."
   ]
  },
  {
   "cell_type": "code",
   "execution_count": 11,
   "metadata": {},
   "outputs": [],
   "source": [
    "s3 = {(\"a\", \"o\"):\"A\", (\"b\", \"p\"):\"B\"}\n",
    "l3 = {\"A\":(1, 3), \"B\":(2, 4)}\n",
    "b3 = {\"t\":\"p\"}\n",
    "p3 = 4\n",
    "h3 = Harmony(s3, l3, b3, p3)"
   ]
  },
  {
   "cell_type": "markdown",
   "metadata": {},
   "source": [
    "Let's first generate some well-formed words."
   ]
  },
  {
   "cell_type": "code",
   "execution_count": 12,
   "metadata": {},
   "outputs": [
    {
     "name": "stdout",
     "output_type": "stream",
     "text": [
      "['pptppppooo', 'aaappaappa', 'ppoopppooo', 'pppptaappt', 'ooppppoott']\n"
     ]
    }
   ],
   "source": [
    "print(h3.generate_words(n = 5, length = 10))"
   ]
  },
  {
   "cell_type": "markdown",
   "metadata": {},
   "source": [
    "And now, some underlying and surface forms."
   ]
  },
  {
   "cell_type": "code",
   "execution_count": 13,
   "metadata": {},
   "outputs": [
    {
     "name": "stdout",
     "output_type": "stream",
     "text": [
      "[('tpBBBattAAABBBt', 'tppppattaaapppt'),\n",
      " ('toAApBAAAtABBBt', 'toooppoootopppt'),\n",
      " ('bBBtaBBBBtBBBBt', 'bbbtapppptppppt'),\n",
      " ('aAAtpBBAAAtABBB', 'aaatpppaaatappp'),\n",
      " ('pBBBottAAtBBBBt', 'ppppottootppppt')]\n"
     ]
    }
   ],
   "source": [
    "pprint(h3.generate_pairs(n = 5, length = 15))"
   ]
  },
  {
   "cell_type": "markdown",
   "metadata": {},
   "source": [
    "## Step 3: Turkish generators and evaluators\n",
    "\n",
    "The following two functions I will be using in order to verify the well-formedness of generated Turkish or fake Turkish words:\n",
    "  * `backness_harmony` takes a string as input and tells if that strings is well-formed with respect to the rules of Turkish backness harmony;\n",
    "  * `rounding_harmony` does the same thing for the rounding harmony."
   ]
  },
  {
   "cell_type": "code",
   "execution_count": 14,
   "metadata": {},
   "outputs": [],
   "source": [
    "def backness_harmony(string):\n",
    "    \"\"\"\n",
    "    Tells if a string is well-formed according to rules\n",
    "    of Turkish backness harmony.\n",
    "    \"\"\"\n",
    "    front_class, back_class = \"Iaou\", \"ieOU\"\n",
    "    front, back = False, False\n",
    "    \n",
    "    for v in front_class + back_class:\n",
    "        if v in string:\n",
    "            front = True if v in front_class else front\n",
    "            back = True if v in back_class else back\n",
    "\n",
    "    return not (front and back)"
   ]
  },
  {
   "cell_type": "code",
   "execution_count": 15,
   "metadata": {},
   "outputs": [],
   "source": [
    "def rounding_harmony(string):\n",
    "    \"\"\"\n",
    "    Tells if a string is well-formed according to rules\n",
    "    of Turkish rounding harmony.\n",
    "    \"\"\"\n",
    "    high, low, rounded = \"iIuU\", \"aeoO\", \"uUoO\"\n",
    "    \n",
    "    vowels = \"\".join([v for v in string if v in high + low])\n",
    "    if len(vowels) < 2:\n",
    "        return True\n",
    "    \n",
    "    ro = vowels[0] in rounded\n",
    "    \n",
    "    for v in vowels[1:]:\n",
    "        if v in low:\n",
    "            if v in rounded:\n",
    "                return False\n",
    "            ro = False\n",
    "        elif (ro and v not in rounded) or (not ro and v in rounded):\n",
    "            return False\n",
    "            \n",
    "    return True"
   ]
  },
  {
   "cell_type": "code",
   "execution_count": 16,
   "metadata": {},
   "outputs": [],
   "source": [
    "def backness_and_rounding(string):\n",
    "    return backness_harmony(string) and rounding_harmony(string)"
   ]
  },
  {
   "cell_type": "markdown",
   "metadata": {},
   "source": [
    "Additionally, to generate simplified Turkish data I will be using `turkish_word` and `generate_turkish_words` that generate a single word and a dataset, correspondingly.\n",
    "\n",
    "Their parameters are:\n",
    "* `length` is a desired length of the Turkish word;\n",
    "* `cond` is a choice of \"consonant\" that will be separating the vowels;\n",
    "* `vowel_cluster` is a tuple of integers representing minimal and maximal length of the vowel cluster;\n",
    "* `cons_cluster` is a tuple of integers representing minimal and maximal length of the consonantal cluster;\n",
    "* `n` (available for `generate_turkish` only) is the number of the examples that need to be generated."
   ]
  },
  {
   "cell_type": "code",
   "execution_count": 17,
   "metadata": {},
   "outputs": [],
   "source": [
    "def turkish_word(length = 10, cons = \"x\", vowel_cluster = (1, 2),\n",
    "                          cons_cluster = (0, 3)):\n",
    "    \"\"\"\n",
    "    This generator generates fake Turkish words: namely, the words in which\n",
    "    the harmonic system and rules of Turkish are preserved, but all consonants\n",
    "    were substituted by a single given consonant.\n",
    "    \n",
    "    Arguments:\n",
    "    * length (int): a length of a word that needs to be generated;\n",
    "    * cons (str): a single character (or an empty string if only vowels\n",
    "                  need to be generated), a \"choice\" of the consonant \n",
    "                  that makes this harmony long-distant;\n",
    "    * vowel_cluster (tuple[int, int]): a tuple of integers representing\n",
    "                                       minimal and maximal length of\n",
    "                                       the vowel cluster;\n",
    "    * cons_cluster (tuple[int, int]): a tuple of integers representing\n",
    "                                      minimal and maximal length of\n",
    "                                      the consonantal cluster.\n",
    "                                      \n",
    "    Returns:\n",
    "    * str: a fake Turkish harmonic word, where all consonants are masked.\n",
    "    \"\"\"\n",
    "    if length < 1:\n",
    "        raise ValueError(\"Words cannot be so short.\")\n",
    "    \n",
    "    vowels = {\n",
    "        (True, True, True):\"u\",\n",
    "        (True, True, False):\"I\",\n",
    "        (True, False, True):\"o\",\n",
    "        (True, False, False):\"a\",\n",
    "        (False, True, True):\"U\",\n",
    "        (False, True, False):\"i\",\n",
    "        (False, False, True):\"O\",\n",
    "        (False, False, False):\"e\"\n",
    "    }\n",
    "    \n",
    "    backness = choice([True, False])\n",
    "    height = choice([True, False])\n",
    "    rounding = choice([True, False])\n",
    "    \n",
    "    specs = (backness, height, rounding)\n",
    "    word = \"\"\n",
    "    \n",
    "    if choice([0, 1]):\n",
    "            word += \"x\" * randint(*cons_cluster)\n",
    "            \n",
    "    while len(word) < length:\n",
    "        vc = vowels[specs] * randint(*vowel_cluster)\n",
    "        \n",
    "        # this part is neededd to avoid the word-initial *oo clusters\n",
    "        if len(vc) > 1 and not height and rounding:\n",
    "            rounding = False\n",
    "            vc = vc[0] + vowels[(backness, height, rounding)] * (len(vc) - 1)\n",
    "            \n",
    "        word += vc\n",
    "        word += \"x\" * randint(*cons_cluster)\n",
    "        \n",
    "        height = choice([True, False])\n",
    "        rounding = False if not height else rounding\n",
    "        specs = (backness, height, rounding)\n",
    "        \n",
    "    return word[:length]"
   ]
  },
  {
   "cell_type": "code",
   "execution_count": 18,
   "metadata": {},
   "outputs": [],
   "source": [
    "def generate_turkish_words(n = 10, length = 10, cons = \"x\",\n",
    "                           vowel_cluster = (1, 2), cons_cluster = (1, 3)):\n",
    "    \"\"\"\n",
    "    This generator generates a list of fake Turkish words.\n",
    "    \n",
    "    Arguments:\n",
    "    * n (int): a number of strings that need to be generated;\n",
    "    ... for the rest of the arguments, see generate_turkish_word.\n",
    "    \n",
    "    Outputs:\n",
    "    * list: the list containing n fake Turkish words.\n",
    "    \"\"\"\n",
    "    return [turkish_word(length, cons, vowel_cluster, cons_cluster) for i in range(n)]"
   ]
  },
  {
   "cell_type": "markdown",
   "metadata": {},
   "source": [
    "Additionally, I wrote `turkish_pair` and `generate_turkish_pairs` that produce pairs (UR -> SF based on the Turkish words). In this case, all non-initial vowels are masked, and only their height specification remains: `H` or `L`)."
   ]
  },
  {
   "cell_type": "code",
   "execution_count": 19,
   "metadata": {},
   "outputs": [],
   "source": [
    "def turkish_pair(word):\n",
    "    \"\"\"\n",
    "    This function takes Turkish surface form as input, and returns\n",
    "    the pair of its underlying representation and the surface form.\n",
    "    \"\"\"\n",
    "    high, low = \"iIuU\", \"aeoO\"\n",
    "    initial = False\n",
    "    \n",
    "    UR = \"\"\n",
    "    for s in word:\n",
    "        if s in high + low and not initial:\n",
    "            UR += s\n",
    "            initial = True\n",
    "        elif s in high:\n",
    "            UR += \"H\"\n",
    "        elif s in low:\n",
    "            UR += \"L\"\n",
    "        else:\n",
    "            UR += s\n",
    "            \n",
    "    return (UR, word)"
   ]
  },
  {
   "cell_type": "code",
   "execution_count": 20,
   "metadata": {},
   "outputs": [],
   "source": [
    "def generate_turkish_pairs(n = 10, length = 10, cons = \"x\",\n",
    "                           vowel_cluster = (1, 2), cons_cluster = (1, 3)):\n",
    "    \"\"\"\n",
    "    This generator generates a list of fake Turkish pairs.\n",
    "    \n",
    "    Arguments:\n",
    "    * n (int): a number of strings that need to be generated;\n",
    "    ... for the rest of the arguments, see generate_turkish_word.\n",
    "    \n",
    "    Outputs:\n",
    "    * list: the list containing n fake Turkish pairs.\n",
    "    \"\"\"\n",
    "    words = [turkish_word(length, cons, vowel_cluster, cons_cluster) for i in range(n)]\n",
    "    return [turkish_pair(w) for w in words]"
   ]
  },
  {
   "cell_type": "markdown",
   "metadata": {},
   "source": [
    "## Step 4: other harmonic evaluators\n",
    "\n",
    "The function `harmonic_evaluator` below takes two arguments: `data` and `rule`. `data` is a list of words that need to be evaluated, and `rule` is the evaluation function for some concrete harmony. This function will be further used in order to evaluate the performance of the learners on the generated datasets."
   ]
  },
  {
   "cell_type": "code",
   "execution_count": 21,
   "metadata": {},
   "outputs": [],
   "source": [
    "def harmonic_evaluator(data, rule):\n",
    "    \"\"\"\n",
    "    Evaluates the provided data with respect to a given\n",
    "    rule of harmony.\n",
    "    \n",
    "    Arguments:\n",
    "    * data (list[str]): a list of strings tht need to be evaluated;\n",
    "    * rule (function): a function that evaluates a string according\n",
    "                       to some harmony.\n",
    "                       \n",
    "    Results:\n",
    "    * Prints the report that shows if the data follows the rule.\n",
    "    \"\"\"\n",
    "    correct = 0\n",
    "    for w in data:\n",
    "        correct = (correct + 1) if rule(w) else correct\n",
    "        \n",
    "    ratio = (correct / len(data))\n",
    "    print(f\"Percentage of harmonic words: {int(ratio * 100)}%.\")"
   ]
  },
  {
   "cell_type": "markdown",
   "metadata": {},
   "source": [
    "### Finnish\n",
    "\n",
    "Finally, `front_harmony` defines a function that tells if a given string follows a rule of Finnish vowel harmony."
   ]
  },
  {
   "cell_type": "code",
   "execution_count": 22,
   "metadata": {},
   "outputs": [],
   "source": [
    "def front_harmony(string):\n",
    "    \"\"\"\n",
    "    Tells if a string is well-formed according to rules\n",
    "    of Finnish backness harmony.\n",
    "    \"\"\"\n",
    "    front_class, back_class = \"AOy\", \"aou\"\n",
    "    front, back = False, False\n",
    "    \n",
    "    for v in front_class + back_class:\n",
    "        if v in string:\n",
    "            front = True if v in front_class else front\n",
    "            back = True if v in back_class else back\n",
    "\n",
    "    return not (front and back)"
   ]
  },
  {
   "cell_type": "markdown",
   "metadata": {},
   "source": [
    "### Fake harmonies evaluators\n",
    "\n",
    "This section would need to eventually be redone."
   ]
  },
  {
   "cell_type": "code",
   "execution_count": 23,
   "metadata": {},
   "outputs": [],
   "source": [
    "def single_harmony_no_blockers(string):\n",
    "    \"\"\"\n",
    "    Checks if a single [a, o] harmony is well-formed.\n",
    "    \"\"\"\n",
    "    return not(\"a\" in string and \"o\" in string)"
   ]
  },
  {
   "cell_type": "code",
   "execution_count": 24,
   "metadata": {},
   "outputs": [],
   "source": [
    "def single_harmony_with_blockers(string):\n",
    "    \"\"\"\n",
    "    Checks if a single [a, o] harmony with a blocker f:a is well-formed.\n",
    "    \"\"\"\n",
    "    if \"f\" in string:\n",
    "        s1 = string[:string.index(\"f\")]\n",
    "        s2 = string[string.index(\"f\") + 1:]\n",
    "        return single_harmony_no_blockers(s1) and (not \"o\" in s2)\n",
    "    else:\n",
    "        return single_harmony_no_blockers(string)"
   ]
  },
  {
   "cell_type": "code",
   "execution_count": 25,
   "metadata": {},
   "outputs": [],
   "source": [
    "def double_harmony(string, group = [\"a\", \"o\", \"u\", \"e\"]):\n",
    "    \"\"\"\n",
    "    Tells if a string contains only one out of four\n",
    "    (vowel) classes; check that at most one class\n",
    "    of vowels occurs within one word.\n",
    "    \n",
    "    Arguments:\n",
    "    * string (str): a string that needs to be verified;\n",
    "    * group (list[char]): the harmonic class.\n",
    "    \"\"\"\n",
    "    assert len(group) == 4\n",
    "    classes = 0\n",
    "    \n",
    "    for i in group:\n",
    "        classes = (classes + 1) if i in string else classes\n",
    "        \n",
    "    return classes in [0, 1]"
   ]
  },
  {
   "cell_type": "code",
   "execution_count": 26,
   "metadata": {},
   "outputs": [],
   "source": [
    "def double_harmony_no_blockers(string):\n",
    "    \"\"\"\n",
    "    Checks if a double [a, o] and [b, p] harmony is well-formed.\n",
    "    \"\"\"\n",
    "    vowels = not(\"a\" in string and \"o\" in string)\n",
    "    consonants = not(\"b\" in string and \"p\" in string)\n",
    "    return vowels and consonants"
   ]
  },
  {
   "cell_type": "code",
   "execution_count": 27,
   "metadata": {},
   "outputs": [],
   "source": [
    "def double_harmony_with_blockers(string):\n",
    "    \"\"\"\n",
    "    Checks if a double [a, o] and [b, p] harmony with a blocker t:p\n",
    "    is well-formed.\n",
    "    \"\"\"\n",
    "    if \"a\" in string and \"o\" in string:\n",
    "        return False\n",
    "    \n",
    "    if \"t\" in string:\n",
    "        s1 = string[:string.index(\"t\")]\n",
    "        s2 = string[string.index(\"t\") + 1:]\n",
    "        return double_harmony_no_blockers(s1) and (\"b\" not in s2)\n",
    "    else:\n",
    "        return double_harmony_no_blockers(string)"
   ]
  },
  {
   "cell_type": "markdown",
   "metadata": {},
   "source": [
    "## Step 5: Word-final devoicing generators and evaluators\n",
    "\n",
    "The functions `word_final_devoicing` and `generate_wfd` imitate the process of word-final devoicing.\n",
    "The former one generates a string or a pair of strings (UR -> SF) implementing that rule, and the latter one generates dataset consisting of ones.\n",
    "\n",
    "Their arguments are the following:\n",
    "* `sigma` is a list of symbols that can be used in the words;\n",
    "* `devoice` contains two tuples, where the first tuple represents voiced obstruents, and the second one stands for their voiceless counterparts;\n",
    "* `length` is the length of the intended words;\n",
    "* if `pairs` is True, (UG, SF) pairs will be returned, if False, only the surface forms;\n",
    "* `n` (available only for `generate_wfd`) is a number of strings or pairs that need to be generated."
   ]
  },
  {
   "cell_type": "code",
   "execution_count": 28,
   "metadata": {},
   "outputs": [],
   "source": [
    "def word_final_devoicing(sigma = (\"a\", \"b\", \"p\"), devoice = ((\"b\"), (\"p\")),\n",
    "                         length = 10, pairs = False):\n",
    "    \"\"\"\n",
    "    This function generates either a word grammatical with respect to a rule\n",
    "    of the word final devoicing, or a fake UG -> SF pair.\n",
    "    \n",
    "    Arguments: \n",
    "    * sigma (list[str]): a list of symbols that can be used in the words;\n",
    "    * devoice (tuple[tuple, tuple]): the first tuple represents voiced\n",
    "                                     obstruents, and the second one stands\n",
    "                                     for their voiceless counterparts;\n",
    "    * length (int): a length of the intended words;\n",
    "    * pairs (bool): if True, (UG, SF) pairs will be returned, if False, only\n",
    "                    the surface forms.\n",
    "                    \n",
    "    Outputs:\n",
    "    * str/tuple: a string or a tuple of strings (depending on the parameter \n",
    "                 `pairs`) representing the application of the word-final \n",
    "                 devoicing.\n",
    "    \"\"\"\n",
    "    if length < 1:\n",
    "        raise ValueError(\"The string has a very weird length.\")\n",
    "        \n",
    "    before, after = devoice\n",
    "    string = \"\".join([choice(sigma) for i in range(length)])\n",
    "    \n",
    "    if string[-1] not in before:\n",
    "        return (string, string) if pairs else string\n",
    "    \n",
    "    devoiced = string[:-1] + after[before.index(string[-1])]\n",
    "    return (string, devoiced) if pairs else devoiced"
   ]
  },
  {
   "cell_type": "code",
   "execution_count": 29,
   "metadata": {},
   "outputs": [],
   "source": [
    "def generate_wfd(n = 10, sigma = (\"a\", \"b\", \"p\"), devoice = ((\"b\"), (\"p\")),\n",
    "                 length = 10, pairs = False):\n",
    "    \"\"\"\n",
    "    Generates a set of strings or pairs that satisfy the rule of\n",
    "    the word-final devoicing.\n",
    "    \n",
    "    Arguments:\n",
    "    * n (int): the number of strings that need to be generated;\n",
    "    ... for the rest of the arguments see word_final_devoicing.\n",
    "    \n",
    "    Outputs:\n",
    "    * list: a list of strings or tuples (depending on the parameter `pairs`)\n",
    "            representing the application of the word-final devoicing.\n",
    "    \"\"\"\n",
    "    return [word_final_devoicing(sigma, devoice, length, pairs) for i in range(n)]"
   ]
  },
  {
   "cell_type": "markdown",
   "metadata": {},
   "source": [
    "The following functions `evaluate_wfd_words` and `evaluate_wfd_pairs` evaluate words and pairs of words with respect to the rules of the word-final devoicing."
   ]
  },
  {
   "cell_type": "code",
   "execution_count": 30,
   "metadata": {},
   "outputs": [],
   "source": [
    "def evaluate_wfd_words(data, voiced = (\"b\")):\n",
    "    \"\"\"\n",
    "    Evaluates the provided words with respect to the rule \n",
    "    of the word-final devoicing.\n",
    "    \n",
    "    Arguments:\n",
    "    * data (list[str]): a list of strings tht need to be evaluated;\n",
    "    * voiced (tuple[char]): a list of voiced characters, i.e. those\n",
    "                            that cannot be word-final.\n",
    "                       \n",
    "    Results:\n",
    "    * Prints the report that shows if the data follows the rule.\n",
    "    \"\"\"\n",
    "    correct = 0\n",
    "    for w in data:\n",
    "        \n",
    "        if not len(w):\n",
    "            correct += 1\n",
    "            continue\n",
    "            \n",
    "        correct = (correct + 1) if w[-1] not in voiced else correct\n",
    "        \n",
    "    ratio = (correct / len(data))\n",
    "    print(f\"Percentage of well-formed words: {int(ratio * 100)}%.\")"
   ]
  },
  {
   "cell_type": "code",
   "execution_count": 31,
   "metadata": {},
   "outputs": [],
   "source": [
    "def evaluate_wfd_pairs(data, devoice = ((\"b\"), (\"p\"))):\n",
    "    \"\"\"\n",
    "    Evaluates the provided pairs with respect to the rule \n",
    "    of the word-final devoicing.\n",
    "    \n",
    "    Arguments:\n",
    "    * data (list[str]): a list of strings tht need to be evaluated;\n",
    "    * voiced (tuple[char]): a list of voiced characters, i.e. those\n",
    "                            that cannot be word-final.\n",
    "                       \n",
    "    Results:\n",
    "    * Prints the report that shows if the data follows the rule.\n",
    "    \"\"\"\n",
    "    correct = 0\n",
    "    before, after = devoice\n",
    "    \n",
    "    for w in data:\n",
    "        \n",
    "        UR, SF = w\n",
    "        assert len(UR) == len(SF)\n",
    "        \n",
    "        if not len(UR):\n",
    "            correct += 1\n",
    "            continue\n",
    "        \n",
    "        if UR[-1] not in before:\n",
    "            correct = (correct + 1) if UR == SF else correct\n",
    "            continue\n",
    "        \n",
    "        SF_bar = UR[:-1] + after[before.index(UR[-1])]\n",
    "        correct = (correct + 1) if SF == SF_bar else correct\n",
    "        \n",
    "    ratio = (correct / len(data))\n",
    "    print(f\"Percentage of well-formed words: {int(ratio * 100)}%.\")"
   ]
  },
  {
   "cell_type": "markdown",
   "metadata": {},
   "source": [
    "As before, we can generate some words or pairs of words representing the rule of the word-final devoicing, and then check if the evaluator considers that those datasets are well-formed."
   ]
  },
  {
   "cell_type": "code",
   "execution_count": 32,
   "metadata": {},
   "outputs": [
    {
     "name": "stdout",
     "output_type": "stream",
     "text": [
      "Percentage of well-formed words: 100%.\n",
      "Percentage of well-formed words: 100%.\n"
     ]
    }
   ],
   "source": [
    "evaluate_wfd_words(generate_wfd(n = 1000, pairs = False))\n",
    "evaluate_wfd_pairs(generate_wfd(n = 1000, pairs = True))"
   ]
  },
  {
   "cell_type": "markdown",
   "metadata": {},
   "source": [
    "## Step 6: UTP generator and evalurator\n",
    "\n",
    "The function `generate_tonal_pattern` takes a length of the string that needs to be generated, and returns a random string of raising (H) and falling (L) tones as output. `utp_tones` takes that string of tones as input, and rewrites it according to the UTP rules: no L tones are allowed in-between two H tones."
   ]
  },
  {
   "cell_type": "code",
   "execution_count": 33,
   "metadata": {},
   "outputs": [],
   "source": [
    "def generate_tonal_pattern(length = 5):\n",
    "    \"\"\" Generates a random sequence of tones of a given length. \"\"\"\n",
    "    return \"\".join(choice([\"H\", \"L\"]) for i in range(length))"
   ]
  },
  {
   "cell_type": "code",
   "execution_count": 34,
   "metadata": {},
   "outputs": [],
   "source": [
    "def utp_tones(string):\n",
    "    \"\"\" Rewrites a tonal string with respect to the rules of UTP. \"\"\"\n",
    "    \n",
    "    if set(string) not in [{\"H\", \"L\"}, {\"H\"}, {\"L\"}, set(\"\")]:\n",
    "        print(string)\n",
    "        raise ValueError(\"Unexpected symbols in the tonal string!\")\n",
    "    if not (\"H\" in string and \"L\" in string):\n",
    "        return string\n",
    "    \n",
    "    first_h = string.find(\"H\")\n",
    "    last_h = len(string) - string[::-1].find(\"H\")\n",
    "    return string[:first_h] + \"H\" * (last_h - first_h) + string[last_h:]"
   ]
  },
  {
   "cell_type": "markdown",
   "metadata": {},
   "source": [
    "Then, `generate_utp_strings` and `generate_utp_pairs` generate strings and pairs (UR -> SF) of tones that are well-formed accroding to the rules of UTP. As before, `n` signifies the number of strings that need to be generated, and `length` is the length of those strings."
   ]
  },
  {
   "cell_type": "code",
   "execution_count": 35,
   "metadata": {},
   "outputs": [],
   "source": [
    "def generate_utp_strings(n = 10, length = 5):\n",
    "    \"\"\" Generates n strings of tones that follow UTP rules. \"\"\"\n",
    "    return [utp_tones(generate_tonal_pattern(length)) for i in range(n)]"
   ]
  },
  {
   "cell_type": "code",
   "execution_count": 36,
   "metadata": {},
   "outputs": [],
   "source": [
    "def generate_utp_pairs(n = 10, length = 5):\n",
    "    \"\"\" Generates n pairs of tones (UR -> SF) that follow UTP rules. \"\"\"\n",
    "    pairs = []\n",
    "    for i in range(n):\n",
    "        before = generate_tonal_pattern(length)\n",
    "        pairs.append((before, utp_tones(before)))\n",
    "    return pairs"
   ]
  },
  {
   "cell_type": "markdown",
   "metadata": {},
   "source": [
    "Finally, `evaluate_utp_strings` and `evaluate_utp_pairs` calculate what is the percentage of the input data (strings or pairs of strings) is well-formed with respect to the rules of UTP."
   ]
  },
  {
   "cell_type": "code",
   "execution_count": 37,
   "metadata": {},
   "outputs": [],
   "source": [
    "def evaluate_utp_strings(data):\n",
    "    \"\"\" Evaluates the correctness of if the given sample of tonal strings. \"\"\"\n",
    "    correct = 0\n",
    "    for w in data:\n",
    "        correct = (correct + 1) if utp_tones(w) == w else correct\n",
    "        \n",
    "    ratio = (correct / len(data))\n",
    "    print(f\"Percentage of well-formed tonal layers: {int(ratio * 100)}%.\")\n",
    "    \n",
    "    \n",
    "def evaluate_utp_pairs(data):\n",
    "    \"\"\"\n",
    "    Evaluates the correctness of if the given sample\n",
    "    of tonal pairs (UR -> SF).\n",
    "    \"\"\"\n",
    "    correct = 0\n",
    "    for pair in data:\n",
    "        before, after = pair\n",
    "        \n",
    "        if len(set(after)) > 2:\n",
    "            continue\n",
    "            \n",
    "        correct = (correct + 1) if utp_tones(before) == after else correct\n",
    "        \n",
    "    ratio = (correct / len(data))\n",
    "    print(f\"Percentage of well-formed tonal layers: {int(ratio * 100)}%.\")"
   ]
  },
  {
   "cell_type": "markdown",
   "metadata": {},
   "source": [
    "As before, we can verify the correctness of the generator using the evaluation functions."
   ]
  },
  {
   "cell_type": "code",
   "execution_count": 38,
   "metadata": {},
   "outputs": [
    {
     "name": "stdout",
     "output_type": "stream",
     "text": [
      "Percentage of well-formed tonal layers: 100%.\n",
      "Percentage of well-formed tonal layers: 100%.\n"
     ]
    }
   ],
   "source": [
    "evaluate_utp_strings(generate_utp_strings(n = 1000))\n",
    "evaluate_utp_pairs(generate_utp_pairs(n = 1000))"
   ]
  },
  {
   "cell_type": "markdown",
   "metadata": {},
   "source": [
    "## Step 7: First-last harmony generators and evaluators"
   ]
  },
  {
   "cell_type": "code",
   "execution_count": 39,
   "metadata": {},
   "outputs": [],
   "source": [
    "def first_last_UR(n = 10, length = 10):\n",
    "    \"\"\" Generates URs of first-last harmony words. \"\"\"\n",
    "    strings = []\n",
    "    for i in range(n):\n",
    "        new = choice([\"a\", \"o\"])\n",
    "        new += \"\".join([choice([\"a\", \"o\", \"x\"]) for j in range(length - 2)])\n",
    "        new += choice([\"a\", \"o\"])\n",
    "        strings.append(new)\n",
    "    return strings\n",
    "\n",
    "def first_last(string):\n",
    "    \"\"\" Makes the first and the last segment of the string the same. \"\"\"\n",
    "    return string[:-1] + string[0]\n",
    "\n",
    "def first_last_words(n = 10, length = 10):\n",
    "    \"\"\" Generates N first-last words. \"\"\"\n",
    "    return [first_last(w) for w in first_last_UR(n, length)]\n",
    "\n",
    "def first_last_pairs(n = 10, length = 10):\n",
    "    \"\"\" Generates N first-last pairs of words. \"\"\"\n",
    "    URs = first_last_UR(n, length)\n",
    "    pairs = []\n",
    "    for ur in URs:\n",
    "        pairs.append((ur, first_last(ur)))\n",
    "    return pairs"
   ]
  },
  {
   "cell_type": "code",
   "execution_count": 40,
   "metadata": {},
   "outputs": [],
   "source": [
    "def evaluate_first_last_words(data):\n",
    "    \"\"\"\n",
    "    Evaluates the correctness of if the given sample\n",
    "    of first-last harmony (UR -> SF).\n",
    "    \"\"\"\n",
    "    newdata = [i for i in data if len(i) > 1]\n",
    "    correct = 0\n",
    "    for w in newdata:\n",
    "        if w[0] == w[-1]:\n",
    "            correct += 1\n",
    "        \n",
    "    ratio = (correct / len(newdata))\n",
    "    print(f\"Percentage of first-last harmonic words: {int(ratio * 100)}%.\")\n",
    "    \n",
    "    \n",
    "def evaluate_first_last_pairs(data):\n",
    "    \"\"\"\n",
    "    Evaluates the correctness of if the given sample\n",
    "    of first-last harmony (UR -> SF).\n",
    "    \"\"\"\n",
    "    newdata = [i for i in data if len(i) > 1]\n",
    "    correct = 0\n",
    "    for pair in newdata:\n",
    "        if first_last(pair[0]) == pair[1]:\n",
    "            correct += 1\n",
    "        \n",
    "    ratio = (correct / len(newdata))\n",
    "    print(f\"Percentage of first-last harmonic words: {int(ratio * 100)}%.\")"
   ]
  },
  {
   "cell_type": "markdown",
   "metadata": {},
   "source": [
    "### Quick helper functions"
   ]
  },
  {
   "cell_type": "code",
   "execution_count": 41,
   "metadata": {},
   "outputs": [],
   "source": [
    "def test_fst(fst, testdata):\n",
    "    success, failure = [], []\n",
    "    n = 0\n",
    "    for i in testdata:\n",
    "        if fst.rewrite(i[0]) == i[1]:\n",
    "            success.append(i)\n",
    "            n += 1\n",
    "        else:\n",
    "            failure.append([i, fst.rewrite(i[0])])\n",
    "    print(\"Score:\", str(n / len(testdata) * 100) + \"%\")\n",
    "    return success, failure"
   ]
  },
  {
   "cell_type": "code",
   "execution_count": 42,
   "metadata": {},
   "outputs": [],
   "source": [
    "from random import randint"
   ]
  },
  {
   "cell_type": "markdown",
   "metadata": {},
   "source": [
    "# Preparing the training samples\n",
    "\n",
    "## Dataset 1: word-final devoicing"
   ]
  },
  {
   "cell_type": "code",
   "execution_count": 42,
   "metadata": {},
   "outputs": [
    {
     "name": "stdout",
     "output_type": "stream",
     "text": [
      "[('baa', 'baa'), ('app', 'app'), ('paapp', 'paapp'), ('b', 'p'), ('baab', 'baap'), ('b', 'p'), ('apabp', 'apabp'), ('abbpp', 'abbpp'), ('bpabp', 'bpabp'), ('bpba', 'bpba'), ('ap', 'ap'), ('ba', 'ba'), ('ppppb', 'ppppp'), ('a', 'a'), ('pp', 'pp')]\n"
     ]
    }
   ],
   "source": [
    "wfd_data = lambda x, y: [word_final_devoicing(sigma = (\"a\", \"b\", \"p\"), devoice = ((\"b\"), (\"p\")), \n",
    "                                           length = y, pairs = True) for i in range(x)]\n",
    "\n",
    "data_1 = []\n",
    "for i in range(1500):\n",
    "    new = word_final_devoicing(sigma = (\"a\", \"b\", \"p\"), devoice = ((\"b\"), (\"p\")),\n",
    "                               length = randint(1, 5), pairs = True)\n",
    "    data_1.append(new)\n",
    "\n",
    "test_1 = []\n",
    "for i in range(1000):\n",
    "    new = word_final_devoicing(sigma = (\"a\", \"b\", \"p\"), devoice = ((\"b\"), (\"p\")),\n",
    "                               length = randint(1, 5), pairs = True)\n",
    "    test_1.append(new)\n",
    "\n",
    "    \n",
    "sigma1 = [\"a\", \"b\", \"p\"]\n",
    "gamma1 = [\"a\", \"b\", \"p\"]\n",
    "\n",
    "print(data_1[:15])"
   ]
  },
  {
   "cell_type": "code",
   "execution_count": 43,
   "metadata": {},
   "outputs": [],
   "source": [
    "o1 = ostia(data_1, sigma1, gamma1)"
   ]
  },
  {
   "cell_type": "code",
   "execution_count": 44,
   "metadata": {},
   "outputs": [
    {
     "name": "stdout",
     "output_type": "stream",
     "text": [
      "Score: 100.0%\n",
      "Success: [('pp', 'pp'), ('abapa', 'abapa'), ('bbab', 'bbap'), ('a', 'a'), ('pbpba', 'pbpba'), ('pba', 'pba'), ('b', 'p'), ('ap', 'ap'), ('paaa', 'paaa'), ('bb', 'bp'), ('apab', 'apap'), ('bb', 'bp'), ('bba', 'bba'), ('a', 'a'), ('aabpa', 'aabpa')]\n",
      "Failure: []\n"
     ]
    }
   ],
   "source": [
    "success, failure = test_fst(o1, test_1)\n",
    "print(\"Success:\", success[:15])\n",
    "print(\"Failure:\", failure[:15])"
   ]
  },
  {
   "cell_type": "code",
   "execution_count": 45,
   "metadata": {},
   "outputs": [
    {
     "data": {
      "text/plain": [
       "6"
      ]
     },
     "execution_count": 45,
     "metadata": {},
     "output_type": "execute_result"
    }
   ],
   "source": [
    "len(o1.E)"
   ]
  },
  {
   "cell_type": "code",
   "execution_count": 46,
   "metadata": {},
   "outputs": [
    {
     "data": {
      "text/plain": [
       "2"
      ]
     },
     "execution_count": 46,
     "metadata": {},
     "output_type": "execute_result"
    }
   ],
   "source": [
    "len(o1.stout)"
   ]
  },
  {
   "cell_type": "code",
   "execution_count": 47,
   "metadata": {},
   "outputs": [
    {
     "name": "stdout",
     "output_type": "stream",
     "text": [
      "Score: 100.0%\n",
      "Success: [('appaab', 'appaap'), ('apppbbaapb', 'apppbbaapp'), ('appbbbp', 'appbbbp'), ('ppbapbbaa', 'ppbapbbaa'), ('ppbppba', 'ppbppba'), ('babpbppbap', 'babpbppbap'), ('pabpbabaa', 'pabpbabaa'), ('appbbbb', 'appbbbp'), ('aaaaa', 'aaaaa'), ('ppabapabap', 'ppabapabap'), ('aabpappp', 'aabpappp'), ('abapa', 'abapa'), ('pbaapapbb', 'pbaapapbp'), ('bbbpbap', 'bbbpbap'), ('pppapbpp', 'pppapbpp')]\n",
      "Failure: []\n"
     ]
    }
   ],
   "source": [
    "test_11 = []\n",
    "for i in range(1000):\n",
    "    new = word_final_devoicing(sigma = (\"a\", \"b\", \"p\"), devoice = ((\"b\"), (\"p\")),\n",
    "                               length = randint(5, 10), pairs = True)\n",
    "    test_11.append(new)\n",
    "success, failure = test_fst(o1, test_11)\n",
    "print(\"Success:\", success[:15])\n",
    "print(\"Failure:\", failure[:15])"
   ]
  },
  {
   "cell_type": "markdown",
   "metadata": {},
   "source": [
    "## Dataset 2: one harmony, no blockers"
   ]
  },
  {
   "cell_type": "code",
   "execution_count": 48,
   "metadata": {
    "scrolled": true
   },
   "outputs": [
    {
     "name": "stdout",
     "output_type": "stream",
     "text": [
      "[('xx', 'xx'), ('xxaxxAA', 'xxaxxaa'), ('axA', 'axa'), ('axxAxxA', 'axxaxxa'), ('xaxxxAxx', 'xaxxxaxx'), ('xoA', 'xoo'), ('xx', 'xx'), ('axAA', 'axaa'), ('oAxAAx', 'ooxoox'), ('xoAxxAxx', 'xooxxoxx'), ('aAxxxAAxx', 'aaxxxaaxx'), ('axxAAx', 'axxaax'), ('oA', 'oo'), ('xxoxxx', 'xxoxxx'), ('xxo', 'xxo')]\n"
     ]
    }
   ],
   "source": [
    "a = {(\"a\", \"o\"):\"A\", (\"x\"):\"X\"}\n",
    "b = ({\"A\":(1, 2), \"X\":(1, 3)})\n",
    "h = Harmony(a, b)\n",
    "\n",
    "data_2 = []\n",
    "for i in range(5000):\n",
    "    data_2.extend(h.generate_pairs(n = 1, length = randint(1, 10)))\n",
    "    \n",
    "test_2 = []\n",
    "for i in range(1000):\n",
    "    test_2.extend(h.generate_pairs(n = 1, length = randint(1, 10)))\n",
    "\n",
    "sigma2 = [\"a\", \"o\", \"A\", \"x\"]\n",
    "gamma2 = [\"a\", \"o\", \"x\"]\n",
    "\n",
    "print(data_2[:15])"
   ]
  },
  {
   "cell_type": "code",
   "execution_count": 49,
   "metadata": {},
   "outputs": [],
   "source": [
    "o2 = ostia(data_2, sigma2, gamma2)"
   ]
  },
  {
   "cell_type": "code",
   "execution_count": 50,
   "metadata": {
    "scrolled": true
   },
   "outputs": [
    {
     "name": "stdout",
     "output_type": "stream",
     "text": [
      "Score: 100.0%\n",
      "Success: [('oxxAAxAA', 'oxxooxoo'), ('oxxxAxAxAA', 'oxxxoxoxoo'), ('oxxAAxxxAA', 'oxxooxxxoo'), ('oxxAxxx', 'oxxoxxx'), ('xxaAxAA', 'xxaaxaa'), ('axA', 'axa'), ('axAxxAx', 'axaxxax'), ('oA', 'oo'), ('oxAA', 'oxoo'), ('xxxoxx', 'xxxoxx'), ('xxxoAxx', 'xxxooxx'), ('xxo', 'xxo'), ('xxa', 'xxa'), ('xxoA', 'xxoo'), ('xa', 'xa')]\n",
      "Failure: []\n"
     ]
    }
   ],
   "source": [
    "success, failure = test_fst(o2, test_2)\n",
    "print(\"Success:\", success[:15])\n",
    "print(\"Failure:\", failure[:15])"
   ]
  },
  {
   "cell_type": "code",
   "execution_count": 51,
   "metadata": {},
   "outputs": [
    {
     "data": {
      "text/plain": [
       "30"
      ]
     },
     "execution_count": 51,
     "metadata": {},
     "output_type": "execute_result"
    }
   ],
   "source": [
    "len(o2.E)"
   ]
  },
  {
   "cell_type": "code",
   "execution_count": 52,
   "metadata": {},
   "outputs": [
    {
     "data": {
      "text/plain": [
       "12"
      ]
     },
     "execution_count": 52,
     "metadata": {},
     "output_type": "execute_result"
    }
   ],
   "source": [
    "len(o2.stout)"
   ]
  },
  {
   "cell_type": "code",
   "execution_count": 53,
   "metadata": {},
   "outputs": [
    {
     "name": "stdout",
     "output_type": "stream",
     "text": [
      "Score: 100.0%\n",
      "Success: [('aAxxAxxxAxxAAxxAA', 'aaxxaxxxaxxaaxxaa'), ('xxoAxxAxAAxxxAxxAA', 'xxooxxoxooxxxoxxoo'), ('aAxxxAxAxAxxAxxAA', 'aaxxxaxaxaxxaxxaa'), ('oAxxxAxxAAxxAxA', 'ooxxxoxxooxxoxo'), ('xxxaAxAAxAxAAxxA', 'xxxaaxaaxaxaaxxa'), ('axxAAxxxAAxxAxxxAxAA', 'axxaaxxxaaxxaxxxaxaa'), ('xxaAxAAxxxAAxAxAxAAx', 'xxaaxaaxxxaaxaxaxaax'), ('xxaxxAxAAxxxAAxx', 'xxaxxaxaaxxxaaxx'), ('oAxxxAAxxAxxAAxxAA', 'ooxxxooxxoxxooxxoo'), ('xaxxAAxAAxxxAxxAAx', 'xaxxaaxaaxxxaxxaax'), ('xxxaAxAAxAxxAAxxA', 'xxxaaxaaxaxxaaxxa'), ('xaxxAAxAxAxxAAxxA', 'xaxxaaxaxaxxaaxxa'), ('xxaAxxAxxAxxxAxxAAxx', 'xxaaxxaxxaxxxaxxaaxx'), ('xaAxxxAAxxAAxxAA', 'xaaxxxaaxxaaxxaa'), ('aAxxxAxAxxAAxAAxxx', 'aaxxxaxaxxaaxaaxxx')]\n",
      "Failure: []\n"
     ]
    }
   ],
   "source": [
    "test_22 = []\n",
    "for i in range(1000):\n",
    "    test_22.extend(h.generate_pairs(n = 1, length = randint(15, 20)))\n",
    "success, failure = test_fst(o2, test_22)\n",
    "print(\"Success:\", success[:15])\n",
    "print(\"Failure:\", failure[:15])"
   ]
  },
  {
   "cell_type": "markdown",
   "metadata": {},
   "source": [
    "## Dataset 3: one harmony with blockers"
   ]
  },
  {
   "cell_type": "code",
   "execution_count": 54,
   "metadata": {},
   "outputs": [
    {
     "name": "stdout",
     "output_type": "stream",
     "text": [
      "[('oAxxxAx', 'ooxxxox'), ('ffxxxaxx', 'ffxxxaxx'), ('aAxxx', 'aaxxx'), ('faxxxAAfxx', 'faxxxaafxx'), ('xxoAfx', 'xxoofx'), ('oAf', 'oof'), ('xxxaA', 'xxxaa'), ('oAxxxAAxA', 'ooxxxooxo'), ('f', 'f'), ('fxxx', 'fxxx'), ('xaAfAAxx', 'xaafaaxx'), ('xxafxAAxxx', 'xxafxaaxxx'), ('xxxoA', 'xxxoo'), ('xxa', 'xxa'), ('x', 'x')]\n"
     ]
    }
   ],
   "source": [
    "a = {(\"a\", \"o\"):\"A\", (\"x\"):\"X\"}\n",
    "b = ({\"A\":(1, 2), \"X\":(1, 3)})\n",
    "c = {\"f\":\"a\"}\n",
    "d = 5\n",
    "h = Harmony(a, b, c, d)\n",
    "\n",
    "data_3 = []\n",
    "for i in range(5000):\n",
    "    data_3.extend(h.generate_pairs(n = 1, length = randint(1, 10)))\n",
    "    \n",
    "test_3 = []\n",
    "for i in range(1000):\n",
    "    test_3.extend(h.generate_pairs(n = 1, length = randint(1, 10)))\n",
    "    \n",
    "sigma3 = [\"a\", \"o\", \"A\", \"x\", \"f\"]\n",
    "gamma3 = [\"a\", \"o\", \"x\", \"f\"]\n",
    "\n",
    "print(data_3[:15])"
   ]
  },
  {
   "cell_type": "code",
   "execution_count": 55,
   "metadata": {
    "scrolled": true
   },
   "outputs": [],
   "source": [
    "o3 = ostia(data_3, sigma3, gamma3)"
   ]
  },
  {
   "cell_type": "code",
   "execution_count": 56,
   "metadata": {},
   "outputs": [
    {
     "name": "stdout",
     "output_type": "stream",
     "text": [
      "Score: 98.9%\n",
      "Success: [('axx', 'axx'), ('ax', 'ax'), ('oAfA', 'oofa'), ('xxxaAx', 'xxxaax'), ('xx', 'xx'), ('xoAfA', 'xoofa'), ('xxxoxAfxA', 'xxxoxofxa'), ('faAfA', 'faafa'), ('oAxxx', 'ooxxx'), ('faAxxxf', 'faaxxxf'), ('aA', 'aa'), ('afxxA', 'afxxa'), ('ffxaA', 'ffxaa'), ('xxoxAAx', 'xxoxoox'), ('faxxx', 'faxxx')]\n",
      "Failure: [[('xaAfAxxxAA', 'xaafaxxxaa'), 'xaafaxxxoo'], [('faxAfAA', 'faxafaa'), 'faxafxaa'], [('xxffxxfaA', 'xxffxxfaa'), 'xxffxxfa'], [('xxaAxfxxxA', 'xxaaxfxxxa'), 'xxaaxfxxxo'], [('xxfxxaxAfA', 'xxfxxaxafa'), 'xxfxxaxofa'], [('ffafxAAxxx', 'ffafxaaxxx'), 'ffafxafaxxaxxx'], [('fxxxfxafAA', 'fxxxfxafaa'), 'fxxxfxaaa'], [('xxffffaxx', 'xxffffaxx'), 'xxffffafaaxx'], [('fffxffa', 'fffxffa'), 'fffxffaa'], [('fxfxxaA', 'fxfxxaa'), 'fxfxxax'], [('xfffxxaAxf', 'xfffxxaaxf'), 'xfffxxaxxf']]\n"
     ]
    }
   ],
   "source": [
    "success, failure = test_fst(o3, test_3)\n",
    "print(\"Success:\", success[:15])\n",
    "print(\"Failure:\", failure[:15])"
   ]
  },
  {
   "cell_type": "code",
   "execution_count": 57,
   "metadata": {},
   "outputs": [
    {
     "data": {
      "text/plain": [
       "263"
      ]
     },
     "execution_count": 57,
     "metadata": {},
     "output_type": "execute_result"
    }
   ],
   "source": [
    "len(o3.E)"
   ]
  },
  {
   "cell_type": "code",
   "execution_count": 58,
   "metadata": {},
   "outputs": [
    {
     "data": {
      "text/plain": [
       "76"
      ]
     },
     "execution_count": 58,
     "metadata": {},
     "output_type": "execute_result"
    }
   ],
   "source": [
    "len(o3.stout)"
   ]
  },
  {
   "cell_type": "code",
   "execution_count": 59,
   "metadata": {},
   "outputs": [
    {
     "name": "stdout",
     "output_type": "stream",
     "text": [
      "Score: 92.30000000000001%\n",
      "Success: [('oxxAxxxAAxxxAxxxA', 'oxxoxxxooxxxoxxxo'), ('axxAxxAfxxfxxxf', 'axxaxxafxxfxxxf'), ('oAfxxxAxxxfAAxxAfA', 'oofxxxaxxxfaaxxafa'), ('fffxxfafxxxAfxx', 'fffxxfafxxxafxx'), ('xxxfxxaAxfxxfxf', 'xxxfxxaaxfxxfxf'), ('affAxxfAffxxAxxAxxx', 'affaxxfaffxxaxxaxxx'), ('xxaAxxAxxAAxAxxxAA', 'xxaaxxaxxaaxaxxxaa'), ('xoAfAAxxxfxxAAfAAxxA', 'xoofaaxxxfxxaafaaxxa'), ('xaxxfxfAxxAfAxxxAxx', 'xaxxfxfaxxafaxxxaxx'), ('xaxAxfAAffAxxxfAAxxf', 'xaxaxfaaffaxxxfaaxxf'), ('axAxAAxAAxAAxxxAA', 'axaxaaxaaxaaxxxaa'), ('faAxxxAAxxxAAffAAxA', 'faaxxxaaxxxaaffaaxa'), ('xafxxxAxxxAAxAxxxAA', 'xafxxxaxxxaaxaxxxaa'), ('xxxaffAfAfxxAxx', 'xxxaffafafxxaxx'), ('aAxxAAxAAxxAxxAxxx', 'aaxxaaxaaxxaxxaxxx')]\n",
      "Failure: [[('oxxxAxAAxxfAAxAxAAxx', 'oxxxoxooxxfaaxaxaaxx'), 'oxxxoxooxxfaaxoxooxx'], [('faxAfxAAxxxAAxxAA', 'faxafxaaxxxaaxxaa'), 'faxafxaxaxxxaaxxaa'], [('aAxAAxAfAfxfxxxA', 'aaxaaxafafxfxxxa'), 'aaxaaxafafxfxxxo'], [('xfffaxAAxxAAxxAAx', 'xfffaxaaxxaaxxaax'), 'xfffaxooxxooxxoox'], [('xxaxxAxAxxffxxxAA', 'xxaxxaxaxxffxxxaa'), 'xxaxxaxaxxffxxxoo'], [('xaxxAAffAxxAAxAf', 'xaxxaaffaxxaaxaf'), 'xaxxaaffaxxooxof'], [('aAxxxAxxffxAAxxxAAf', 'aaxxxaxxffxaaxxxaaf'), 'aaxxxaxxffxooxxxoof'], [('xaAxfxxxAffAxxAxf', 'xaaxfxxxaffaxxaxf'), 'xaaxfxxxoffaxxaxf'], [('xxaAxxAAxAfxAAxx', 'xxaaxxaaxafxaaxx'), 'xxaaxxaaxafxooxx'], [('ofxxAxxxAAxxAAf', 'ofxxaxxxaaxxaaf'), 'ofxxaxxxooxxoof'], [('xxfaAxAfxAxxfAxxAf', 'xxfaaxafxaxxfaxxaf'), 'xxfaaxafxoxxfaxxaf'], [('xxffxxxaxxxAxxx', 'xxffxxxaxxxaxxx'), 'xxffxxxaxxxoxxx'], [('oxxAxxAffffxxAfx', 'oxxoxxoffffxxafx'), 'oxxoxxoffffxxofx'], [('xxaAxxxAfxxxAAxxxA', 'xxaaxxxafxxxaaxxxa'), 'xxaaxxxafxxxooxxxo'], [('faxxxAxxfxxxAxf', 'faxxxaxxfxxxaxf'), 'faxxxaxxfxxxoxf']]\n"
     ]
    }
   ],
   "source": [
    "test_33 = []\n",
    "for i in range(1000):\n",
    "    test_33.extend(h.generate_pairs(n = 1, length = randint(15, 20)))\n",
    "success, failure = test_fst(o3, test_33)\n",
    "print(\"Success:\", success[:15])\n",
    "print(\"Failure:\", failure[:15])"
   ]
  },
  {
   "cell_type": "markdown",
   "metadata": {},
   "source": [
    "## Dataset 4: double harmony, no blockers"
   ]
  },
  {
   "cell_type": "code",
   "execution_count": 60,
   "metadata": {},
   "outputs": [
    {
     "name": "stdout",
     "output_type": "stream",
     "text": [
      "[('xxoAxAxxxA', 'xxooxoxxxo'), ('xxexxAAxx', 'xxexxeexx'), ('xexxAA', 'xexxee'), ('aAxx', 'aaxx'), ('xxxa', 'xxxa'), ('xaAxAAxAxx', 'xaaxaaxaxx'), ('oAxxAAx', 'ooxxoox'), ('uAxAxxx', 'uuxuxxx'), ('xxx', 'xxx'), ('aAxxxAxA', 'aaxxxaxa'), ('aAxxxAAxxx', 'aaxxxaaxxx'), ('eA', 'ee'), ('eAxxAAx', 'eexxeex'), ('aAx', 'aax'), ('xxx', 'xxx')]\n"
     ]
    }
   ],
   "source": [
    "a = {(\"a\", \"o\", \"e\", \"u\"):\"A\", (\"x\"):\"X\"}\n",
    "b = ({\"A\":(1, 2), \"X\":(1, 3)})\n",
    "h = Harmony(a, b)\n",
    "\n",
    "data_4 = []\n",
    "for i in range(5000):\n",
    "    data_4.extend(h.generate_pairs(n = 1, length = randint(1, 10)))\n",
    "    \n",
    "test_4 = []\n",
    "for i in range(1000):\n",
    "    test_4.extend(h.generate_pairs(n = 1, length = randint(1, 10)))\n",
    "\n",
    "sigma4 = [\"a\", \"o\", \"e\", \"u\", \"A\", \"x\"]\n",
    "gamma4 = [\"a\", \"o\", \"e\", \"u\", \"x\"]\n",
    "\n",
    "print(data_4[:15])"
   ]
  },
  {
   "cell_type": "code",
   "execution_count": 61,
   "metadata": {},
   "outputs": [],
   "source": [
    "o4 = ostia(data_4, sigma4, gamma4)"
   ]
  },
  {
   "cell_type": "code",
   "execution_count": 62,
   "metadata": {},
   "outputs": [
    {
     "name": "stdout",
     "output_type": "stream",
     "text": [
      "Score: 100.0%\n",
      "Success: [('oxx', 'oxx'), ('xxx', 'xxx'), ('uAxxAAxxAA', 'uuxxuuxxuu'), ('xxexxxAA', 'xxexxxee'), ('xxax', 'xxax'), ('xxaxxAA', 'xxaxxaa'), ('ax', 'ax'), ('xxxuAxxA', 'xxxuuxxu'), ('aAxAxxxAA', 'aaxaxxxaa'), ('xxxuxxA', 'xxxuxxu'), ('exxxAxxAAx', 'exxxexxeex'), ('xxx', 'xxx'), ('oAxx', 'ooxx'), ('aA', 'aa'), ('eAxAAx', 'eexeex')]\n",
      "Failure: []\n"
     ]
    }
   ],
   "source": [
    "success, failure = test_fst(o4, test_4)\n",
    "print(\"Success:\", success[:15])\n",
    "print(\"Failure:\", failure[:15])"
   ]
  },
  {
   "cell_type": "code",
   "execution_count": 63,
   "metadata": {},
   "outputs": [
    {
     "data": {
      "text/plain": [
       "96"
      ]
     },
     "execution_count": 63,
     "metadata": {},
     "output_type": "execute_result"
    }
   ],
   "source": [
    "len(o4.E)"
   ]
  },
  {
   "cell_type": "code",
   "execution_count": 64,
   "metadata": {},
   "outputs": [
    {
     "data": {
      "text/plain": [
       "40"
      ]
     },
     "execution_count": 64,
     "metadata": {},
     "output_type": "execute_result"
    }
   ],
   "source": [
    "len(o4.stout)"
   ]
  },
  {
   "cell_type": "code",
   "execution_count": 65,
   "metadata": {},
   "outputs": [
    {
     "name": "stdout",
     "output_type": "stream",
     "text": [
      "Score: 100.0%\n",
      "Success: [('uAxxxAxxxAxxxAA', 'uuxxxuxxxuxxxuu'), ('xxaAxxAxxxAxxAAxAxAA', 'xxaaxxaxxxaxxaaxaxaa'), ('uAxAAxxxAxxxAAxxAxA', 'uuxuuxxxuxxxuuxxuxu'), ('uxxAxxxAAxxAxxAxxAxA', 'uxxuxxxuuxxuxxuxxuxu'), ('uAxxxAxxxAAxxxAAxxA', 'uuxxxuxxxuuxxxuuxxu'), ('xxxexxAAxAAxxxAAxx', 'xxxexxeexeexxxeexx'), ('exAxxAAxxxAxAAxxxAAx', 'exexxeexxxexeexxxeex'), ('oAxxxAxxxAxAxAxx', 'ooxxxoxxxoxoxoxx'), ('xexAAxxxAxxAAxAAxAxA', 'xexeexxxexxeexeexexe'), ('xaAxAAxxxAAxxAxx', 'xaaxaaxxxaaxxaxx'), ('xaxxxAxxAAxxxAxAxxAx', 'xaxxxaxxaaxxxaxaxxax'), ('aAxAAxAxAAxxxAAxxAAx', 'aaxaaxaxaaxxxaaxxaax'), ('xxxuxxxAAxxAxxAxAAxx', 'xxxuxxxuuxxuxxuxuuxx'), ('xxxexAxxAxxAAxxAAxAA', 'xxxexexxexxeexxeexee'), ('xaxxAAxAxAAxAxxAxA', 'xaxxaaxaxaaxaxxaxa')]\n",
      "Failure: []\n"
     ]
    }
   ],
   "source": [
    "test_44 = []\n",
    "for i in range(1000):\n",
    "    test_44.extend(h.generate_pairs(n = 1, length = randint(15, 20)))\n",
    "success, failure = test_fst(o4, test_44)\n",
    "print(\"Success:\", success[:15])\n",
    "print(\"Failure:\", failure[:15])"
   ]
  },
  {
   "cell_type": "markdown",
   "metadata": {},
   "source": [
    "## Dataset 5: double harmony with blockers"
   ]
  },
  {
   "cell_type": "code",
   "execution_count": 66,
   "metadata": {},
   "outputs": [
    {
     "name": "stdout",
     "output_type": "stream",
     "text": [
      "[('xxUxxHxLx', 'xxUxxUxex'), ('OLxxLxxLL', 'Oexxexxee'), ('x', 'x'), ('xxOLx', 'xxOex'), ('xxiHxH', 'xxiixi'), ('xxuH', 'xxuu'), ('xaLxHHx', 'xaaxIIx'), ('OxxLLxHxLL', 'Oxxeexixee'), ('xxaLxH', 'xxaaxI'), ('x', 'x'), ('xx', 'xx'), ('xxexxLxHxx', 'xxexxexixx'), ('iH', 'ii'), ('xx', 'xx'), ('xxIHx', 'xxIIx')]\n"
     ]
    }
   ],
   "source": [
    "data_5 = []\n",
    "for i in range(5000):\n",
    "    data_5.extend(generate_turkish_pairs(n = 1, length = randint(1, 10), cons = \"x\", vowel_cluster = (1, 2),\n",
    "                                cons_cluster = (1, 2)))\n",
    "test_5 = []\n",
    "for i in range(5000):\n",
    "    test_5.extend(generate_turkish_pairs(n = 1, length = randint(1, 10), cons = \"x\", vowel_cluster = (1, 2),\n",
    "                                cons_cluster = (1, 2)))\n",
    "    \n",
    "sigma5 = [\"H\", \"L\", \"x\", \"a\", \"e\", \"o\", \"O\", \"u\", \"U\", \"i\", \"I\"]\n",
    "gamma5 = [\"x\", \"a\", \"e\", \"o\", \"O\", \"u\", \"U\", \"i\", \"I\"]\n",
    "\n",
    "print(data_5[:15])"
   ]
  },
  {
   "cell_type": "code",
   "execution_count": 67,
   "metadata": {},
   "outputs": [],
   "source": [
    "o5 = ostia(data_5, sigma5, gamma5)"
   ]
  },
  {
   "cell_type": "code",
   "execution_count": 68,
   "metadata": {},
   "outputs": [
    {
     "name": "stdout",
     "output_type": "stream",
     "text": [
      "Score: 98.92%\n",
      "Success: [('x', 'x'), ('ixLLxxLxxH', 'ixeexxexxi'), ('ixxLxxHx', 'ixxexxix'), ('IxHHxxHHxx', 'IxIIxxIIxx'), ('aLx', 'aax'), ('xeLxLLxL', 'xeexeexe'), ('x', 'x'), ('xxixHxxLxx', 'xxixixxexx'), ('xxexHxLLxx', 'xxexixeexx'), ('U', 'U'), ('IHxxHHxxHx', 'IIxxIIxxIx'), ('xUxxHHx', 'xUxxUUx'), ('exLxHxL', 'exexixe'), ('Ix', 'Ix'), ('xaLxH', 'xaaxI')]\n",
      "Failure: [[('xexLxxHxx', 'xexexxixx'), 'xexexxUxx'], [('xUxxLxHxxL', 'xUxxexixxe'), 'xUxxexUxxe'], [('exHxHHxx', 'exixiixx'), 'exixixixx'], [('uHxxLLxLL', 'uuxxaaxaa'), 'uuxxaaxaax'], [('xOxLL', 'xOxee'), 'xOxeex'], [('xaLxxLLxHH', 'xaaxxaaxII'), 'xaaxxaaxIIx'], [('xiHxxHxH', 'xiixxixi'), 'xiixxixU'], [('exLL', 'exee'), 'exeex'], [('aLxLLxLL', 'aaxaaxaa'), 'aaxaaxaax'], [('xoLxxHHxHH', 'xoaxxIIxII'), 'xoaxxIIxIxu'], [('xUHxHxLL', 'xUUxUxee'), 'xUUxUxeex'], [('xUxxLxH', 'xUxxexi'), 'xUxxexU'], [('UxxLxLL', 'Uxxexee'), 'Uxxexeex'], [('xixLxH', 'xixexi'), 'xixexU'], [('aLxLLxLL', 'aaxaaxaa'), 'aaxaaxaax']]\n"
     ]
    }
   ],
   "source": [
    "success, failure = test_fst(o5, test_5)\n",
    "print(\"Success:\", success[:15])\n",
    "print(\"Failure:\", failure[:15])"
   ]
  },
  {
   "cell_type": "code",
   "execution_count": 69,
   "metadata": {},
   "outputs": [
    {
     "data": {
      "text/plain": [
       "334"
      ]
     },
     "execution_count": 69,
     "metadata": {},
     "output_type": "execute_result"
    }
   ],
   "source": [
    "len(o5.E)"
   ]
  },
  {
   "cell_type": "code",
   "execution_count": 70,
   "metadata": {},
   "outputs": [
    {
     "data": {
      "text/plain": [
       "110"
      ]
     },
     "execution_count": 70,
     "metadata": {},
     "output_type": "execute_result"
    }
   ],
   "source": [
    "len(o5.stout)"
   ]
  },
  {
   "cell_type": "code",
   "execution_count": 71,
   "metadata": {},
   "outputs": [
    {
     "name": "stdout",
     "output_type": "stream",
     "text": [
      "Score: 91.88%\n",
      "Success: [('oxxHHxxLLxxHHxxHHxxH', 'oxxuuxxaaxxIIxxIIxxI'), ('xxOLxxHxxHHxxHHxx', 'xxOexxixxiixxiixx'), ('xaLxxHxxLxxHHxH', 'xaaxxIxxaxxIIxI'), ('eLxHxxHHxxLLxLLx', 'eexixxiixxeexeex'), ('xeLxxLxxLxHxxHH', 'xeexxexxexixxii'), ('xoxHHxxHHxxLxHx', 'xoxuuxxuuxxaxIx'), ('IHxxHHxHHxHxxHHxxHxH', 'IIxxIIxIIxIxxIIxxIxI'), ('xxOxLLxxLxHHxxHH', 'xxOxeexxexiixxii'), ('xUxxLLxxHHxHHxxLxLL', 'xUxxeexxiixiixxexee'), ('xxuHxLxxHHxHHxxHxL', 'xxuuxaxxIIxIIxxIxa'), ('UxxLxHHxLxLLxLL', 'Uxxexiixexeexee'), ('UHxLxHHxxLxLxxLxx', 'UUxexiixxexexxexx'), ('xxeLxHHxHHxHHxxHH', 'xxeexiixiixiixxii'), ('xxaxxLLxxHxLLxxHHx', 'xxaxxaaxxIxaaxxIIx'), ('OLxxHxxLLxHHxLLxx', 'Oexxixxeexiixeexx')]\n",
      "Failure: [[('xxoLxxLLxxLLxLxxH', 'xxoaxxaaxxaaxaxxI'), 'xxoaxxaaxxaaxaxxu'], [('xxoLxxLxHxxLxLLx', 'xxoaxxaxIxxaxaax'), 'xxoaxxaxuxxaxaax'], [('xiHxxHxHHxLLxLxxH', 'xiixxixiixeexexxi'), 'xiixxixUUxeexexxi'], [('xxIxLLxxLLxHxHxHx', 'xxIxaaxxaaxIxIxIx'), 'xxIxaaxxaaxuxuxux'], [('axxLxHxxLxxHxxHHxxHH', 'axxaxIxxaxxIxxIIxxII'), 'axxaxIxxaxxIxxIIxxIIx'], [('xexxHHxLxxLxxHx', 'xexxiixexxexxix'), 'xexxiixexxexxUx'], [('exHxLLxHHxLLxHHxxL', 'exixeexiixeexiixxe'), 'exixeexiiiixxaaxIIxxa'], [('xoxxLLxLxLxxLLxHH', 'xoxxaaxaxaxxaaxII'), 'xoxxaaxaxaxxaaxIIx'], [('xxIHxxLLxLLxHHxLLx', 'xxIIxxaaxaaxIIxaax'), 'xxIIxxaaxaaxuixeex'], [('uHxxLxLLxLxxHHxHxLxx', 'uuxxaxaaxaxxIIxIxaxx'), 'uuxxaxaaxaxxuuxuxaxx'], [('xoxxLxHHxLLxLLxHxx', 'xoxxaxIIxaaxaaxIxx'), 'xoxxaxIIxaaxaaxuxx'], [('xxeLxxHxLxxHHxxHHxLL', 'xxeexxixexxiixxiixee'), 'xxeexxixexxUUxxUUxee'], [('uxxHxLxHxHxHxxLL', 'uxxuxaxIxIxIxxaa'), 'uxxuxaxIxIxIxxaax'], [('axHHxLLxxHHxxLxxL', 'axIIxaaxxIIxxaxxa'), 'axIIxaaxxuuxxaxxa'], [('xIHxLLxxLLxHHxHHxxHx', 'xIIxaaxxaaxIIxIIxxIx'), 'xIIxaaxxaaxIIxIxuxxux']]\n"
     ]
    }
   ],
   "source": [
    "test_55 = []\n",
    "for i in range(5000):\n",
    "    test_55.extend(generate_turkish_pairs(n = 1, length = randint(15, 20), cons = \"x\", vowel_cluster = (1, 2),\n",
    "                                cons_cluster = (1, 2)))\n",
    "success, failure = test_fst(o5, test_55)\n",
    "print(\"Success:\", success[:15])\n",
    "print(\"Failure:\", failure[:15])"
   ]
  },
  {
   "cell_type": "markdown",
   "metadata": {},
   "source": [
    "## Dataset 6: two independent harmonies, no blockers"
   ]
  },
  {
   "cell_type": "code",
   "execution_count": 72,
   "metadata": {},
   "outputs": [
    {
     "name": "stdout",
     "output_type": "stream",
     "text": [
      "[('aApAA', 'aapaa'), ('a', 'a'), ('paABAABABB', 'paapaapapp'), ('pB', 'pp'), ('a', 'a'), ('oAbBABB', 'oobbobb'), ('oA', 'oo'), ('bB', 'bb'), ('o', 'o'), ('abAAB', 'abaab'), ('poABB', 'poopp'), ('paBABBA', 'papappa'), ('pBaB', 'ppap'), ('aApA', 'aapa'), ('a', 'a')]\n"
     ]
    }
   ],
   "source": [
    "a = {(\"a\", \"o\"):\"A\", (\"b\", \"p\"):\"B\"}\n",
    "b = ({\"A\":(1, 2), \"B\":(1, 2)})\n",
    "h = Harmony(a, b)\n",
    "\n",
    "data_6 = []\n",
    "for i in range(5000):\n",
    "    data_6.extend(h.generate_pairs(n = 1, length = randint(1, 10)))\n",
    "    \n",
    "test_6 = []\n",
    "for i in range(1000):\n",
    "    test_6.extend(h.generate_pairs(n = 1, length = randint(1, 10)))\n",
    "\n",
    "sigma6 = [\"A\", \"a\", \"o\", \"B\", \"b\", \"p\"]\n",
    "gamma6 = [\"a\", \"o\", \"b\", \"p\"]\n",
    "\n",
    "print(data_6[:15])"
   ]
  },
  {
   "cell_type": "code",
   "execution_count": 73,
   "metadata": {},
   "outputs": [],
   "source": [
    "o6 = ostia(data_6, sigma6, gamma6)"
   ]
  },
  {
   "cell_type": "code",
   "execution_count": 74,
   "metadata": {},
   "outputs": [
    {
     "name": "stdout",
     "output_type": "stream",
     "text": [
      "Score: 100.0%\n",
      "Success: [('abB', 'abb'), ('pBaABBA', 'ppaappa'), ('oApBAA', 'ooppoo'), ('boABBABA', 'boobbobo'), ('oAbBAA', 'oobboo'), ('opA', 'opo'), ('apBAABBAA', 'appaappaa'), ('ba', 'ba'), ('opABAA', 'opopoo'), ('aApABAA', 'aapapaa'), ('pBoABABB', 'ppoopopp'), ('bBoABAAB', 'bbooboob'), ('oAb', 'oob'), ('oApABBA', 'oopoppo'), ('bBaBABABAA', 'bbabababaa')]\n",
      "Failure: []\n"
     ]
    }
   ],
   "source": [
    "success, failure = test_fst(o6, test_6)\n",
    "print(\"Success:\", success[:15])\n",
    "print(\"Failure:\", failure[:15])"
   ]
  },
  {
   "cell_type": "code",
   "execution_count": 75,
   "metadata": {},
   "outputs": [
    {
     "data": {
      "text/plain": [
       "56"
      ]
     },
     "execution_count": 75,
     "metadata": {},
     "output_type": "execute_result"
    }
   ],
   "source": [
    "len(o6.E) # output largely depends on the concrete runs"
   ]
  },
  {
   "cell_type": "code",
   "execution_count": 76,
   "metadata": {},
   "outputs": [
    {
     "data": {
      "text/plain": [
       "19"
      ]
     },
     "execution_count": 76,
     "metadata": {},
     "output_type": "execute_result"
    }
   ],
   "source": [
    "len(o6.stout) # number from the smallest run: 4"
   ]
  },
  {
   "cell_type": "code",
   "execution_count": 77,
   "metadata": {},
   "outputs": [
    {
     "name": "stdout",
     "output_type": "stream",
     "text": [
      "Score: 100.0%\n",
      "Success: [('paABBAABABBABBABA', 'paappaapappappapa'), ('aAbBAABBAABBAAB', 'aabbaabbaabbaab'), ('paABABABBABBABAA', 'paapapappappapaa'), ('obAABBABBAABBAA', 'oboobbobboobboo'), ('opBAABAABBAABBAA', 'oppoopooppooppoo'), ('opBAABBABBABABBABB', 'oppooppoppopoppopp'), ('pBaBABBAABBAABAABBA', 'ppapappaappaapaappa'), ('pBoBBAABAABAABB', 'ppoppoopoopoopp'), ('obAABBAABAABAABB', 'oboobboobooboobb'), ('obBABBAABBAABBAABB', 'obbobboobboobboobb'), ('aApBABBABAABABAAB', 'aappappapaapapaap'), ('opBABBAABAABBAABBAA', 'oppoppoopooppooppoo'), ('obABBAABAABABBAA', 'obobbooboobobboo'), ('pBoBBABABBAABBABBAAB', 'ppoppopoppooppoppoop'), ('aAbBABBAABAABBABAA', 'aabbabbaabaabbabaa')]\n",
      "Failure: []\n"
     ]
    }
   ],
   "source": [
    "test_66 = []\n",
    "for i in range(1000):\n",
    "    test_66.extend(h.generate_pairs(n = 1, length = randint(15, 20)))\n",
    "success, failure = test_fst(o6, test_66)\n",
    "print(\"Success:\", success[:15])\n",
    "print(\"Failure:\", failure[:15])"
   ]
  },
  {
   "cell_type": "markdown",
   "metadata": {},
   "source": [
    "## Dataset 7: two independent harmonies with blockers"
   ]
  },
  {
   "cell_type": "code",
   "execution_count": 78,
   "metadata": {},
   "outputs": [
    {
     "name": "stdout",
     "output_type": "stream",
     "text": [
      "[('oA', 'oo'), ('pBaAB', 'ppaap'), ('ap', 'ap'), ('pBoAtBBAA', 'ppootppoo'), ('tapBt', 'tappt'), ('ta', 'ta'), ('opBAAB', 'oppoop'), ('ttaAp', 'ttaap'), ('taApAABA', 'taapaapa'), ('bta', 'bta'), ('ptBoBBAA', 'ptpoppoo'), ('aApt', 'aapt'), ('apABBtBB', 'apapptpp'), ('tpaA', 'tpaa'), ('poABBtBB', 'poopptpp')]\n"
     ]
    }
   ],
   "source": [
    "a = {(\"a\", \"o\"):\"A\", (\"b\", \"p\"):\"B\"}\n",
    "b = ({\"A\":(1, 2), \"B\":(1, 2)})\n",
    "c = {\"t\":\"p\"}\n",
    "d = 7\n",
    "h = Harmony(a, b, c, d)\n",
    "\n",
    "data_7 = []\n",
    "for i in range(5000):\n",
    "    data_7.extend(h.generate_pairs(n = 1, length = randint(1, 10)))\n",
    "    \n",
    "test_7 = []\n",
    "for i in range(1000):\n",
    "    test_7.extend(h.generate_pairs(n = 1, length = randint(1, 10)))\n",
    "\n",
    "sigma7 = [\"A\", \"a\", \"o\", \"B\", \"b\", \"p\", \"t\"]\n",
    "gamma7 = [\"a\", \"o\", \"b\", \"p\", \"t\"]\n",
    "\n",
    "print(data_7[:15])"
   ]
  },
  {
   "cell_type": "code",
   "execution_count": 79,
   "metadata": {},
   "outputs": [],
   "source": [
    "o7 = ostia(data_7, sigma7, gamma7)"
   ]
  },
  {
   "cell_type": "code",
   "execution_count": 80,
   "metadata": {},
   "outputs": [
    {
     "name": "stdout",
     "output_type": "stream",
     "text": [
      "Score: 98.7%\n",
      "Success: [('a', 'a'), ('apAABBA', 'apaappa'), ('aApABB', 'aapapp'), ('pBtaA', 'pptaa'), ('poBA', 'popo'), ('boBBABB', 'bobbobb'), ('tpa', 'tpa'), ('tpt', 'tpt'), ('opB', 'opp'), ('tpBaBBABB', 'tppappapp'), ('apBtBBAABA', 'apptppaapa'), ('otpBt', 'otppt'), ('oA', 'oo'), ('obBAAt', 'obboot'), ('bBaBBAA', 'bbabbaa')]\n",
      "Failure: [[('tttaApA', 'tttaapa'), 'tttaaa'], [('paABAt', 'paapat'), 'paapata'], [('oAtAtApB', 'oototopp'), 'oototop'], [('abBAABAB', 'abbaabab'), 'abbaabap'], [('tpotAA', 'tpotoo'), 'tpotpa'], [('opAtBBAABB', 'opotppoopp'), 'opotoppaapp'], [('apBtBttBB', 'apptpttpp'), 'apptpttppaa'], [('poBAtt', 'popott'), 'popotpoop'], [('pBaBAABtAA', 'ppapaaptaa'), 'ppapaaptoo'], [('ttaAptAAB', 'ttaaptaap'), 'ttaaptoob'], [('pBtBatBAAB', 'pptpatpaap'), 'pptpatppaa'], [('otpBAtBtt', 'otppotptt'), 'otppotpttoo'], [('tpaBBAtAt', 'tpappatat'), 'tpappatattppa']]\n"
     ]
    }
   ],
   "source": [
    "success, failure = test_fst(o7, test_7)\n",
    "print(\"Success:\", success[:15])\n",
    "print(\"Failure:\", failure[:15])"
   ]
  },
  {
   "cell_type": "code",
   "execution_count": 81,
   "metadata": {},
   "outputs": [
    {
     "data": {
      "text/plain": [
       "362"
      ]
     },
     "execution_count": 81,
     "metadata": {},
     "output_type": "execute_result"
    }
   ],
   "source": [
    "len(o7.E)"
   ]
  },
  {
   "cell_type": "code",
   "execution_count": 82,
   "metadata": {},
   "outputs": [
    {
     "data": {
      "text/plain": [
       "93"
      ]
     },
     "execution_count": 82,
     "metadata": {},
     "output_type": "execute_result"
    }
   ],
   "source": [
    "len(o7.stout)"
   ]
  },
  {
   "cell_type": "code",
   "execution_count": 83,
   "metadata": {},
   "outputs": [
    {
     "name": "stdout",
     "output_type": "stream",
     "text": [
      "Score: 84.7%\n",
      "Success: [('pBoBAABABtBABAB', 'ppopoopoptpopop'), ('pBoABAABBABAABBAABAB', 'ppoopooppopooppoopop'), ('tapBABABAABABBABBtAB', 'tappapapaapappapptap'), ('tttpBoBBABBAABBABAAB', 'tttppoppoppooppopoop'), ('boABBAABAABBABAt', 'boobbooboobbobot'), ('obBAttABABBAABAA', 'obbottopoppoopoo'), ('aApAAtABBABBABAABB', 'aapaatappappapaapp'), ('tpBoABABBtABBABAA', 'tppoopopptoppopoo'), ('ttptBBoABBABBttA', 'ttptppooppopptto'), ('atpAABBAABBAAtBBAA', 'atpaappaappaatppaa'), ('opABBAABBABBAtBAAB', 'opoppooppoppotpoop'), ('tpBoABBtBBAABABtBBAA', 'tppoopptppoopoptppoo'), ('tpaABABBABBAABAABBt', 'tpaapappappaapaappt'), ('aApABBABBAABAABAABA', 'aapappappaapaapaapa'), ('oAbABAABAABABAABBAAt', 'ooboboobooboboobboot')]\n",
      "Failure: [[('aApAAtBBABAABAt', 'aapaatppapaapat'), 'aapaatppapaapatp'], [('poABAABBABAABttAA', 'poopooppopoopttoo'), 'poopooppopoopttaa'], [('oApBABBABBtAABABABB', 'ooppoppopptoopopopp'), 'ooppoppopptoopapapp'], [('ttpBaABtABBAtBB', 'ttppaaptappatpp'), 'ttppaaptobbotpp'], [('attAApBAABtAABB', 'attaappaaptaapp'), 'attaappaaptt'], [('pBaBABBABttttABABBAB', 'ppapappapttttapappap'), 'ppapappapttttopoppop'], [('pBoAttBBtAABAABAABB', 'ppoottpptoopoopoopp'), 'ppoottpptoppaapaapp'], [('pBoBABBAAtAABBAtA', 'ppopoppootooppoto'), 'ppopoppootooppata'], [('oAbBttBABBAABAA', 'oobbttpoppoopoo'), 'oobbttpappaapaa'], [('opABBAABBABABABAtBtA', 'opoppooppopopopotpto'), 'opoppooppopopopotptop'], [('pBaABtBBABtAtBAA', 'ppaaptppaptatpaa'), 'ppaaptppaaatpaa'], [('paBBAABttABAABBttAAB', 'pappaapttapaappttaap'), 'pappaapttoboobbttaap'], [('paBAABtBABBAttAABBA', 'papaaptpappattaappa'), 'papaaptppaaottooppo'], [('abBAABAABAAtBAtt', 'abbaabaabaatpatt'), 'abbaabaapaatpatt'], [('toAtpBABBtAABBAA', 'tootppopptooppoo'), 'tootppopptooppaa']]\n"
     ]
    }
   ],
   "source": [
    "test_77 = []\n",
    "for i in range(1000):\n",
    "    test_77.extend(h.generate_pairs(n = 1, length = randint(15, 20)))\n",
    "success, failure = test_fst(o7, test_77)\n",
    "print(\"Success:\", success[:15])\n",
    "print(\"Failure:\", failure[:15])"
   ]
  },
  {
   "cell_type": "markdown",
   "metadata": {},
   "source": [
    "## Dataset 8: unbounded  tone plateauing"
   ]
  },
  {
   "cell_type": "code",
   "execution_count": 43,
   "metadata": {},
   "outputs": [
    {
     "name": "stdout",
     "output_type": "stream",
     "text": [
      "[('HH', 'HH'), ('HHLHLLL', 'HHHHLLL'), ('HHLHHHH', 'HHHHHHH'), ('LLHHHLHLL', 'LLHHHHHLL'), ('HHLHL', 'HHHHL'), ('HLHLHHHLLL', 'HHHHHHHLLL'), ('HLHLLLLLL', 'HHHLLLLLL'), ('HLHLLL', 'HHHLLL'), ('HH', 'HH'), ('L', 'L'), ('HLLHH', 'HHHHH'), ('HH', 'HH'), ('LL', 'LL'), ('HH', 'HH'), ('HHHLHHHLHH', 'HHHHHHHHHH')]\n"
     ]
    }
   ],
   "source": [
    "data_8 = []\n",
    "for i in range(5000):\n",
    "    data_8.extend(generate_utp_pairs(n = 1, length = randint(1, 10)))\n",
    "    \n",
    "test_8 = []\n",
    "for i in range(1000):\n",
    "    test_8.extend(generate_utp_pairs(n = 1, length = randint(1, 10)))\n",
    "    \n",
    "    \n",
    "sigma8 = [\"H\", \"L\"]\n",
    "gamma8 = [\"H\", \"L\"]\n",
    "    \n",
    "    \n",
    "print(data_8[:15])"
   ]
  },
  {
   "cell_type": "code",
   "execution_count": 44,
   "metadata": {},
   "outputs": [],
   "source": [
    "o8 = ostia(data_8, sigma8, gamma8)"
   ]
  },
  {
   "cell_type": "code",
   "execution_count": 45,
   "metadata": {},
   "outputs": [
    {
     "name": "stdout",
     "output_type": "stream",
     "text": [
      "Score: 100.0%\n",
      "Success: [('HHHLLHLLHH', 'HHHHHHHHHH'), ('L', 'L'), ('LHHLHHHLLH', 'LHHHHHHHHH'), ('HLHLHL', 'HHHHHL'), ('HLHLLHLL', 'HHHHHHLL'), ('HHHHHLHH', 'HHHHHHHH'), ('LHH', 'LHH'), ('LLLL', 'LLLL'), ('LHH', 'LHH'), ('HHLHH', 'HHHHH'), ('H', 'H'), ('LHHLHHHHL', 'LHHHHHHHL'), ('LLH', 'LLH'), ('LLHLLH', 'LLHHHH'), ('LHLHHHHHLH', 'LHHHHHHHHH')]\n",
      "Failure: []\n"
     ]
    }
   ],
   "source": [
    "success, failure = test_fst(o8, test_8)\n",
    "print(\"Success:\", success[:15])\n",
    "print(\"Failure:\", failure[:15])"
   ]
  },
  {
   "cell_type": "code",
   "execution_count": 46,
   "metadata": {},
   "outputs": [
    {
     "data": {
      "text/plain": [
       "64"
      ]
     },
     "execution_count": 46,
     "metadata": {},
     "output_type": "execute_result"
    }
   ],
   "source": [
    "len(o8.E)"
   ]
  },
  {
   "cell_type": "code",
   "execution_count": 47,
   "metadata": {},
   "outputs": [
    {
     "data": {
      "text/plain": [
       "32"
      ]
     },
     "execution_count": 47,
     "metadata": {},
     "output_type": "execute_result"
    }
   ],
   "source": [
    "len(o8.stout)"
   ]
  },
  {
   "cell_type": "code",
   "execution_count": 63,
   "metadata": {},
   "outputs": [
    {
     "name": "stdout",
     "output_type": "stream",
     "text": [
      "Score: 96.89999999999999%\n",
      "Success: [('HHLLHLLHLLLLLLHL', 'HHHHHHHHHHHHHHHL'), ('LHLHLLHLHHLHHLLLLHHH', 'LHHHHHHHHHHHHHHHHHHH'), ('LHLHLHHLLLHLHHLHLL', 'LHHHHHHHHHHHHHHHLL'), ('HLLLLHLLHLLHHLHHHH', 'HHHHHHHHHHHHHHHHHH'), ('HLLHLHLLLHLLLHHHLH', 'HHHHHHHHHHHHHHHHHH'), ('LHHHLLLHLHLLHLH', 'LHHHHHHHHHHHHHH'), ('HHLLLHHLHLHHHLL', 'HHHHHHHHHHHHHLL'), ('LLHLHHHLLHLHHLHLLH', 'LLHHHHHHHHHHHHHHHH'), ('HHHHLLLLHLLHHLH', 'HHHHHHHHHHHHHHH'), ('LLLLHLHLLLLHHLHHLLHH', 'LLLLHHHHHHHHHHHHHHHH'), ('HHHHLHLLLHLHHHHLLLH', 'HHHHHHHHHHHHHHHHHHH'), ('HHHHHLLLHLHHLLHLHHH', 'HHHHHHHHHHHHHHHHHHH'), ('HHHHLLHLHHLHLLL', 'HHHHHHHHHHHHLLL'), ('LHHHLLLHLLHLLHHHL', 'LHHHHHHHHHHHHHHHL'), ('HHLLLLHLHLHHLLHHH', 'HHHHHHHHHHHHHHHHH')]\n",
      "Failure: [[('HHLLLLLLLLHHLLHHLL', 'HHHHHHHHHHHHHHHHLL'), 'HHLLLLLLLLHHHHHHHHHHHHHHLL'], [('HLLLLLHLLLLLLLHLHLHH', 'HHHHHHHHHHHHHHHHHHHH'), 'HHHHHHHHHHHHHHHLHHHH'], [('LHLLLLLHLLHLLHHHHL', 'LHHHHHHHHHHHHHHHHL'), 'LHHHHHHHLLHHHHHHHL'], [('HHHLHLLLLLLLLHLH', 'HHHHHHHHHHHHHHHH'), 'HHHHHHHHHHHHHHLH'], [('LLLLHLLLLLHLLHLL', 'LLLLHHHHHHHHHHLL'), 'LLLLHHHHHHHLLHLL'], [('HHLLLLLLLLHLLLLHL', 'HHHHHHHHHHHHHHHHL'), 'HHLLLLLLLLHHHHHHHHHLLLLHL'], [('LLLLHLLLLLHLHLL', 'LLLLHHHHHHHHHLL'), 'LLLLHHHHHHHLHLL'], [('LHLHLLHHHHHLLLLLLLHH', 'LHHHHHHHHHHHHHHHHHHH'), 'LHHHHHHHHHHLLLLLLLLHHHHHHHHH'], [('HLLHHLHLLLLLLLLLH', 'HHHHHHHHHHHHHHHHH'), 'HHHHHHHLLLLLLLLLH'], [('HHLLLLLLLHLLLHHLHLHL', 'HHHHHHHHHHHHHHHHHHHL'), 'HHLLLLLLLLHHHHHHHHLLLHHHHHHL'], [('HHLLLLLLLLHHLLH', 'HHHHHHHHHHHHHHH'), 'HHLLLLLLLLHHHHHHHHHHHHH'], [('HHLLLLLLLHHHHHHHH', 'HHHHHHHHHHHHHHHHH'), 'HHLLLLLLLLHHHHHHHHHHHHHHH'], [('HHHHHLLLLLLLLHLHHLLH', 'HHHHHHHHHHHHHHHHHHHH'), 'HHHHHLLLLLLLLHHHHHHHHHLHHHHH'], [('LLLHHLLLLLHLLLLLH', 'LLLHHHHHHHHHHHHHH'), 'LLLHHHHHHHHLLLLLH'], [('LHHLLHLLLLLLLHLHLLL', 'LHHHHHHHHHHHHHHHLLL'), 'LHHHHHHHHHHHHHLHLLL']]\n"
     ]
    }
   ],
   "source": [
    "test_88 = []\n",
    "for i in range(1000):\n",
    "    test_88.extend(generate_utp_pairs(n = 1, length = randint(15, 20)))\n",
    "    \n",
    "success, failure = test_fst(o8, test_88)\n",
    "print(\"Success:\", success[:15])\n",
    "print(\"Failure:\", failure[:15])"
   ]
  },
  {
   "cell_type": "markdown",
   "metadata": {},
   "source": [
    "## Dataset 9: \"simple\" first-last harmony"
   ]
  },
  {
   "cell_type": "code",
   "execution_count": 90,
   "metadata": {},
   "outputs": [
    {
     "name": "stdout",
     "output_type": "stream",
     "text": [
      "[('oaxoo', 'oaxoo'), ('oaoa', 'oaoo'), ('ao', 'aa'), ('aooxxa', 'aooxxa'), ('ooaaoa', 'ooaaoo'), ('oaaoo', 'oaaoo'), ('oooa', 'oooo'), ('aa', 'aa'), ('aaaao', 'aaaaa'), ('oa', 'oo'), ('aaa', 'aaa'), ('oa', 'oo'), ('oxaxo', 'oxaxo'), ('ooaxoo', 'ooaxoo'), ('aoxo', 'aoxa')]\n"
     ]
    }
   ],
   "source": [
    "data_9 = []\n",
    "for i in range(5000):\n",
    "    data_9.extend(first_last_pairs(n = 1, length = randint(1, 6)))\n",
    "\n",
    "test_9 = []\n",
    "for i in range(5000):\n",
    "    test_9.extend(first_last_pairs(n = 1, length = randint(1, 6)))\n",
    "    \n",
    "    \n",
    "sigma9 = [\"a\", \"o\", \"x\"]\n",
    "gamma9 = [\"a\", \"o\", \"x\"]\n",
    "    \n",
    "    \n",
    "print(data_9[:15])"
   ]
  },
  {
   "cell_type": "code",
   "execution_count": 91,
   "metadata": {},
   "outputs": [],
   "source": [
    "o9 = ostia(data_9, sigma9, gamma9)"
   ]
  },
  {
   "cell_type": "code",
   "execution_count": 92,
   "metadata": {},
   "outputs": [
    {
     "name": "stdout",
     "output_type": "stream",
     "text": [
      "Score: 100.0%\n",
      "Success: [('oa', 'oo'), ('ooaa', 'ooao'), ('oaoxaa', 'oaoxao'), ('axooxa', 'axooxa'), ('oo', 'oo'), ('aa', 'aa'), ('oo', 'oo'), ('ao', 'aa'), ('aoo', 'aoa'), ('axoa', 'axoa'), ('oa', 'oo'), ('aaoxo', 'aaoxa'), ('oaxxoo', 'oaxxoo'), ('ooo', 'ooo'), ('oo', 'oo')]\n",
      "Failure: []\n"
     ]
    }
   ],
   "source": [
    "success, failure = test_fst(o9, test_9)\n",
    "print(\"Success:\", success[:15])\n",
    "print(\"Failure:\", failure[:15])"
   ]
  },
  {
   "cell_type": "code",
   "execution_count": 93,
   "metadata": {},
   "outputs": [
    {
     "data": {
      "text/plain": [
       "14"
      ]
     },
     "execution_count": 93,
     "metadata": {},
     "output_type": "execute_result"
    }
   ],
   "source": [
    "len(o9.E)"
   ]
  },
  {
   "cell_type": "code",
   "execution_count": 94,
   "metadata": {},
   "outputs": [
    {
     "data": {
      "text/plain": [
       "5"
      ]
     },
     "execution_count": 94,
     "metadata": {},
     "output_type": "execute_result"
    }
   ],
   "source": [
    "len(o9.stout)"
   ]
  },
  {
   "cell_type": "code",
   "execution_count": 95,
   "metadata": {},
   "outputs": [
    {
     "name": "stdout",
     "output_type": "stream",
     "text": [
      "Score: 100.0%\n",
      "Success: [('aoaxoaaoaaaoxaa', 'aoaxoaaoaaaoxaa'), ('oxoxxoooaoxxoa', 'oxoxxoooaoxxoo'), ('ooaaaxoooxoooaa', 'ooaaaxoooxoooao'), ('oxaxaxooxxo', 'oxaxaxooxxo'), ('oaaoxoxoaao', 'oaaoxoxoaao'), ('aaooaxoaoo', 'aaooaxoaoa'), ('aaxaaooaaxxa', 'aaxaaooaaxxa'), ('aoaoxooaaaoaaa', 'aoaoxooaaaoaaa'), ('ooxooaaooxaoa', 'ooxooaaooxaoo'), ('aaoaaoaoxa', 'aaoaaoaoxa'), ('ooaooaxxoxaxxoa', 'ooaooaxxoxaxxoo'), ('oooxaaxaaoxaa', 'oooxaaxaaoxao'), ('aaxoxaooooxa', 'aaxoxaooooxa'), ('aaxxxaxaaxxxa', 'aaxxxaxaaxxxa'), ('axxxxoxaxxo', 'axxxxoxaxxa')]\n",
      "Failure: []\n"
     ]
    }
   ],
   "source": [
    "test_99 = []\n",
    "for i in range(5000):\n",
    "    test_99.extend(first_last_pairs(n = 1, length = randint(10, 15)))\n",
    "    \n",
    "success, failure = test_fst(o9, test_99)\n",
    "print(\"Success:\", success[:15])\n",
    "print(\"Failure:\", failure[:15])"
   ]
  },
  {
   "cell_type": "markdown",
   "metadata": {},
   "source": [
    "## Dataset 10: \"complex\" first-last harmony"
   ]
  },
  {
   "cell_type": "code",
   "execution_count": 96,
   "metadata": {},
   "outputs": [],
   "source": [
    "def add_xxx(strings, xrange):\n",
    "    \"\"\" Makes vowels not nececcerily word-initial or final. \"\"\"\n",
    "    new = []\n",
    "    for p0, p1 in strings:\n",
    "        initial_x = randint(*xrange)\n",
    "        final_x = randint(*xrange)\n",
    "        annotate = lambda s: \"x\" * initial_x + s + \"x\" * final_x\n",
    "        annotated = (annotate(p0), annotate(p1))\n",
    "        new.append(annotated)\n",
    "    return new"
   ]
  },
  {
   "cell_type": "code",
   "execution_count": 97,
   "metadata": {},
   "outputs": [
    {
     "name": "stdout",
     "output_type": "stream",
     "text": [
      "[('xoaao', 'xoaao'), ('xxoooao', 'xxoooao'), ('xxxoxaoaxxx', 'xxxoxaooxxx'), ('xxaxxao', 'xxaxxaa'), ('ooxxx', 'ooxxx'), ('xoaxxxo', 'xoaxxxo'), ('ooaxooxx', 'ooaxooxx'), ('oaxaaaxx', 'oaxaaoxx'), ('xxxooaxx', 'xxxoooxx'), ('xxaax', 'xxaax'), ('xxooaaa', 'xxooaao'), ('xxoxaa', 'xxoxao'), ('ooooa', 'ooooo'), ('xaaaaax', 'xaaaaax'), ('oaxaaxxx', 'oaxaoxxx')]\n"
     ]
    }
   ],
   "source": [
    "data_10 = []\n",
    "for i in range(5000):\n",
    "    data_10.extend(first_last_pairs(n = 1, length = randint(1, 6)))\n",
    "data_10 = add_xxx(data_10, (0, 3))\n",
    "    \n",
    "test_10 = []\n",
    "for i in range(5000):\n",
    "    test_10.extend(first_last_pairs(n = 1, length = randint(1, 6)))\n",
    "test_10 = add_xxx(test_10, (0, 3))\n",
    "    \n",
    "sigma10 = [\"a\", \"o\", \"x\"]\n",
    "gamma10 = [\"a\", \"o\", \"x\"]\n",
    "    \n",
    "    \n",
    "print(data_10[:15])"
   ]
  },
  {
   "cell_type": "code",
   "execution_count": 98,
   "metadata": {},
   "outputs": [],
   "source": [
    "o10 = ostia(data_10, sigma10, gamma10)"
   ]
  },
  {
   "cell_type": "code",
   "execution_count": 99,
   "metadata": {},
   "outputs": [
    {
     "name": "stdout",
     "output_type": "stream",
     "text": [
      "Score: 99.33999999999999%\n",
      "Success: [('xxxaooo', 'xxxaooa'), ('axxoox', 'axxoax'), ('xoaxx', 'xooxx'), ('xxxaxxaoox', 'xxxaxxaoax'), ('xooxxx', 'xooxxx'), ('xxooxxx', 'xxooxxx'), ('xxoaxxx', 'xxooxxx'), ('oxaxax', 'oxaxox'), ('xaaaaaaxxx', 'xaaaaaaxxx'), ('xxxooaax', 'xxxooaox'), ('xxoxoax', 'xxoxoox'), ('xaooaaxx', 'xaooaaxx'), ('xxxaxaoooxx', 'xxxaxaooaxx'), ('xxoxxoxx', 'xxoxxoxx'), ('xaxaaxo', 'xaxaaxa')]\n",
      "Failure: [[('oxaxo', 'oxaxo'), 'oxaxooaxx'], [('aoxxooxxx', 'aoxxoaxxx'), 'aoxxaxxoxxx'], [('xxaoxxxox', 'xxaoxxxax'), 'xxaoxxxaxxxoxx'], [('oxaxooxx', 'oxaxooxx'), 'oxaxoooxxaxx'], [('xxaoxxaaxx', 'xxaoxxaaxx'), 'xxaoxxaxaxx'], [('oxaxoxxx', 'oxaxoxxx'), 'oxaxooaxxx'], [('xaoxxoo', 'xaoxxoa'), 'xaoxxao'], [('oxaxoox', 'oxaxoox'), 'oxaxoooxxax'], [('aoxxxoxx', 'aoxxxaxx'), 'aoxxxax'], [('xxaxoxxox', 'xxaxoxxax'), 'xxaxoxxaxx'], [('xaoxxoo', 'xaoxxoa'), 'xaoxxao'], [('xxaaoxxax', 'xxaaoxxax'), 'xxaax'], [('xxxoaxxoaxxx', 'xxxoaxxooxxx'), 'xxxoaxxoxaxxxoxxx'], [('aoxxxa', 'aoxxxa'), 'aoxxxax'], [('xxxoaxxaoxxx', 'xxxoaxxaoxxx'), 'xxxoaxxooxxx']]\n"
     ]
    }
   ],
   "source": [
    "success, failure = test_fst(o10, test_10)\n",
    "print(\"Success:\", success[:15])\n",
    "print(\"Failure:\", failure[:15])"
   ]
  },
  {
   "cell_type": "code",
   "execution_count": 100,
   "metadata": {},
   "outputs": [
    {
     "data": {
      "text/plain": [
       "219"
      ]
     },
     "execution_count": 100,
     "metadata": {},
     "output_type": "execute_result"
    }
   ],
   "source": [
    "len(o10.E)"
   ]
  },
  {
   "cell_type": "code",
   "execution_count": 101,
   "metadata": {},
   "outputs": [
    {
     "data": {
      "text/plain": [
       "75"
      ]
     },
     "execution_count": 101,
     "metadata": {},
     "output_type": "execute_result"
    }
   ],
   "source": [
    "len(o10.stout)"
   ]
  },
  {
   "cell_type": "code",
   "execution_count": 102,
   "metadata": {},
   "outputs": [
    {
     "name": "stdout",
     "output_type": "stream",
     "text": [
      "Score: 30.5%\n",
      "Success: [('xxaaaxaxaxooxaxxx', 'xxaaaxaxaxooxaxxx'), ('xxxaxxxxxxaaaaxxx', 'xxxaxxxxxxaaaaxxx'), ('aoaoxoaxxoaaxxxx', 'aoaoxoaxxoaaxxxx'), ('oaooxooaxaxo', 'oaooxooaxaxo'), ('xoaoxoaxoaaaxoax', 'xoaoxoaxoaaaxoox'), ('oxaaoooaoxoxxx', 'oxaaoooaoxoxxx'), ('axaoxoaxxxaaoaxxxxxx', 'axaoxoaxxxaaoaxxxxxx'), ('aoaoaaxaxaaxx', 'aoaoaaxaxaaxx'), ('oooxxxoxooaxxx', 'oooxxxoxoooxxx'), ('axxooxoaoo', 'axxooxoaoa'), ('xoaoxxaxxoaxaaaoxxxxxx', 'xoaoxxaxxoaxaaaoxxxxxx'), ('xxxaaxxxxxaxox', 'xxxaaxxxxxaxax'), ('xxxaoaooaxxaaaxxxaxxx', 'xxxaoaooaxxaaaxxxaxxx'), ('xxoxaxaaxaoaxxxoxxx', 'xxoxaxaaxaoaxxxoxxx'), ('xaaxxxoooaaxxxxxx', 'xaaxxxoooaaxxxxxx')]\n",
      "Failure: [[('xxxxxxoooaaooaoaxxa', 'xxxxxxoooaaooaoaxxo'), 'xxxxoooaaooaoaxxo'], [('xxxxxxxaaaoxaooxaaoxxxxx', 'xxxxxxxaaaoxaooxaaaxxxxx'), 'xxxxxaaaoxaooxaaaxxx'], [('ooxaxoxooaxxxxxx', 'ooxaxoxoooxxxxxx'), 'ooxaxoxooxx'], [('xxxxoaxaoxxoxaaxaoaxxxxxx', 'xxxxoaxaoxxoxaaxaooxxxxxx'), 'xxxaoxxaxxaoaxxxxxx'], [('xxxxxooxxaxooaoaxx', 'xxxxxooxxaxooaooxx'), 'xxxooxxaxooaooxx'], [('xxxxxoxoxxoxooxxa', 'xxxxxoxoxxoxooxxo'), 'xxxoxoxxoxooxxo'], [('xxaaoooaxxoaxxxoxxxxxxx', 'xxaaoooaxxoaxxxaxxxxxxx'), 'xxaaoooaxxoaxxxaxxx'], [('xxxxxxxooaaxxoxooooo', 'xxxxxxxooaaxxoxooooo'), 'xxxxxooaaxxoxooooo'], [('xxxxxxxaxooxxoaooxxxxxx', 'xxxxxxxaxooxxoaoaxxxxxx'), 'xxxxxaxooxxaaoaxxx'], [('xxxxxooaaxxooxaoxxx', 'xxxxxooaaxxooxaoxxx'), 'xxxooaaxxooxaoxxx'], [('xxxxoxxoaaaaoxooo', 'xxxxoxxoaaaaoxooo'), 'xxxxoaaaaoxooo'], [('xxxxaaooooxaaaxx', 'xxxxaaooooxaaaxx'), 'xxxaaaxx'], [('xxxxxooxooaaxxaoaxxxxxx', 'xxxxxooxooaaxxaooxxxxxx'), 'xxxooxooaaxxaoxx'], [('xxxxxaoxooaaaooxxxxx', 'xxxxxaoxooaaaoaxxxxx'), 'xxxaoxooaaaoaxxx'], [('xxxxxxxoaaxxaoxxxoaa', 'xxxxxxxoaaxxaoxxxoao'), 'xxxxxoaaxxaoxxxoao']]\n"
     ]
    }
   ],
   "source": [
    "test_100 = []\n",
    "for i in range(5000):\n",
    "    test_100.extend(first_last_pairs(n = 1, length = randint(10, 15)))\n",
    "test_100 = add_xxx(test_100, (0, 7))\n",
    "\n",
    "success, failure = test_fst(o10, test_100)\n",
    "print(\"Success:\", success[:15])\n",
    "print(\"Failure:\", failure[:15])"
   ]
  }
 ],
 "metadata": {
  "kernelspec": {
   "display_name": "Python 3",
   "language": "python",
   "name": "python3"
  },
  "language_info": {
   "codemirror_mode": {
    "name": "ipython",
    "version": 3
   },
   "file_extension": ".py",
   "mimetype": "text/x-python",
   "name": "python",
   "nbconvert_exporter": "python",
   "pygments_lexer": "ipython3",
   "version": "3.6.9"
  }
 },
 "nbformat": 4,
 "nbformat_minor": 2
}
