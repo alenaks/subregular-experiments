{
 "cells": [
  {
   "cell_type": "markdown",
   "metadata": {},
   "source": [
    "# Code for Chapter 4: Learning Mappings\n",
    "\n",
    "This notebook provides the code written for and used in the Chapter 4 of my dissertation **_SigmaPie_ for subregular and subsequential grammar induction**. All the links will be added soon. :)"
   ]
  },
  {
   "cell_type": "markdown",
   "metadata": {},
   "source": [
    "# Generators and evaluators: the setup for the experiments\n",
    "\n",
    "## Step 1: loading dependencies, including _SigmaPie_"
   ]
  },
  {
   "cell_type": "code",
   "execution_count": 1,
   "metadata": {},
   "outputs": [],
   "source": [
    "import codecs\n",
    "from random import choice, randint\n",
    "from pprint import pprint"
   ]
  },
  {
   "cell_type": "code",
   "execution_count": 2,
   "metadata": {},
   "outputs": [
    {
     "name": "stdout",
     "output_type": "stream",
     "text": [
      "/home/alenaks/subregular-experiments/local_sigmapie/code\n",
      "\n",
      "You successfully loaded SigmaPie. \n",
      "\n",
      "Formal language classes and grammars available:\n",
      "\t* strictly piecewise: SP(alphabet, grammar, k, data, polar);\n",
      "\t* strictly local: SL(alphabet, grammar, k, data, edges, polar);\n",
      "\t* tier-based strictly local: TSL(alphabet, grammar, k, data, edges, polar, tier);\n",
      "\t* multiple tier-based strictly local: MTSL(alphabet, grammar, k, data, edges, polar).\n",
      "\n",
      "Alternatively, you can initialize a transducer: FST(states, sigma, gamma, initial, transitions, stout).\n",
      "Learning algorithm:\n",
      "\tOSTIA: ostia(sample, sigma, gamma).\n",
      "/home/alenaks/subregular-experiments\n"
     ]
    }
   ],
   "source": [
    "# accessing SigmaPie toolkit: I know, horrible!\n",
    "# I promise I'll make it a package soon\n",
    "%cd local_sigmapie/code/\n",
    "from main import *\n",
    "%cd ../.."
   ]
  },
  {
   "cell_type": "markdown",
   "metadata": {},
   "source": [
    "## Step 2: defining general harmonic evaluator\n",
    "\n",
    "Here, I will talk about the artificial harmonic generator that I will be using throughout Chapters 3 and 4 of my dissertation.\n",
    "It can generate two types of samples:\n",
    "\n",
    "* Samples of **well-formed words**, i.e. words that don't violate the rules of the harmony; and\n",
    "* Samples of **underlying -> surface forms**, i.e. pairs where the first member has only the first value of every harmonic class specified (i.e. the feature that needs to be spread is given), and all consecutive members of the same class are masked as the name of that class.\n",
    "\n",
    "### Parameters of the generator\n",
    "\n",
    "List of the parameters that are available:\n",
    "\n",
    "* number of strings to be generated;\n",
    "* harmonic classes and their members (harmonic class is a class of segments that don't co-occur unless there is a blocker in-between them);\n",
    "* minimal and maximal cluster length of each of the harmonic classes;\n",
    "* blockers and the new domain that they introduce;\n",
    "* a probability of observing a blocker (1 / n, where n is a parameter): basically means \"every n-th cluster will be the blocker\"."
   ]
  },
  {
   "cell_type": "code",
   "execution_count": 3,
   "metadata": {},
   "outputs": [],
   "source": [
    "class Harmony(object):\n",
    "    \"\"\"\n",
    "    Class defining the toy generator for the harmonic datasets.\n",
    "    \n",
    "    Attributes:\n",
    "        cl_members (dict): dictionary of the type {(harmonic_class_1):class_id_1,\n",
    "            (harmonic_class_2):class_id_2, ...} that contains info about the present\n",
    "            harmonic classes. Note that the transparent element can be encoded by \n",
    "            a harmonic class containing a single element.\n",
    "            Example: {(\"a\", \"o\"):\"A\", (\"b\", \"p\"):\"B\", (\"c\"):\"C\"}\n",
    "        cl_lengths (dict): dictionary of the type {class_id:(min_len, max_len)},\n",
    "            where min_len and max_len denote the min and max len of the cluster\n",
    "            made out of elements of class_id.\n",
    "            Example: {\"A\":(1, 3), \"B\":(2, 4), \"C\":(4, 8)}\n",
    "        blockers (dict): dictionary of the type {\"b_1\":\"u_1\", \"b_2\":\"u_2\", ...} where\n",
    "            \"b\" is the blocker, and \"u\" is the newly introduced value.\n",
    "            Example: {\"t\":\"p\"}\n",
    "        blocker_prob (int): a chance of observing a blocker, the P evaluates from\n",
    "            (1/blocker_prob).\n",
    "            Example: 5\n",
    "    \"\"\"\n",
    "    def __init__(self, cl_members, cl_lengths = None, blockers = None, blocker_prob = 5):\n",
    "        \"\"\"\n",
    "        Init function for the Harmony class.\n",
    "        \"\"\"\n",
    "        self.cl_members = cl_members\n",
    "        if cl_lengths is not None:\n",
    "            self.cl_lengths = cl_lengths\n",
    "        else:\n",
    "            self.cl_lengths = {i:(1, 3) for i in self.cl_members.values()}\n",
    "        self.blockers = blockers\n",
    "        self.blocker_prob = blocker_prob\n",
    "        \n",
    "\n",
    "        \n",
    "    def generate_words(self, n = 3, length = 10):\n",
    "        \"\"\"\n",
    "        Generates n strings of a given length.\n",
    "        \n",
    "        Arguments:\n",
    "            n (int): how many strings need to be generated;\n",
    "            length (int): length of the strings.\n",
    "            \n",
    "        Returns:\n",
    "            list[str]: n generated strings.\n",
    "        \"\"\"\n",
    "        # check if the harmony rules are well-formed\n",
    "        if not self._verify_classes():\n",
    "            raise(\"Cannot generate dataset: the sets are overlapping.\")\n",
    "            \n",
    "        # unpack the dictionary for a quicker lookup\n",
    "        unpacked = self._unpack_classes()\n",
    "        transparent = self._transparent()\n",
    "        generated = [self._generate(unpacked, length) for i in range(n)]\n",
    "        return generated\n",
    "    \n",
    "\n",
    "    def generate_pairs(self, n = 3, length = 10):\n",
    "        \"\"\"\n",
    "        Generates n pairs of strings of a given length.\n",
    "        \n",
    "        Arguments:\n",
    "            n (int): how many strings need to be generated;\n",
    "            length (int): length of the strings.\n",
    "            \n",
    "        Returns:\n",
    "            list[tuple[str]]: n generated pairs of strings.\n",
    "        \"\"\"\n",
    "        transparent = self._transparent()\n",
    "        outputs = self.generate_words(n, length)\n",
    "        inputs = self._mask_words(outputs, transparent)\n",
    "        return list(zip(inputs, outputs))\n",
    "        \n",
    "        \n",
    "    def _generate(self, unpacked, length):\n",
    "        \"\"\"\n",
    "        Generates a set of strings; helper function.\n",
    "        \n",
    "        Output type: list[str]\n",
    "        \"\"\"\n",
    "        \n",
    "        # initialize the specifications of this particular string\n",
    "        string = \"\"\n",
    "        specs = self._specify()\n",
    "        \n",
    "        while len(string) < length:\n",
    "            \n",
    "            \n",
    "            # check if we can now output the blocker\n",
    "            if self.blockers is not None:\n",
    "                while randint(1, self.blocker_prob) == 1:\n",
    "                    b = choice(list(self.blockers))\n",
    "                    string += b\n",
    "                    \n",
    "                    if len(string) == length:\n",
    "                        return string\n",
    "                    \n",
    "                    # rewrite the specification because of the blocker\n",
    "                    if self.blockers[b] not in specs:\n",
    "                        for spec in specs:\n",
    "                            if unpacked[spec] == unpacked[self.blockers[b]]:\n",
    "                                specs.remove(spec)\n",
    "                                specs.append(self.blockers[b])\n",
    "                                break\n",
    "                                \n",
    "            # make sure that we don't generate cluster of the same\n",
    "            # harminic set as the previous one\n",
    "            if len(string) > 0:\n",
    "                change = string[-1] in unpacked\n",
    "            else:\n",
    "                change = False\n",
    "            \n",
    "            # select and add new possible character as many times as\n",
    "            # cl_lengths indicate\n",
    "            if not change:\n",
    "                newchar = choice(specs)\n",
    "            else:\n",
    "                collection = [i for i in specs]\n",
    "                collection.remove(string[-1])\n",
    "                newchar = choice(collection)\n",
    "            freq_b, freq_e = self.cl_lengths[unpacked[newchar]]\n",
    "            string += newchar * randint(freq_b, freq_e)\n",
    "            \n",
    "            # output\n",
    "            if len(string) > length:\n",
    "                string = \"\"\n",
    "            elif len(string) == length:\n",
    "                return string\n",
    "            \n",
    "            \n",
    "    def _mask(self, string, transparent):\n",
    "        \"\"\"\n",
    "        Masks all non-initial mentions of the specified allophone: helper function.\n",
    "        \n",
    "        Output type: str\n",
    "        \"\"\"\n",
    "        classes = {i:False for i in self.cl_members.keys()}\n",
    "        undergoers = self._undergoers()\n",
    "        new = \"\"\n",
    "        for s in string:\n",
    "            if (s in undergoers) and (s not in transparent.values()):\n",
    "                for c in classes:\n",
    "                    \n",
    "                    # rewrite the non-initial mention of the harmonic set member\n",
    "                    # as its harmony_class_id\n",
    "                    if s in c and not classes[c]:\n",
    "                        classes[c] = True\n",
    "                        new += s\n",
    "                    elif s in c:\n",
    "                        new += self.cl_members[c]\n",
    "            else:\n",
    "                new += s\n",
    "        return new\n",
    "\n",
    "    \n",
    "    def _mask_words(self, words, transparent):\n",
    "        \"\"\"\n",
    "        Masks every word of a given list; helper function.\n",
    "        \n",
    "        Output type: list[str]\n",
    "        \"\"\"\n",
    "        return [self._mask(w, transparent) for w in words]\n",
    "            \n",
    "            \n",
    "    def _undergoers(self):\n",
    "        \"\"\"\n",
    "        Collects all undergoers; helper function.\n",
    "        \n",
    "        Output type: list[char]\n",
    "        \"\"\"\n",
    "        items = []\n",
    "        for i in self.cl_members:\n",
    "            items.extend(list(i))\n",
    "        return items\n",
    "    \n",
    "    def _transparent(self):\n",
    "        \"\"\"\n",
    "        Checks if there are transparent items, i.e. if there is\n",
    "        a harmonic class or classes that only contain a single item.\n",
    "        \n",
    "        Output type: dict[str:str]\n",
    "        \"\"\"\n",
    "        transparent = dict()\n",
    "        for i in self.cl_members:\n",
    "            if len(i) == 1:\n",
    "                transparent[self.cl_members[i]] = i[0]\n",
    "        return transparent\n",
    "        \n",
    "        \n",
    "    def _verify_classes(self):\n",
    "        \"\"\"\n",
    "        Verifies that no set (harmonic sets or the set of blockers)\n",
    "        overlaps with each other.\n",
    "        \n",
    "        Output type: bool\n",
    "        \"\"\"\n",
    "        items = self._undergoers()\n",
    "        if self.blockers is not None:\n",
    "            block_ok = all([i not in items for i in self.blockers])\n",
    "        else:\n",
    "            block_ok = True\n",
    "        return len(items) == len(set(items)) and block_ok\n",
    "    \n",
    "    \n",
    "    def _unpack_classes(self):\n",
    "        \"\"\"\n",
    "        Creates a dictionary where every harmonizing element \n",
    "        is mapped to its harmonic class; helps to optimize \n",
    "        the lookup of this information.\n",
    "        \n",
    "        Output type: dict\n",
    "        \"\"\"\n",
    "        items = self._undergoers()\n",
    "        unpacked = {}\n",
    "        for i in items:\n",
    "            for j in self.cl_members:\n",
    "                if i in j:\n",
    "                    unpacked[i] = self.cl_members[j]\n",
    "        return unpacked\n",
    "\n",
    "    \n",
    "    def _specify(self):\n",
    "        \"\"\"\n",
    "        Randomly initialize a specification from all given\n",
    "        harmonic datasets.\n",
    "        \n",
    "        Output type: list[char]\n",
    "        \"\"\"\n",
    "        return list(map(choice, self.cl_members.keys()))"
   ]
  },
  {
   "cell_type": "markdown",
   "metadata": {},
   "source": [
    "### Examples of the data generated by AHG\n",
    "\n",
    "#### Parallel vowel and consonant harmonies\n",
    "Harmony of a class \"A\" that contains \"a\" and \"o\" and of a class \"B\" that contains \"b\" and \"p\". Linguistically, these are simultaneous and independent vowel and consonant harmonies."
   ]
  },
  {
   "cell_type": "code",
   "execution_count": 4,
   "metadata": {},
   "outputs": [],
   "source": [
    "s1 = {(\"a\", \"o\"):\"A\", (\"b\", \"p\"):\"B\"}\n",
    "h1 = Harmony(s1)"
   ]
  },
  {
   "cell_type": "markdown",
   "metadata": {},
   "source": [
    "Now, let's generate a sample of well-formed words."
   ]
  },
  {
   "cell_type": "code",
   "execution_count": 5,
   "metadata": {},
   "outputs": [
    {
     "name": "stdout",
     "output_type": "stream",
     "text": [
      "['aaabbabbaa', 'bboobooobo', 'aappaaapap', 'bbbaabbaaa', 'appaappaaa']\n"
     ]
    }
   ],
   "source": [
    "print(h1.generate_words(n = 5, length = 10))"
   ]
  },
  {
   "cell_type": "markdown",
   "metadata": {},
   "source": [
    "And now, a sample of well-formed pairs."
   ]
  },
  {
   "cell_type": "code",
   "execution_count": 6,
   "metadata": {},
   "outputs": [
    {
     "name": "stdout",
     "output_type": "stream",
     "text": [
      "[('abBAABAB', 'abbaabab'),\n",
      " ('bBoAABAB', 'bbooobob'),\n",
      " ('aAbBBABB', 'aabbbabb'),\n",
      " ('pBBaBAAB', 'pppapaap')]\n"
     ]
    }
   ],
   "source": [
    "pprint(h1.generate_pairs(n = 4, length = 8))"
   ]
  },
  {
   "cell_type": "markdown",
   "metadata": {},
   "source": [
    "#### Harmony with a transparent element\n",
    "\n",
    "Transparent, or irrelevant items that only introduce the long-distance effect in the dataset can be modeled by providing an extra harmonic class with just a single item in it."
   ]
  },
  {
   "cell_type": "code",
   "execution_count": 7,
   "metadata": {},
   "outputs": [],
   "source": [
    "s2 = {(\"a\", \"o\"):\"A\", (\"x\"):\"X\"}\n",
    "l2 = {\"A\":(1, 2), \"X\":(2, 4)}\n",
    "h2 = Harmony(s2, l2)"
   ]
  },
  {
   "cell_type": "markdown",
   "metadata": {},
   "source": [
    "Now, us generate some well-formed words."
   ]
  },
  {
   "cell_type": "code",
   "execution_count": 8,
   "metadata": {},
   "outputs": [
    {
     "name": "stdout",
     "output_type": "stream",
     "text": [
      "['aaxxxaaxxx', 'aaxxxaxxxx', 'xxxaaxxxxa', 'aaxxxaxxaa', 'oxxxoxxxxo']\n"
     ]
    }
   ],
   "source": [
    "print(h2.generate_words(n = 5, length = 10))"
   ]
  },
  {
   "cell_type": "markdown",
   "metadata": {},
   "source": [
    "And now the underlying and surface forms. Note that transparent items are not masked!"
   ]
  },
  {
   "cell_type": "code",
   "execution_count": 9,
   "metadata": {},
   "outputs": [
    {
     "name": "stdout",
     "output_type": "stream",
     "text": [
      "[('xxoxxxAA', 'xxoxxxoo'),\n",
      " ('xxxaAxxx', 'xxxaaxxx'),\n",
      " ('oAxxAxxx', 'ooxxoxxx'),\n",
      " ('xxaxxxxA', 'xxaxxxxa')]\n"
     ]
    }
   ],
   "source": [
    "pprint(h2.generate_pairs(n = 4, length = 8))"
   ]
  },
  {
   "cell_type": "markdown",
   "metadata": {},
   "source": [
    "#### Parallel vowel and consonant harmonies with a blocking effect\n",
    "\n",
    "Harmony of a class \"A\" and of a class \"B\", where if \"t\" occurred, \"p\" cannot be observed anymore: class \"B\" changes its specification to \"p\". Namely, \"t\" is a blocker that only allows for \"p\" after itself.\n",
    "\n",
    "Additionally, clusters of the A-element consist usually from 1 to 3 elements, and clusters of the B-elements are 2 to 4 elements long. The probability of observing the blocker is $\\frac{1}{4}$ at every step of the generation."
   ]
  },
  {
   "cell_type": "code",
   "execution_count": 10,
   "metadata": {},
   "outputs": [],
   "source": [
    "s3 = {(\"a\", \"o\"):\"A\", (\"b\", \"p\"):\"B\"}\n",
    "l3 = {\"A\":(1, 3), \"B\":(2, 4)}\n",
    "b3 = {\"t\":\"p\"}\n",
    "p3 = 4\n",
    "h3 = Harmony(s3, l3, b3, p3)"
   ]
  },
  {
   "cell_type": "markdown",
   "metadata": {},
   "source": [
    "Let's first generate some well-formed words."
   ]
  },
  {
   "cell_type": "code",
   "execution_count": 11,
   "metadata": {},
   "outputs": [
    {
     "name": "stdout",
     "output_type": "stream",
     "text": [
      "['aaabbbttpp', 'oooppppooo', 'tpppaatppt', 'ppooppppoo', 'appptppppa']\n"
     ]
    }
   ],
   "source": [
    "print(h3.generate_words(n = 5, length = 10))"
   ]
  },
  {
   "cell_type": "markdown",
   "metadata": {},
   "source": [
    "And now, some underlying and surface forms."
   ]
  },
  {
   "cell_type": "code",
   "execution_count": 12,
   "metadata": {},
   "outputs": [
    {
     "name": "stdout",
     "output_type": "stream",
     "text": [
      "[('pBBBttotBBABBBB', 'ppppttotppopppp'),\n",
      " ('tapBBAtBBBBABBA', 'tapppatppppappa'),\n",
      " ('apBABBBBAAABBBB', 'appappppaaapppp'),\n",
      " ('pBBtttBBBBoAAtA', 'ppptttppppoooto'),\n",
      " ('pBBoAABBAAABBBA', 'pppoooppooopppo')]\n"
     ]
    }
   ],
   "source": [
    "pprint(h3.generate_pairs(n = 5, length = 15))"
   ]
  },
  {
   "cell_type": "markdown",
   "metadata": {},
   "source": [
    "## Step 3: Turkish generators and evaluators\n",
    "\n",
    "The following two functions I will be using in order to verify the well-formedness of generated Turkish or fake Turkish words:\n",
    "  * `backness_harmony` takes a string as input and tells if that strings is well-formed with respect to the rules of Turkish backness harmony;\n",
    "  * `rounding_harmony` does the same thing for the rounding harmony."
   ]
  },
  {
   "cell_type": "code",
   "execution_count": 13,
   "metadata": {},
   "outputs": [],
   "source": [
    "def backness_harmony(string):\n",
    "    \"\"\"\n",
    "    Tells if a string is well-formed according to rules\n",
    "    of Turkish backness harmony.\n",
    "    \"\"\"\n",
    "    front_class, back_class = \"Iaou\", \"ieOU\"\n",
    "    front, back = False, False\n",
    "    \n",
    "    for v in front_class + back_class:\n",
    "        if v in string:\n",
    "            front = True if v in front_class else front\n",
    "            back = True if v in back_class else back\n",
    "\n",
    "    return not (front and back)"
   ]
  },
  {
   "cell_type": "code",
   "execution_count": 14,
   "metadata": {},
   "outputs": [],
   "source": [
    "def rounding_harmony(string):\n",
    "    \"\"\"\n",
    "    Tells if a string is well-formed according to rules\n",
    "    of Turkish rounding harmony.\n",
    "    \"\"\"\n",
    "    high, low, rounded = \"iIuU\", \"aeoO\", \"uUoO\"\n",
    "    \n",
    "    vowels = \"\".join([v for v in string if v in high + low])\n",
    "    if len(vowels) < 2:\n",
    "        return True\n",
    "    \n",
    "    ro = vowels[0] in rounded\n",
    "    \n",
    "    for v in vowels[1:]:\n",
    "        if v in low:\n",
    "            if v in rounded:\n",
    "                return False\n",
    "            ro = False\n",
    "        elif (ro and v not in rounded) or (not ro and v in rounded):\n",
    "            return False\n",
    "            \n",
    "    return True"
   ]
  },
  {
   "cell_type": "code",
   "execution_count": 15,
   "metadata": {},
   "outputs": [],
   "source": [
    "def backness_and_rounding(string):\n",
    "    return backness_harmony(string) and rounding_harmony(string)"
   ]
  },
  {
   "cell_type": "markdown",
   "metadata": {},
   "source": [
    "Additionally, to generate simplified Turkish data I will be using `turkish_word` and `generate_turkish_words` that generate a single word and a dataset, correspondingly.\n",
    "\n",
    "Their parameters are:\n",
    "* `length` is a desired length of the Turkish word;\n",
    "* `cond` is a choice of \"consonant\" that will be separating the vowels;\n",
    "* `vowel_cluster` is a tuple of integers representing minimal and maximal length of the vowel cluster;\n",
    "* `cons_cluster` is a tuple of integers representing minimal and maximal length of the consonantal cluster;\n",
    "* `n` (available for `generate_turkish` only) is the number of the examples that need to be generated."
   ]
  },
  {
   "cell_type": "code",
   "execution_count": 16,
   "metadata": {},
   "outputs": [],
   "source": [
    "def turkish_word(length = 10, cons = \"x\", vowel_cluster = (1, 2),\n",
    "                          cons_cluster = (0, 3)):\n",
    "    \"\"\"\n",
    "    This generator generates fake Turkish words: namely, the words in which\n",
    "    the harmonic system and rules of Turkish are preserved, but all consonants\n",
    "    were substituted by a single given consonant.\n",
    "    \n",
    "    Arguments:\n",
    "    * length (int): a length of a word that needs to be generated;\n",
    "    * cons (str): a single character (or an empty string if only vowels\n",
    "                  need to be generated), a \"choice\" of the consonant \n",
    "                  that makes this harmony long-distant;\n",
    "    * vowel_cluster (tuple[int, int]): a tuple of integers representing\n",
    "                                       minimal and maximal length of\n",
    "                                       the vowel cluster;\n",
    "    * cons_cluster (tuple[int, int]): a tuple of integers representing\n",
    "                                      minimal and maximal length of\n",
    "                                      the consonantal cluster.\n",
    "                                      \n",
    "    Returns:\n",
    "    * str: a fake Turkish harmonic word, where all consonants are masked.\n",
    "    \"\"\"\n",
    "    if length < 1:\n",
    "        raise ValueError(\"Words cannot be so short.\")\n",
    "    \n",
    "    vowels = {\n",
    "        (True, True, True):\"u\",\n",
    "        (True, True, False):\"I\",\n",
    "        (True, False, True):\"o\",\n",
    "        (True, False, False):\"a\",\n",
    "        (False, True, True):\"U\",\n",
    "        (False, True, False):\"i\",\n",
    "        (False, False, True):\"O\",\n",
    "        (False, False, False):\"e\"\n",
    "    }\n",
    "    \n",
    "    backness = choice([True, False])\n",
    "    height = choice([True, False])\n",
    "    rounding = choice([True, False])\n",
    "    \n",
    "    specs = (backness, height, rounding)\n",
    "    word = \"\"\n",
    "    \n",
    "    if choice([0, 1]):\n",
    "            word += \"x\" * randint(*cons_cluster)\n",
    "            \n",
    "    while len(word) < length:\n",
    "        vc = vowels[specs] * randint(*vowel_cluster)\n",
    "        \n",
    "        # this part is neededd to avoid the word-initial *oo clusters\n",
    "        if len(vc) > 1 and not height and rounding:\n",
    "            rounding = False\n",
    "            vc = vc[0] + vowels[(backness, height, rounding)] * (len(vc) - 1)\n",
    "            \n",
    "        word += vc\n",
    "        word += \"x\" * randint(*cons_cluster)\n",
    "        \n",
    "        height = choice([True, False])\n",
    "        rounding = False if not height else rounding\n",
    "        specs = (backness, height, rounding)\n",
    "        \n",
    "    return word[:length]"
   ]
  },
  {
   "cell_type": "code",
   "execution_count": 17,
   "metadata": {},
   "outputs": [],
   "source": [
    "def generate_turkish_words(n = 10, length = 10, cons = \"x\",\n",
    "                           vowel_cluster = (1, 2), cons_cluster = (1, 3)):\n",
    "    \"\"\"\n",
    "    This generator generates a list of fake Turkish words.\n",
    "    \n",
    "    Arguments:\n",
    "    * n (int): a number of strings that need to be generated;\n",
    "    ... for the rest of the arguments, see generate_turkish_word.\n",
    "    \n",
    "    Outputs:\n",
    "    * list: the list containing n fake Turkish words.\n",
    "    \"\"\"\n",
    "    return [turkish_word(length, cons, vowel_cluster, cons_cluster) for i in range(n)]"
   ]
  },
  {
   "cell_type": "markdown",
   "metadata": {},
   "source": [
    "Additionally, I wrote `turkish_pair` and `generate_turkish_pairs` that produce pairs (UR -> SF based on the Turkish words). In this case, all non-initial vowels are masked, and only their height specification remains: `H` or `L`)."
   ]
  },
  {
   "cell_type": "code",
   "execution_count": 18,
   "metadata": {},
   "outputs": [],
   "source": [
    "def turkish_pair(word):\n",
    "    \"\"\"\n",
    "    This function takes Turkish surface form as input, and returns\n",
    "    the pair of its underlying representation and the surface form.\n",
    "    \"\"\"\n",
    "    high, low = \"iIuU\", \"aeoO\"\n",
    "    initial = False\n",
    "    \n",
    "    UR = \"\"\n",
    "    for s in word:\n",
    "        if s in high + low and not initial:\n",
    "            UR += s\n",
    "            initial = True\n",
    "        elif s in high:\n",
    "            UR += \"H\"\n",
    "        elif s in low:\n",
    "            UR += \"L\"\n",
    "        else:\n",
    "            UR += s\n",
    "            \n",
    "    return (UR, word)"
   ]
  },
  {
   "cell_type": "code",
   "execution_count": 19,
   "metadata": {},
   "outputs": [],
   "source": [
    "def generate_turkish_pairs(n = 10, length = 10, cons = \"x\",\n",
    "                           vowel_cluster = (1, 2), cons_cluster = (1, 3)):\n",
    "    \"\"\"\n",
    "    This generator generates a list of fake Turkish pairs.\n",
    "    \n",
    "    Arguments:\n",
    "    * n (int): a number of strings that need to be generated;\n",
    "    ... for the rest of the arguments, see generate_turkish_word.\n",
    "    \n",
    "    Outputs:\n",
    "    * list: the list containing n fake Turkish pairs.\n",
    "    \"\"\"\n",
    "    words = [turkish_word(length, cons, vowel_cluster, cons_cluster) for i in range(n)]\n",
    "    return [turkish_pair(w) for w in words]"
   ]
  },
  {
   "cell_type": "markdown",
   "metadata": {},
   "source": [
    "## Step 4: other harmonic evaluators\n",
    "\n",
    "The function `harmonic_evaluator` below takes two arguments: `data` and `rule`. `data` is a list of words that need to be evaluated, and `rule` is the evaluation function for some concrete harmony. This function will be further used in order to evaluate the performance of the learners on the generated datasets."
   ]
  },
  {
   "cell_type": "code",
   "execution_count": 20,
   "metadata": {},
   "outputs": [],
   "source": [
    "def harmonic_evaluator(data, rule):\n",
    "    \"\"\"\n",
    "    Evaluates the provided data with respect to a given\n",
    "    rule of harmony.\n",
    "    \n",
    "    Arguments:\n",
    "    * data (list[str]): a list of strings tht need to be evaluated;\n",
    "    * rule (function): a function that evaluates a string according\n",
    "                       to some harmony.\n",
    "                       \n",
    "    Results:\n",
    "    * Prints the report that shows if the data follows the rule.\n",
    "    \"\"\"\n",
    "    correct = 0\n",
    "    for w in data:\n",
    "        correct = (correct + 1) if rule(w) else correct\n",
    "        \n",
    "    ratio = (correct / len(data))\n",
    "    print(f\"Percentage of harmonic words: {int(ratio * 100)}%.\")"
   ]
  },
  {
   "cell_type": "markdown",
   "metadata": {},
   "source": [
    "### Finnish\n",
    "\n",
    "Finally, `front_harmony` defines a function that tells if a given string follows a rule of Finnish vowel harmony."
   ]
  },
  {
   "cell_type": "code",
   "execution_count": 21,
   "metadata": {},
   "outputs": [],
   "source": [
    "def front_harmony(string):\n",
    "    \"\"\"\n",
    "    Tells if a string is well-formed according to rules\n",
    "    of Finnish backness harmony.\n",
    "    \"\"\"\n",
    "    front_class, back_class = \"AOy\", \"aou\"\n",
    "    front, back = False, False\n",
    "    \n",
    "    for v in front_class + back_class:\n",
    "        if v in string:\n",
    "            front = True if v in front_class else front\n",
    "            back = True if v in back_class else back\n",
    "\n",
    "    return not (front and back)"
   ]
  },
  {
   "cell_type": "markdown",
   "metadata": {},
   "source": [
    "### Fake harmonies evaluators\n",
    "\n",
    "This section would need to eventually be redone."
   ]
  },
  {
   "cell_type": "code",
   "execution_count": 22,
   "metadata": {},
   "outputs": [],
   "source": [
    "def single_harmony_no_blockers(string):\n",
    "    \"\"\"\n",
    "    Checks if a single [a, o] harmony is well-formed.\n",
    "    \"\"\"\n",
    "    return not(\"a\" in string and \"o\" in string)"
   ]
  },
  {
   "cell_type": "code",
   "execution_count": 23,
   "metadata": {},
   "outputs": [],
   "source": [
    "def single_harmony_with_blockers(string):\n",
    "    \"\"\"\n",
    "    Checks if a single [a, o] harmony with a blocker f:a is well-formed.\n",
    "    \"\"\"\n",
    "    if \"f\" in string:\n",
    "        s1 = string[:string.index(\"f\")]\n",
    "        s2 = string[string.index(\"f\") + 1:]\n",
    "        return single_harmony_no_blockers(s1) and (not \"o\" in s2)\n",
    "    else:\n",
    "        return single_harmony_no_blockers(string)"
   ]
  },
  {
   "cell_type": "code",
   "execution_count": 24,
   "metadata": {},
   "outputs": [],
   "source": [
    "def double_harmony(string, group = [\"a\", \"o\", \"u\", \"e\"]):\n",
    "    \"\"\"\n",
    "    Tells if a string contains only one out of four\n",
    "    (vowel) classes; check that at most one class\n",
    "    of vowels occurs within one word.\n",
    "    \n",
    "    Arguments:\n",
    "    * string (str): a string that needs to be verified;\n",
    "    * group (list[char]): the harmonic class.\n",
    "    \"\"\"\n",
    "    assert len(group) == 4\n",
    "    classes = 0\n",
    "    \n",
    "    for i in group:\n",
    "        classes = (classes + 1) if i in string else classes\n",
    "        \n",
    "    return classes in [0, 1]"
   ]
  },
  {
   "cell_type": "code",
   "execution_count": 25,
   "metadata": {},
   "outputs": [],
   "source": [
    "def double_harmony_no_blockers(string):\n",
    "    \"\"\"\n",
    "    Checks if a double [a, o] and [b, p] harmony is well-formed.\n",
    "    \"\"\"\n",
    "    vowels = not(\"a\" in string and \"o\" in string)\n",
    "    consonants = not(\"b\" in string and \"p\" in string)\n",
    "    return vowels and consonants"
   ]
  },
  {
   "cell_type": "code",
   "execution_count": 26,
   "metadata": {},
   "outputs": [],
   "source": [
    "def double_harmony_with_blockers(string):\n",
    "    \"\"\"\n",
    "    Checks if a double [a, o] and [b, p] harmony with a blocker t:p\n",
    "    is well-formed.\n",
    "    \"\"\"\n",
    "    if \"a\" in string and \"o\" in string:\n",
    "        return False\n",
    "    \n",
    "    if \"t\" in string:\n",
    "        s1 = string[:string.index(\"t\")]\n",
    "        s2 = string[string.index(\"t\") + 1:]\n",
    "        return double_harmony_no_blockers(s1) and (\"b\" not in s2)\n",
    "    else:\n",
    "        return double_harmony_no_blockers(string)"
   ]
  },
  {
   "cell_type": "markdown",
   "metadata": {},
   "source": [
    "## Step 5: Word-final devoicing generators and evaluators\n",
    "\n",
    "The functions `word_final_devoicing` and `generate_wfd` imitate the process of word-final devoicing.\n",
    "The former one generates a string or a pair of strings (UR -> SF) implementing that rule, and the latter one generates dataset consisting of ones.\n",
    "\n",
    "Their arguments are the following:\n",
    "* `sigma` is a list of symbols that can be used in the words;\n",
    "* `devoice` contains two tuples, where the first tuple represents voiced obstruents, and the second one stands for their voiceless counterparts;\n",
    "* `length` is the length of the intended words;\n",
    "* if `pairs` is True, (UG, SF) pairs will be returned, if False, only the surface forms;\n",
    "* `n` (available only for `generate_wfd`) is a number of strings or pairs that need to be generated."
   ]
  },
  {
   "cell_type": "code",
   "execution_count": 27,
   "metadata": {},
   "outputs": [],
   "source": [
    "def word_final_devoicing(sigma = (\"a\", \"b\", \"p\"), devoice = ((\"b\"), (\"p\")),\n",
    "                         length = 10, pairs = False):\n",
    "    \"\"\"\n",
    "    This function generates either a word grammatical with respect to a rule\n",
    "    of the word final devoicing, or a fake UG -> SF pair.\n",
    "    \n",
    "    Arguments: \n",
    "    * sigma (list[str]): a list of symbols that can be used in the words;\n",
    "    * devoice (tuple[tuple, tuple]): the first tuple represents voiced\n",
    "                                     obstruents, and the second one stands\n",
    "                                     for their voiceless counterparts;\n",
    "    * length (int): a length of the intended words;\n",
    "    * pairs (bool): if True, (UG, SF) pairs will be returned, if False, only\n",
    "                    the surface forms.\n",
    "                    \n",
    "    Outputs:\n",
    "    * str/tuple: a string or a tuple of strings (depending on the parameter \n",
    "                 `pairs`) representing the application of the word-final \n",
    "                 devoicing.\n",
    "    \"\"\"\n",
    "    if length < 1:\n",
    "        raise ValueError(\"The string has a very weird length.\")\n",
    "        \n",
    "    before, after = devoice\n",
    "    string = \"\".join([choice(sigma) for i in range(length)])\n",
    "    \n",
    "    if string[-1] not in before:\n",
    "        return (string, string) if pairs else string\n",
    "    \n",
    "    devoiced = string[:-1] + after[before.index(string[-1])]\n",
    "    return (string, devoiced) if pairs else devoiced"
   ]
  },
  {
   "cell_type": "code",
   "execution_count": 28,
   "metadata": {},
   "outputs": [],
   "source": [
    "def generate_wfd(n = 10, sigma = (\"a\", \"b\", \"p\"), devoice = ((\"b\"), (\"p\")),\n",
    "                 length = 10, pairs = False):\n",
    "    \"\"\"\n",
    "    Generates a set of strings or pairs that satisfy the rule of\n",
    "    the word-final devoicing.\n",
    "    \n",
    "    Arguments:\n",
    "    * n (int): the number of strings that need to be generated;\n",
    "    ... for the rest of the arguments see word_final_devoicing.\n",
    "    \n",
    "    Outputs:\n",
    "    * list: a list of strings or tuples (depending on the parameter `pairs`)\n",
    "            representing the application of the word-final devoicing.\n",
    "    \"\"\"\n",
    "    return [word_final_devoicing(sigma, devoice, length, pairs) for i in range(n)]"
   ]
  },
  {
   "cell_type": "markdown",
   "metadata": {},
   "source": [
    "The following functions `evaluate_wfd_words` and `evaluate_wfd_pairs` evaluate words and pairs of words with respect to the rules of the word-final devoicing."
   ]
  },
  {
   "cell_type": "code",
   "execution_count": 29,
   "metadata": {},
   "outputs": [],
   "source": [
    "def evaluate_wfd_words(data, voiced = (\"b\")):\n",
    "    \"\"\"\n",
    "    Evaluates the provided words with respect to the rule \n",
    "    of the word-final devoicing.\n",
    "    \n",
    "    Arguments:\n",
    "    * data (list[str]): a list of strings tht need to be evaluated;\n",
    "    * voiced (tuple[char]): a list of voiced characters, i.e. those\n",
    "                            that cannot be word-final.\n",
    "                       \n",
    "    Results:\n",
    "    * Prints the report that shows if the data follows the rule.\n",
    "    \"\"\"\n",
    "    correct = 0\n",
    "    for w in data:\n",
    "        \n",
    "        if not len(w):\n",
    "            correct += 1\n",
    "            continue\n",
    "            \n",
    "        correct = (correct + 1) if w[-1] not in voiced else correct\n",
    "        \n",
    "    ratio = (correct / len(data))\n",
    "    print(f\"Percentage of well-formed words: {int(ratio * 100)}%.\")"
   ]
  },
  {
   "cell_type": "code",
   "execution_count": 30,
   "metadata": {},
   "outputs": [],
   "source": [
    "def evaluate_wfd_pairs(data, devoice = ((\"b\"), (\"p\"))):\n",
    "    \"\"\"\n",
    "    Evaluates the provided pairs with respect to the rule \n",
    "    of the word-final devoicing.\n",
    "    \n",
    "    Arguments:\n",
    "    * data (list[str]): a list of strings tht need to be evaluated;\n",
    "    * voiced (tuple[char]): a list of voiced characters, i.e. those\n",
    "                            that cannot be word-final.\n",
    "                       \n",
    "    Results:\n",
    "    * Prints the report that shows if the data follows the rule.\n",
    "    \"\"\"\n",
    "    correct = 0\n",
    "    before, after = devoice\n",
    "    \n",
    "    for w in data:\n",
    "        \n",
    "        UR, SF = w\n",
    "        assert len(UR) == len(SF)\n",
    "        \n",
    "        if not len(UR):\n",
    "            correct += 1\n",
    "            continue\n",
    "        \n",
    "        if UR[-1] not in before:\n",
    "            correct = (correct + 1) if UR == SF else correct\n",
    "            continue\n",
    "        \n",
    "        SF_bar = UR[:-1] + after[before.index(UR[-1])]\n",
    "        correct = (correct + 1) if SF == SF_bar else correct\n",
    "        \n",
    "    ratio = (correct / len(data))\n",
    "    print(f\"Percentage of well-formed words: {int(ratio * 100)}%.\")"
   ]
  },
  {
   "cell_type": "markdown",
   "metadata": {},
   "source": [
    "As before, we can generate some words or pairs of words representing the rule of the word-final devoicing, and then check if the evaluator considers that those datasets are well-formed."
   ]
  },
  {
   "cell_type": "code",
   "execution_count": 31,
   "metadata": {},
   "outputs": [
    {
     "name": "stdout",
     "output_type": "stream",
     "text": [
      "Percentage of well-formed words: 100%.\n",
      "Percentage of well-formed words: 100%.\n"
     ]
    }
   ],
   "source": [
    "evaluate_wfd_words(generate_wfd(n = 1000, pairs = False))\n",
    "evaluate_wfd_pairs(generate_wfd(n = 1000, pairs = True))"
   ]
  },
  {
   "cell_type": "markdown",
   "metadata": {},
   "source": [
    "## Step 6: UTP generator and evalurator\n",
    "\n",
    "The function `generate_tonal_pattern` takes a length of the string that needs to be generated, and returns a random string of raising (H) and falling (L) tones as output. `utp_tones` takes that string of tones as input, and rewrites it according to the UTP rules: no L tones are allowed in-between two H tones."
   ]
  },
  {
   "cell_type": "code",
   "execution_count": 32,
   "metadata": {},
   "outputs": [],
   "source": [
    "def generate_tonal_pattern(length = 5):\n",
    "    \"\"\" Generates a random sequence of tones of a given length. \"\"\"\n",
    "    return \"\".join(choice([\"H\", \"L\"]) for i in range(length))"
   ]
  },
  {
   "cell_type": "code",
   "execution_count": 33,
   "metadata": {},
   "outputs": [],
   "source": [
    "def utp_tones(string):\n",
    "    \"\"\" Rewrites a tonal string with respect to the rules of UTP. \"\"\"\n",
    "    \n",
    "    if set(string) not in [{\"H\", \"L\"}, {\"H\"}, {\"L\"}, set(\"\")]:\n",
    "        print(string)\n",
    "        raise ValueError(\"Unexpected symbols in the tonal string!\")\n",
    "    if not (\"H\" in string and \"L\" in string):\n",
    "        return string\n",
    "    \n",
    "    first_h = string.find(\"H\")\n",
    "    last_h = len(string) - string[::-1].find(\"H\")\n",
    "    return string[:first_h] + \"H\" * (last_h - first_h) + string[last_h:]"
   ]
  },
  {
   "cell_type": "markdown",
   "metadata": {},
   "source": [
    "Then, `generate_utp_strings` and `generate_utp_pairs` generate strings and pairs (UR -> SF) of tones that are well-formed accroding to the rules of UTP. As before, `n` signifies the number of strings that need to be generated, and `length` is the length of those strings."
   ]
  },
  {
   "cell_type": "code",
   "execution_count": 34,
   "metadata": {},
   "outputs": [],
   "source": [
    "def generate_utp_strings(n = 10, length = 5):\n",
    "    \"\"\" Generates n strings of tones that follow UTP rules. \"\"\"\n",
    "    return [utp_tones(generate_tonal_pattern(length)) for i in range(n)]"
   ]
  },
  {
   "cell_type": "code",
   "execution_count": 35,
   "metadata": {},
   "outputs": [],
   "source": [
    "def generate_utp_pairs(n = 10, length = 5):\n",
    "    \"\"\" Generates n pairs of tones (UR -> SF) that follow UTP rules. \"\"\"\n",
    "    pairs = []\n",
    "    for i in range(n):\n",
    "        before = generate_tonal_pattern(length)\n",
    "        pairs.append((before, utp_tones(before)))\n",
    "    return pairs"
   ]
  },
  {
   "cell_type": "markdown",
   "metadata": {},
   "source": [
    "Finally, `evaluate_utp_strings` and `evaluate_utp_pairs` calculate what is the percentage of the input data (strings or pairs of strings) is well-formed with respect to the rules of UTP."
   ]
  },
  {
   "cell_type": "code",
   "execution_count": 36,
   "metadata": {},
   "outputs": [],
   "source": [
    "def evaluate_utp_strings(data):\n",
    "    \"\"\" Evaluates the correctness of if the given sample of tonal strings. \"\"\"\n",
    "    correct = 0\n",
    "    for w in data:\n",
    "        correct = (correct + 1) if utp_tones(w) == w else correct\n",
    "        \n",
    "    ratio = (correct / len(data))\n",
    "    print(f\"Percentage of well-formed tonal layers: {int(ratio * 100)}%.\")\n",
    "    \n",
    "    \n",
    "def evaluate_utp_pairs(data):\n",
    "    \"\"\"\n",
    "    Evaluates the correctness of if the given sample\n",
    "    of tonal pairs (UR -> SF).\n",
    "    \"\"\"\n",
    "    correct = 0\n",
    "    for pair in data:\n",
    "        before, after = pair\n",
    "        \n",
    "        if len(set(after)) > 2:\n",
    "            continue\n",
    "            \n",
    "        correct = (correct + 1) if utp_tones(before) == after else correct\n",
    "        \n",
    "    ratio = (correct / len(data))\n",
    "    print(f\"Percentage of well-formed tonal layers: {int(ratio * 100)}%.\")"
   ]
  },
  {
   "cell_type": "markdown",
   "metadata": {},
   "source": [
    "As before, we can verify the correctness of the generator using the evaluation functions."
   ]
  },
  {
   "cell_type": "code",
   "execution_count": 37,
   "metadata": {},
   "outputs": [
    {
     "name": "stdout",
     "output_type": "stream",
     "text": [
      "Percentage of well-formed tonal layers: 100%.\n",
      "Percentage of well-formed tonal layers: 100%.\n"
     ]
    }
   ],
   "source": [
    "evaluate_utp_strings(generate_utp_strings(n = 1000))\n",
    "evaluate_utp_pairs(generate_utp_pairs(n = 1000))"
   ]
  },
  {
   "cell_type": "markdown",
   "metadata": {},
   "source": [
    "## Step 7: First-last harmony generators and evaluators"
   ]
  },
  {
   "cell_type": "code",
   "execution_count": 4,
   "metadata": {},
   "outputs": [],
   "source": [
    "def first_last_UR(n = 10, length = 10):\n",
    "    \"\"\" Generates URs of first-last harmony words. \"\"\"\n",
    "    strings = []\n",
    "    for i in range(n):\n",
    "        new = choice([\"a\", \"o\"])\n",
    "        new += \"\".join([choice([\"a\", \"o\", \"x\"]) for j in range(length - 2)])\n",
    "        new += choice([\"a\", \"o\"])\n",
    "        strings.append(new)\n",
    "    return strings\n",
    "\n",
    "def first_last(string):\n",
    "    \"\"\" Makes the first and the last segment of the string the same. \"\"\"\n",
    "    return string[:-1] + string[0]\n",
    "\n",
    "def first_last_words(n = 10, length = 10):\n",
    "    \"\"\" Generates N first-last words. \"\"\"\n",
    "    return [first_last(w) for w in first_last_UR(n, length)]\n",
    "\n",
    "def first_last_pairs(n = 10, length = 10):\n",
    "    \"\"\" Generates N first-last pairs of words. \"\"\"\n",
    "    URs = first_last_UR(n, length)\n",
    "    pairs = []\n",
    "    for ur in URs:\n",
    "        pairs.append((ur, first_last(ur)))\n",
    "    return pairs"
   ]
  },
  {
   "cell_type": "code",
   "execution_count": 5,
   "metadata": {},
   "outputs": [],
   "source": [
    "def evaluate_first_last_words(data):\n",
    "    \"\"\"\n",
    "    Evaluates the correctness of if the given sample\n",
    "    of first-last harmony (UR -> SF).\n",
    "    \"\"\"\n",
    "    newdata = [i for i in data if len(i) > 1]\n",
    "    correct = 0\n",
    "    for w in newdata:\n",
    "        if w[0] == w[-1]:\n",
    "            correct += 1\n",
    "        \n",
    "    ratio = (correct / len(newdata))\n",
    "    print(f\"Percentage of first-last harmonic words: {int(ratio * 100)}%.\")\n",
    "    \n",
    "    \n",
    "def evaluate_first_last_pairs(data):\n",
    "    \"\"\"\n",
    "    Evaluates the correctness of if the given sample\n",
    "    of first-last harmony (UR -> SF).\n",
    "    \"\"\"\n",
    "    newdata = [i for i in data if len(i) > 1]\n",
    "    correct = 0\n",
    "    for pair in newdata:\n",
    "        if first_last(pair[0]) == pair[1]:\n",
    "            correct += 1\n",
    "        \n",
    "    ratio = (correct / len(newdata))\n",
    "    print(f\"Percentage of first-last harmonic words: {int(ratio * 100)}%.\")"
   ]
  },
  {
   "cell_type": "markdown",
   "metadata": {},
   "source": [
    "### Quick helper functions"
   ]
  },
  {
   "cell_type": "code",
   "execution_count": 6,
   "metadata": {},
   "outputs": [],
   "source": [
    "def test_fst(fst, testdata):\n",
    "    n = 0\n",
    "    for i in testdata:\n",
    "        if fst.rewrite(i[0]) == i[1]:\n",
    "            n += 1\n",
    "    print(\"Score:\", str(n / len(testdata) * 100) + \"%\")"
   ]
  },
  {
   "cell_type": "code",
   "execution_count": 7,
   "metadata": {},
   "outputs": [],
   "source": [
    "from random import randint"
   ]
  },
  {
   "cell_type": "markdown",
   "metadata": {},
   "source": [
    "# Preparing the training samples\n",
    "\n",
    "## Dataset 1: word-final devoicing"
   ]
  },
  {
   "cell_type": "code",
   "execution_count": 84,
   "metadata": {},
   "outputs": [
    {
     "name": "stdout",
     "output_type": "stream",
     "text": [
      "[('aa', 'aa'), ('p', 'p'), ('ab', 'ap'), ('p', 'p'), ('ppbbp', 'ppbbp'), ('bpba', 'bpba'), ('bapb', 'bapp'), ('abbap', 'abbap'), ('p', 'p'), ('apa', 'apa'), ('apbap', 'apbap'), ('a', 'a'), ('b', 'p'), ('ppa', 'ppa'), ('pabap', 'pabap')]\n"
     ]
    }
   ],
   "source": [
    "wfd_data = lambda x, y: [word_final_devoicing(sigma = (\"a\", \"b\", \"p\"), devoice = ((\"b\"), (\"p\")), \n",
    "                                           length = y, pairs = True) for i in range(x)]\n",
    "\n",
    "data_1 = []\n",
    "for i in range(1500):\n",
    "    new = word_final_devoicing(sigma = (\"a\", \"b\", \"p\"), devoice = ((\"b\"), (\"p\")),\n",
    "                               length = randint(1, 5), pairs = True)\n",
    "    data_1.append(new)\n",
    "\n",
    "test_1 = []\n",
    "for i in range(1000):\n",
    "    new = word_final_devoicing(sigma = (\"a\", \"b\", \"p\"), devoice = ((\"b\"), (\"p\")),\n",
    "                               length = randint(1, 5), pairs = True)\n",
    "    test_1.append(new)\n",
    "\n",
    "    \n",
    "sigma1 = [\"a\", \"b\", \"p\"]\n",
    "gamma1 = [\"a\", \"b\", \"p\"]\n",
    "\n",
    "print(data_1[:15])"
   ]
  },
  {
   "cell_type": "code",
   "execution_count": 85,
   "metadata": {},
   "outputs": [
    {
     "name": "stdout",
     "output_type": "stream",
     "text": [
      "Score: 100.0%\n"
     ]
    }
   ],
   "source": [
    "o1 = ostia(data_1, sigma1, gamma1)\n",
    "test_fst(o1, test_1)\n",
    "\n",
    "# Score: 100.0%"
   ]
  },
  {
   "cell_type": "code",
   "execution_count": 45,
   "metadata": {},
   "outputs": [],
   "source": [
    "# o1.E\n",
    "\n",
    "# [['', 'b', '', 'b'],\n",
    "#  ['b', 'b', 'b', 'b'],\n",
    "#  ['', 'a', 'a', ''],\n",
    "#  ['', 'p', 'p', ''],\n",
    "#  ['b', 'a', 'ba', ''],\n",
    "#  ['b', 'p', 'bp', '']]"
   ]
  },
  {
   "cell_type": "code",
   "execution_count": 46,
   "metadata": {},
   "outputs": [],
   "source": [
    "# o1.stout\n",
    "\n",
    "# {'': '', 'b': 'p'}"
   ]
  },
  {
   "cell_type": "code",
   "execution_count": 119,
   "metadata": {},
   "outputs": [
    {
     "name": "stdout",
     "output_type": "stream",
     "text": [
      "Score: 100.0%\n"
     ]
    }
   ],
   "source": [
    "test_11 = []\n",
    "for i in range(1000):\n",
    "    new = word_final_devoicing(sigma = (\"a\", \"b\", \"p\"), devoice = ((\"b\"), (\"p\")),\n",
    "                               length = randint(15, 20), pairs = True)\n",
    "    test_11.append(new)\n",
    "test_fst(o1, test_11)\n",
    "\n",
    "# Score: 100.0%"
   ]
  },
  {
   "cell_type": "markdown",
   "metadata": {},
   "source": [
    "## Dataset 2: one harmony, no blockers"
   ]
  },
  {
   "cell_type": "code",
   "execution_count": 121,
   "metadata": {
    "scrolled": true
   },
   "outputs": [
    {
     "name": "stdout",
     "output_type": "stream",
     "text": [
      "[('axx', 'axx'), ('xaxA', 'xaxa'), ('xxxox', 'xxxox'), ('axx', 'axx'), ('oAxxA', 'ooxxo'), ('oAxxxAAxxx', 'ooxxxooxxx'), ('xxxoAxx', 'xxxooxx'), ('oAxxxAxxx', 'ooxxxoxxx'), ('axAxx', 'axaxx'), ('aAxAxxxA', 'aaxaxxxa'), ('xxxoA', 'xxxoo'), ('axxxAA', 'axxxaa'), ('xxaA', 'xxaa'), ('xaxxxA', 'xaxxxa'), ('aA', 'aa')]\n"
     ]
    }
   ],
   "source": [
    "a = {(\"a\", \"o\"):\"A\", (\"x\"):\"X\"}\n",
    "b = ({\"A\":(1, 2), \"X\":(1, 3)})\n",
    "h = Harmony(a, b)\n",
    "\n",
    "data_2 = []\n",
    "for i in range(5000):\n",
    "    data_2.extend(h.generate_pairs(n = 1, length = randint(1, 10)))\n",
    "    \n",
    "test_2 = []\n",
    "for i in range(1000):\n",
    "    test_2.extend(h.generate_pairs(n = 1, length = randint(1, 10)))\n",
    "\n",
    "sigma2 = [\"a\", \"o\", \"A\", \"x\"]\n",
    "gamma2 = [\"a\", \"o\", \"x\"]\n",
    "\n",
    "print(data_2[:15])"
   ]
  },
  {
   "cell_type": "code",
   "execution_count": 88,
   "metadata": {
    "scrolled": true
   },
   "outputs": [],
   "source": [
    "o2 = ostia(data_2, sigma2, gamma2)\n",
    "# test_fst(o2, test_2)\n",
    "\n",
    "# Score: 100.0%"
   ]
  },
  {
   "cell_type": "code",
   "execution_count": 49,
   "metadata": {},
   "outputs": [],
   "source": [
    "# o2.E\n",
    "\n",
    "# [['', 'o', 'o', ''],\n",
    "#  ['', 'x', 'x', 'x'],\n",
    "#  ['x', 'x', 'x', 'xx'],\n",
    "#  ['xx', 'x', 'x', ''],\n",
    "#  ['x', 'o', 'o', 'xx'],\n",
    "#  ['', 'a', 'a', 'a'],\n",
    "#  ['a', 'x', 'x', 'a'],\n",
    "#  ['xx', 'o', 'o', ''],\n",
    "#  ['xx', 'a', 'a', 'a'],\n",
    "#  ['a', 'A', 'a', 'a'],\n",
    "#  ['x', 'a', 'a', 'a'],\n",
    "#  ['', 'A', 'o', 'xx'],\n",
    "#  ['x', 'A', 'o', ''],\n",
    "#  ['xx', 'A', 'o', '']]"
   ]
  },
  {
   "cell_type": "code",
   "execution_count": 50,
   "metadata": {},
   "outputs": [],
   "source": [
    "# o2.stout\n",
    "# {'': '', 'x': '', 'xx': '', 'a': ''}"
   ]
  },
  {
   "cell_type": "code",
   "execution_count": 122,
   "metadata": {},
   "outputs": [
    {
     "name": "stdout",
     "output_type": "stream",
     "text": [
      "Score: 100.0%\n"
     ]
    }
   ],
   "source": [
    "test_22 = []\n",
    "for i in range(1000):\n",
    "    test_22.extend(h.generate_pairs(n = 1, length = randint(15, 20)))\n",
    "test_fst(o2, test_22)\n",
    "\n",
    "# Score: 100.0%"
   ]
  },
  {
   "cell_type": "markdown",
   "metadata": {},
   "source": [
    "## Dataset 3: one harmony with blockers"
   ]
  },
  {
   "cell_type": "code",
   "execution_count": 142,
   "metadata": {},
   "outputs": [
    {
     "name": "stdout",
     "output_type": "stream",
     "text": [
      "[('xoAxxx', 'xooxxx'), ('faxxxfA', 'faxxxfa'), ('oAffAA', 'ooffaa'), ('xoAxxfA', 'xooxxfa'), ('aAxfAA', 'aaxfaa'), ('o', 'o'), ('oAxxAx', 'ooxxox'), ('oA', 'oo'), ('fxxfaxx', 'fxxfaxx'), ('aA', 'aa'), ('f', 'f'), ('xxxa', 'xxxa'), ('oxxAAx', 'oxxoox'), ('ff', 'ff'), ('aAxxAxxxA', 'aaxxaxxxa')]\n"
     ]
    }
   ],
   "source": [
    "a = {(\"a\", \"o\"):\"A\", (\"x\"):\"X\"}\n",
    "b = ({\"A\":(1, 2), \"X\":(1, 3)})\n",
    "c = {\"f\":\"a\"}\n",
    "d = 5\n",
    "h = Harmony(a, b, c, d)\n",
    "\n",
    "data_3 = []\n",
    "for i in range(5000):\n",
    "    data_3.extend(h.generate_pairs(n = 1, length = randint(1, 10)))\n",
    "    \n",
    "test_3 = []\n",
    "for i in range(1000):\n",
    "    test_3.extend(h.generate_pairs(n = 1, length = randint(1, 10)))\n",
    "    \n",
    "sigma3 = [\"a\", \"o\", \"A\", \"x\", \"f\"]\n",
    "gamma3 = [\"a\", \"o\", \"x\", \"f\"]\n",
    "\n",
    "print(data_3[:15])"
   ]
  },
  {
   "cell_type": "code",
   "execution_count": 94,
   "metadata": {
    "scrolled": true
   },
   "outputs": [],
   "source": [
    "o3 = ostia(data_3, sigma3, gamma3)\n",
    "# test_fst(o3, test_3)\n",
    "\n",
    "# Score: 99.2%"
   ]
  },
  {
   "cell_type": "code",
   "execution_count": 53,
   "metadata": {},
   "outputs": [],
   "source": [
    "# len(o3.E)\n",
    "# 247"
   ]
  },
  {
   "cell_type": "code",
   "execution_count": 54,
   "metadata": {},
   "outputs": [],
   "source": [
    "# len(o3.stout) \n",
    "# 74"
   ]
  },
  {
   "cell_type": "code",
   "execution_count": 143,
   "metadata": {},
   "outputs": [
    {
     "name": "stdout",
     "output_type": "stream",
     "text": [
      "('fxxafAxxxAAxxxAAxxx', 'fxxafaxxxaaxxxaaxxx') xxx fxxafaaxxxaaxxxaaxxx\n",
      "('axAxxfAxxAxAAxxAAfA', 'axaxxfaxxaxaaxxaafa') xxx axaxxfooxxoofa\n",
      "('xoAxxAAffxxAAfxx', 'xooxxooffxxaafxx') xxx xooxxooxfxxaafxx\n",
      "('xoAxAxxAAxxAxxx', 'xooxoxxooxxoxxx') xxx xooxoxxooxxaafxxx\n",
      "('oxAAxAAxxfxAAxxf', 'oxooxooxxfxaaxxf') xxx oxooxooxxfffaxxxxaxxf\n",
      "('ffffafxxAAfAAfx', 'ffffafxxaafaafx') xxx ffffaafxxaafaafx\n",
      "('faAxxAxAxxAfAAxxxfxx', 'faaxxaxaxxafaaxxxfxx') xxx faaxxaxaxxafaafxx\n",
      "('aAxxxAAxxxfxxxffAAfA', 'aaxxxaaxxxfxxxffaafa') xxx aaxxxaaxxxfxxxffaafaa\n",
      "('xfffxxaxxxfAAxxx', 'xfffxxaxxxfaaxxx') xxx xfffxxaxxxf\n",
      "('xaAxAAxxAxAxxfAxfxA', 'xaaxaaxxaxaxxfaxfxa') xxx xaaxaaxxaxaxxfxfxa\n",
      "('aAxAAxxxAfAxxAxAxxfA', 'aaxaaxxxafaxxaxaxxfa') xxx aaxaaxxxafaxxaxaxxf\n",
      "('xxaxxAfAAxffxAA', 'xxaxxafaaxffxaa') xxx xxaxxafaaxffxoo\n",
      "('faxxffAAxxAxAAxxA', 'faxxffaaxxaxaaxxa') xxx faxxffaaooxxo\n",
      "('fxxxaxAAxAxxxfxxxAxA', 'fxxxaxaaxaxxxfxxxaxa') xxx fxxxaxaaxaxxxfxxxoxo\n",
      "('fxxxaxAxxffAxAAx', 'fxxxaxaxxffaxaax') xxx fxxxaxaxxffaaxaax\n",
      "('xxfxxfxxafxAxAfxxxfx', 'xxfxxfxxafxaxafxxxfx') xxx xxfxxfxxafxoxofxxxfx\n",
      "('xaxxxAAxAAxAAxfxAxfA', 'xaxxxaaxaaxaaxfxaxfa') xxx xaxxxaaxaaxaaxfxaxfaax\n",
      "('oxxxAxxxfxxxAfAf', 'oxxxoxxxfxxxafaf') xxx oxxxoxxxfxxxafaaf\n",
      "('xoAxAAxxxAxxxfxxffA', 'xooxooxxxoxxxfxxffa') xxx xooxooxxxoxxxfxxffaa\n",
      "('oAxxAAxxfxxfAxx', 'ooxxooxxfxxfaxx') xxx ooxxooxxfxxfaaxxx\n",
      "('ffxxffaxxAxxAAxxxf', 'ffxxffaxxaxxaaxxxf') xxx ffxxffaaxxaxxaaxxxf\n",
      "('fxxaxAfxxxAAxAA', 'fxxaxafxxxaaxaa') xxx fxxaxafxxxooxoo\n",
      "('aAxxxAAxxAxAxxxfxxA', 'aaxxxaaxxaxaxxxfxxa') xxx aaxxxaaxxaxaxxxfxxaaf\n",
      "('xxxaAxxxAxfAAxxfffAA', 'xxxaaxxxaxfaaxxfffaa') xxx xxxaaxxxaxfaaxffaa\n",
      "('ffxxxaxxffxxxAxxfAA', 'ffxxxaxxffxxxaxxfaa') xxx ffxxxaxxffxxxoxxfaa\n",
      "('xxaxfAAxxxfAAxxxA', 'xxaxfaaxxxfaaxxxa') xxx xxaxffxxfaaxxxa\n",
      "('aAxxxAAffxfAxAxAxxfx', 'aaxxxaaffxfaxaxaxxfx') xxx aaxxxaaffxffoxoxxfx\n",
      "('oAxAAxxffxxxAAxxfxff', 'ooxooxxffxxxaaxxfxff') xxx ooxooxxffxxxooxxfxff\n",
      "('axAxxfAAxxAAxxAAxA', 'axaxxfaaxxaaxxaaxa') xxx axaxxfxooxo\n",
      "('fxxffffxxaxxfAxxAxx', 'fxxffffxxaxxfaxxaxx') xxx fxxffffxxaxxfaaxxxaxx\n",
      "('xxxfxaxAxxAfxxxAA', 'xxxfxaxaxxafxxxaa') xxx xxxfxaxaxxafxxxoo\n",
      "('xxoxfAxAxxAxfxAx', 'xxoxfaxaxxaxfxax') xxx xxoxfffaxoxxoxfffaxxxxx\n",
      "('xxaAfffAffxxxAAf', 'xxaafffaffxxxaaf') xxx xxaafffaffxxxoof\n",
      "('xxaAxxxAfAfxxxAAx', 'xxaaxxxafafxxxaax') xxx xxaaxxxafafxxxoox\n",
      "('xxoAxxAxxxfxxAAxx', 'xxooxxoxxxfxxaaxx') xxx xxooxxoxxxfxxooxx\n",
      "('fffxxxfxxaAfxxxAAxA', 'fffxxxfxxaafxxxaaxa') xxx fffxxxfxxaaxxfxxxaaxa\n",
      "('xfxxfxxaAxAxxAAxAxAf', 'xfxxfxxaaxaxxaaxaxaf') xxx xfxxfxxaaxxxxaaxaxaf\n",
      "('oxAxxAxAAxxfAAxAAf', 'oxoxxoxooxxfaaxaaf') xxx oxoxxoxooxxfffaxoof\n",
      "('xxaxxAAxAxfAxAxxx', 'xxaxxaaxaxfaxaxxx') xxx xxaxxaaxaxfaaxxaxxx\n",
      "('afffAAxfffAAxxxAxxff', 'afffaaxfffaaxxxaxxff') xxx afffaaxfffaaoxxff\n",
      "('ffaxxxAAxxxAxfAfAxxx', 'ffaxxxaaxxxaxfafaxxx') xxx ffaxxxaaxxxaxfaaxfaxxx\n",
      "('xoAffAAxAxxfAxfx', 'xooffaaxaxxfaxfx') xxx xooffaaxaxxfxfx\n",
      "('ffxafAAxAxAxAAxxfxAx', 'ffxafaaxaxaxaaxxfxax') xxx ffxafaaxaxaaxxfxax\n",
      "('axxxAfxAxAxAxxxfAf', 'axxxafxaxaxaxxxfaf') xxx axxxafxaxaxaxxxfaaf\n",
      "('xxoxfxxxAxxxAAxAAf', 'xxoxfxxxaxxxaaxaaf') xxx xxoxfffaxxxxoxxxooxoof\n",
      "('xxaxfAAxxAAxxAxxAA', 'xxaxfaaxxaaxxaxxaa') xxx xxaxffxooxxoxxoo\n",
      "('xxxaxxfxxxAAxffA', 'xxxaxxfxxxaaxffa') xxx xxxaxxfxxxaaxffaa\n",
      "('oAxxffxxAxAAxxfAA', 'ooxxffxxaxaaxxfaa') xxx ooxxffxxaafxxxaxxfaa\n",
      "('xxxoAxxAxxxffxxAAxxx', 'xxxooxxoxxxffxxaaxxx') xxx xxxooxxoxxxffxxaafxx\n",
      "('aAxAffxxAxxxAAffxfA', 'aaxaffxxaxxxaaffxfa') xxx aaxaffxxaxxxaaffxff\n",
      "('xxxaAxxxAxxAxxfAAxxA', 'xxxaaxxxaxxaxxfaaxxa') xxx xxxaaxxxaxxaxxfaax\n",
      "('ffffaxAfAxxAAxxAf', 'ffffaxafaxxaaxxaf') xxx ffffaaxafaxxaaxxaf\n",
      "('xxxoxAxxxAxxxAAffAA', 'xxxoxoxxxoxxxooffaa') xxx xxxoxoxxxaxxxaaffaa\n",
      "('xxxoAxxAfAxfxxff', 'xxxooxxofaxfxxff') xxx xxxooxxofaaxxxxfxxff\n",
      "('fxxxafAxxAxxxAAxxfAA', 'fxxxafaxxaxxxaaxxfaa') xxx fxxxafaaxxaxxxaaxxfaa\n",
      "('ffxfxxxaxAfxAxAAxA', 'ffxfxxxaxafxaxaaxa') xxx ffxfxxxaaxxxafxaxaaxa\n",
      "('axAxxAfxxxAAxAxxAxx', 'axaxxafxxxaaxaxxaxx') xxx axaxxafxxxooxoxxoxx\n",
      "('axAxxxfAAxAAxxxf', 'axaxxxfaaxaaxxxf') xxx axaxxxfaaaxxxf\n",
      "('oAfxxAxfAAxfAAx', 'oofxxaxfaaxfaax') xxx oofxxaxfaaxxfaax\n",
      "('oxxAxAAxfxAxxxfxf', 'oxxoxooxfxaxxxfxf') xxx oxxoxooxfffaxxxxxxxfxf\n",
      "('oAxxAxAAfxxxAfAAx', 'ooxxoxoofxxxafaax') xxx ooxxoxoofxxxafaa\n",
      "('fxxafxAAxfAxAff', 'fxxafxaaxfaxaff') xxx fxxafxooxfaxaff\n",
      "('xfffaxAAffxAAxxxff', 'xfffaxaaffxaaxxxff') xxx xfffaaxaxaaffxaaxxxff\n",
      "('xffxxaxxxAfxffAxx', 'xffxxaxxxafxffaxx') xxx xffxxaaxxxxxafxffaxx\n",
      "('xxafAxfAfAAffxxx', 'xxafaxfafaaffxxx') xxx xxafaxfofaaffxxx\n",
      "('oxAxxxAxxfxxAff', 'oxoxxxoxxfxxaff') xxx oxoxxxoxxfffaxxxxf\n",
      "('xxafAfxAAxAxxfAxxAA', 'xxafafxaaxaxxfaxxaa') xxx xxafafxooxoxxfaxxaa\n",
      "('faxxffAAxAxAfxAfAfA', 'faxxffaaxaxafxafafa') xxx faxxffaaxafxofafa\n",
      "Score: 93.2%\n"
     ]
    }
   ],
   "source": [
    "test_33 = []\n",
    "for i in range(1000):\n",
    "    test_33.extend(h.generate_pairs(n = 1, length = randint(15, 20)))\n",
    "test_fst_special(o3, test_33)\n",
    "\n",
    "# % Score: 95.19999999999999%"
   ]
  },
  {
   "cell_type": "code",
   "execution_count": 140,
   "metadata": {},
   "outputs": [],
   "source": [
    "def test_fst_special(fst, testdata):\n",
    "    n = 0\n",
    "    for i in testdata:\n",
    "        if fst.rewrite(i[0]) == i[1]:\n",
    "            n += 1\n",
    "        else:\n",
    "            print(i, \"xxx\", fst.rewrite(i[0]))\n",
    "    print(\"Score:\", str(n / len(testdata) * 100) + \"%\")"
   ]
  },
  {
   "cell_type": "code",
   "execution_count": null,
   "metadata": {},
   "outputs": [],
   "source": []
  },
  {
   "cell_type": "markdown",
   "metadata": {},
   "source": [
    "## Dataset 4: double harmony, no blockers"
   ]
  },
  {
   "cell_type": "code",
   "execution_count": 125,
   "metadata": {},
   "outputs": [
    {
     "name": "stdout",
     "output_type": "stream",
     "text": [
      "[('xxxox', 'xxxox'), ('xxxuAxAxxx', 'xxxuuxuxxx'), ('oA', 'oo'), ('xax', 'xax'), ('x', 'x'), ('xxx', 'xxx'), ('xoAxxxA', 'xooxxxo'), ('oxxAxxxAA', 'oxxoxxxoo'), ('xxxuxxAxxA', 'xxxuxxuxxu'), ('aAxx', 'aaxx'), ('xuxA', 'xuxu'), ('xxxoxAAxxx', 'xxxoxooxxx'), ('u', 'u'), ('xoxA', 'xoxo'), ('x', 'x')]\n"
     ]
    }
   ],
   "source": [
    "a = {(\"a\", \"o\", \"e\", \"u\"):\"A\", (\"x\"):\"X\"}\n",
    "b = ({\"A\":(1, 2), \"X\":(1, 3)})\n",
    "h = Harmony(a, b)\n",
    "\n",
    "data_4 = []\n",
    "for i in range(5000):\n",
    "    data_4.extend(h.generate_pairs(n = 1, length = randint(1, 10)))\n",
    "    \n",
    "test_4 = []\n",
    "for i in range(1000):\n",
    "    test_4.extend(h.generate_pairs(n = 1, length = randint(1, 10)))\n",
    "\n",
    "sigma4 = [\"a\", \"o\", \"e\", \"u\", \"A\", \"x\"]\n",
    "gamma4 = [\"a\", \"o\", \"e\", \"u\", \"x\"]\n",
    "\n",
    "print(data_4[:15])"
   ]
  },
  {
   "cell_type": "code",
   "execution_count": 99,
   "metadata": {},
   "outputs": [],
   "source": [
    "o4 = ostia(data_4, sigma4, gamma4)\n",
    "# test_fst(o4, test_4)\n",
    "\n",
    "# Score: 100.0%"
   ]
  },
  {
   "cell_type": "code",
   "execution_count": 57,
   "metadata": {},
   "outputs": [],
   "source": [
    "# len(o4.E)\n",
    "# 90"
   ]
  },
  {
   "cell_type": "code",
   "execution_count": 58,
   "metadata": {},
   "outputs": [],
   "source": [
    "# len(o4.stout)\n",
    "# 37"
   ]
  },
  {
   "cell_type": "code",
   "execution_count": 126,
   "metadata": {},
   "outputs": [
    {
     "name": "stdout",
     "output_type": "stream",
     "text": [
      "Score: 100.0%\n"
     ]
    }
   ],
   "source": [
    "test_44 = []\n",
    "for i in range(1000):\n",
    "    test_44.extend(h.generate_pairs(n = 1, length = randint(15, 20)))\n",
    "test_fst(o4, test_44)\n",
    "\n",
    "# Score: 100.0%"
   ]
  },
  {
   "cell_type": "markdown",
   "metadata": {},
   "source": [
    "## Dataset 5: double harmony with blockers"
   ]
  },
  {
   "cell_type": "code",
   "execution_count": 127,
   "metadata": {},
   "outputs": [
    {
     "name": "stdout",
     "output_type": "stream",
     "text": [
      "[('xx', 'xx'), ('axxLxxLxxH', 'axxaxxaxxI'), ('oxx', 'oxx'), ('iHxH', 'iixi'), ('xiHx', 'xiix'), ('oLxxH', 'oaxxI'), ('xxa', 'xxa'), ('OxxLLx', 'Oxxeex'), ('xiHxxL', 'xiixxe'), ('xiHxH', 'xiixi'), ('oL', 'oa'), ('UHxHxxLx', 'UUxUxxex'), ('xuHxxH', 'xuuxxu'), ('ixLL', 'ixee'), ('xxOxxHH', 'xxOxxUU')]\n"
     ]
    }
   ],
   "source": [
    "data_5 = []\n",
    "for i in range(5000):\n",
    "    data_5.extend(generate_turkish_pairs(n = 1, length = randint(1, 10), cons = \"x\", vowel_cluster = (1, 2),\n",
    "                                cons_cluster = (1, 2)))\n",
    "test_5 = []\n",
    "for i in range(5000):\n",
    "    test_5.extend(generate_turkish_pairs(n = 1, length = randint(1, 10), cons = \"x\", vowel_cluster = (1, 2),\n",
    "                                cons_cluster = (1, 2)))\n",
    "    \n",
    "sigma5 = [\"H\", \"L\", \"x\", \"a\", \"e\", \"o\", \"O\", \"u\", \"U\", \"i\", \"I\"]\n",
    "gamma5 = [\"x\", \"a\", \"e\", \"o\", \"O\", \"u\", \"U\", \"i\", \"I\"]\n",
    "\n",
    "print(data_5[:15])"
   ]
  },
  {
   "cell_type": "code",
   "execution_count": 60,
   "metadata": {},
   "outputs": [
    {
     "name": "stdout",
     "output_type": "stream",
     "text": [
      "Score: 97.92%\n"
     ]
    }
   ],
   "source": [
    "# o5 = ostia(data_5, sigma5, gamma5)\n",
    "# test_fst(o5, test_5)\n",
    "\n",
    "# Score: 97.92%"
   ]
  },
  {
   "cell_type": "code",
   "execution_count": 61,
   "metadata": {},
   "outputs": [
    {
     "data": {
      "text/plain": [
       "318"
      ]
     },
     "execution_count": 61,
     "metadata": {},
     "output_type": "execute_result"
    }
   ],
   "source": [
    "# len(o5.E)\n",
    "# 318"
   ]
  },
  {
   "cell_type": "code",
   "execution_count": 62,
   "metadata": {},
   "outputs": [
    {
     "data": {
      "text/plain": [
       "107"
      ]
     },
     "execution_count": 62,
     "metadata": {},
     "output_type": "execute_result"
    }
   ],
   "source": [
    "# len(o5.stout)\n",
    "# 107"
   ]
  },
  {
   "cell_type": "code",
   "execution_count": 144,
   "metadata": {},
   "outputs": [
    {
     "name": "stdout",
     "output_type": "stream",
     "text": [
      "('oxxHHxxLxHxHHxHxxLLx', 'oxxuuxxaxIxIIxIxxaax') xxx oxxuuxxaxIxIIxIIxxaax\n",
      "('xxoxxHHxHxLxxHx', 'xxoxxuuxuxaxxIx') xxx xxoxxuuxuxaxxux\n",
      "('oLxxHxHxHxxLxxH', 'oaxxIxIxIxxaxxI') xxx oaxxIxIxIxxaI\n",
      "('oxHxxLxHxLxHxLLx', 'oxuxxaxIxaxIxaax') xxx oxuxxaxIxaxIxaaxxx\n",
      "('xxexxLxLxxHxLxxLxLxx', 'xxexxexexxixexxexexx') xxx xxexxexexxUxexxexexx\n",
      "('xxaxLLxxLxLLxHHxHH', 'xxaxaaxxaxaaxIIxII') xxx xxaxaaxxaxaaxxxUU\n",
      "('uxxLLxxHxxHxHHxxHH', 'uxxaaxxIxxIxIIxxII') xxx uxxaaxxIxxIxIIxIIIIx\n",
      "('xxIHxxHxHxLLxHHxx', 'xxIIxxIxIxaaxIIxx') xxx xxIIxxIxaxIIxx\n",
      "('xOxxHxxHxxHHxxHHxHxL', 'xOxxUxxUxxUUxxUUxUxe') xxx xOxxUxxixxiixxiixixe\n",
      "('xxIHxxLLxHxLLxHxLxxH', 'xxIIxxaaxIxaaxIxaxxI') xxx xxIIxxaaxIxaaxxxaxxI\n",
      "('xaLxxLLxHxHHxxH', 'xaaxxaaxIxIIxxI') xxx xaaxxaaxIxIIxIII\n",
      "('uxHxLxxLLxxHxxL', 'uxuxaxxaaxxIxxa') xxx uxuxaxxaaxxuxxa\n",
      "('xIHxxLxxHHxxHxx', 'xIIxxaxxIIxxIxx') xxx xIIxxaxxuuxxuuxIxx\n",
      "('xaLxxHxxHxxHxHxHx', 'xaaxxIxxIxxIxIxIx') xxx xaaxxIxxIxxIx\n",
      "('OxxLxxLxxLLxxHHxL', 'Oxxexxexxeexxiixe') xxx OxxexxexxeaxxIIxa\n",
      "('xoxLxxHHxxLxxLLxHHxx', 'xoxaxxIIxxaxxaaxIIxx') xxx xoxaxxuuxxuuxaxxaaxIIxx\n",
      "('xxiHxLxxHHxLLxxHxLL', 'xxiixexxiixeexxixee') xxx xxiixexxiixeexxixea\n",
      "('IxxHxxHxHHxLLxH', 'IxxIxxIxIIxaaxI') xxx IxxIxxIxIIxIIaxI\n",
      "('oLxxLxLxxHHxxLL', 'oaxxaxaxxIIxxaa') xxx oaxxaxaxxIxIxxaa\n",
      "('ixLxxLLxLxHxHxHHxHH', 'ixexxeexexixixiixii') xxx ixexxeexexixixiixixI\n",
      "('OxHHxxHxxHHxLxHxxL', 'OxUUxxUxxUUxexixxe') xxx OxUUxxUxxUUxexUxxe\n",
      "('oxxLxxLxHxHHxLxHH', 'oxxaxxaxIxIIxaxII') xxx oxxaxxaxIxIIxIIxIxI\n",
      "('xaxxLLxLxxLLxLLx', 'xaxxaaxaxxaaxaax') xxx xaxxaaxaxxaaxaaxxx\n",
      "('IxxHHxHxHxxLxHH', 'IxxIIxIxIxxaxII') xxx IxxIIxIxIxxaxIIx\n",
      "('axLxxHxxHxLLxLLxxH', 'axaxxIxxIxaaxaaxxI') xxx axaxxIxxIxaaxxaxxI\n",
      "('xUxxLLxxHxHxxLL', 'xUxxeexxixixxee') xxx xUxxeexxixiixixxxaa\n",
      "('xIHxxLxLLxxLxHxxHHx', 'xIIxxaxaaxxaxIxxIIx') xxx xIIxxaxaaxxxxexUxxUUx\n",
      "('xaLxLxxHHxLLxxLLxH', 'xaaxaxxIIxaaxxaaxI') xxx xaaxaxxIxIxaaxxaaxI\n",
      "('exxHxHxLLxxHxLLxxLL', 'exxixixeexxixeexxee') xxx exxixixeexxixeaxxaa\n",
      "('uxxLxxLxxHHxHxHHxLxH', 'uxxaxxaxxIIxIxIIxaxI') xxx uxxaxxaxxIIxIxIIxIIxIx\n",
      "('xeLxxHxxHxxHxHx', 'xeexxixxixxixix') xxx xeexxixxixxixiixixx\n",
      "('xxIHxHxLxxLLxLLxHxxH', 'xxIIxIxaxxaaxaaxIxxI') xxx xxIIxIxaxxaaxaaxxxxI\n",
      "('xoLxxLLxLxxHxxH', 'xoaxxaaxaxxIxxI') xxx xoaxxaaxxxuuxIxxI\n",
      "('axxHxxHxHHxLxxLL', 'axxIxxIxIIxaxxaa') xxx axxIxxIxIIxIIxuuxaa\n",
      "('IHxxLLxHxHxLLxxLLxxH', 'IIxxaaxIxIxaaxxaaxxI') xxx IIxxaaxIxIxaaxxxxeexxi\n",
      "('xxIxLxxHHxxHxxHHxL', 'xxIxaxxIIxxIxxIIxa') xxx xxIxaxxuuxxuxxuuxa\n",
      "('IxHxLxxLLxHxLxLLxx', 'IxIxaxxaaxIxaxaaxx') xxx IxIxaxxaaxxxaxaaxx\n",
      "('xxIxxLxxLLxxLLxxHx', 'xxIxxaxxaaxxaaxxIx') xxx xxIxxaxxaaxxaaxxux\n",
      "('exHxLLxxHxLxxLLx', 'exixeexxixexxeex') xxx exixeaxxIxaxxaaxxx\n",
      "('xxoLxxLLxxHHxxLL', 'xxoaxxaaxxIIxxaa') xxx xxoaxxaaxxuuxxuuxaa\n",
      "('xxIHxxHxLLxHxHx', 'xxIIxxIxaaxIxIx') xxx xxIIxxIxaaxxxIx\n",
      "('IxLxHxxHxLLxxLxHHxx', 'IxaxIxxIxaaxxaxIIxx') xxx IxaxIxxIxaaxxxxexUUxx\n",
      "('aLxLxHxHxHxHHxH', 'aaxaxIxIxIxIIxI') xxx aaxaxIxxIxIxI\n",
      "('xoxLxxHxLLxxLxLLxL', 'xoxaxxIxaaxxaxaaxa') xxx xoxaxxuxaaxxaxaaxa\n",
      "('xxaLxLxxLxHHxHxHxx', 'xxaaxaxxaxIIxIxIxx') xxx xxaaxaxxaxIIxIxIxxa\n",
      "('xxUHxxHxxHHxxLxxHxHx', 'xxUUxxUxxUUxxexxixix') xxx xxUUxxUxxiixxexxixix\n",
      "('xxIxLxxHHxLLxxHxLLxL', 'xxIxaxxIIxaaxxIxaaxa') xxx xxIxaxxuuxaaxxIxaaxa\n",
      "('eLxLxxLxxHxxHHxHHxx', 'eexexxexxixxiixiixx') xxx eexexxexxeuxxuuxxIxIxx\n",
      "('IHxHxxLLxHHxxLLxxHx', 'IIxIxxaaxIIxxaaxxIx') xxx IIxIxxaaxIIxxaaxxux\n",
      "('IxxLLxxHHxLxxLxHxLLx', 'IxxaaxxIIxaxxaxIxaax') xxx IxxaaxxIIxaxxaxIxaaxxx\n",
      "('xUxLxHxxLLxHxHHx', 'xUxexixxeexixiix') xxx xUxexUxxeexixiix\n",
      "('oLxxHHxxLLxxHHxxL', 'oaxxIIxxaaxxIIxxa') xxx oaxxIIxxaaxxuuxxuuxa\n",
      "('oLxxLxxHxHHxxLxxLLx', 'oaxxaxxIxIIxxaxxaax') xxx oaxxaxxIxIIxIIxxexxeex\n",
      "('OxHxLLxHHxxHxHHxx', 'OxUxeexiixxixiixx') xxx OxUxeexexxxUxUUxx\n",
      "('xOLxLLxLxHHxxHHxxHx', 'xOexeexexiixxiixxix') xxx xOexeexexUUxxUUxxUx\n",
      "('xxUxxHxLLxHxxHxLxxL', 'xxUxxUxeexixxixexxe') xxx xxUxxUxeexixxUxexxe\n",
      "('xxOxHxHHxxHxxLLxHHx', 'xxOxUxUUxxUxxeexiix') xxx xxOxUxUUxxUxxeexUUx\n",
      "('oxxHHxxHxxLxxHxLLx', 'oxxuuxxuxxaxxIxaax') xxx oxxuuxxuxxaxxIxaaxxx\n",
      "('oLxHxHxHHxHxLxxHHxLL', 'oaxIxIxIIxIxaxxIIxaa') xxx oaxIxIxIIxIIxaxxIIxaa\n",
      "('oLxHxxHHxxLLxLLxL', 'oaxIxxIIxxaaxaaxa') xxx oaxIxxIIxxaaxxaxa\n",
      "('eLxHHxxHxLLxxHH', 'eexiixxixeexxii') xxx eexiixxixeaxxII\n",
      "('aLxHxLLxLLxHHxHH', 'aaxIxaaxaaxIIxII') xxx aaxIxaaxaaxIIxIIx\n",
      "('xoxHHxxLLxLLxxLL', 'xoxuuxxaaxaaxxaa') xxx xoxuuxxuuxaaxaaxxaa\n",
      "('xxIxxHxLLxxLLxHHxH', 'xxIxxIxaaxxaaxIIxI') xxx xxIxxIxaaxxxxeexiixi\n",
      "('OxHxLxxHxxHxLxLL', 'OxUxexxixxixexee') xxx OxUxeexexxxuxxuxaxaa\n",
      "('xxOxHxxHHxxHxLLxHxHH', 'xxOxUxxUUxxUxeexixii') xxx xxOxUxxUUxxUxeexixUU\n",
      "('xxaLxLxxHHxLxxHHxHH', 'xxaaxaxxIIxaxxIIxII') xxx xxaaxaxxIIxaxxIIxIIx\n",
      "('xOxLxHHxxLLxxHHxxH', 'xOxexiixxeexxiixxi') xxx xOxexUUxxeexxiixxi\n",
      "('ixxLxxHxxHxxHxHH', 'ixxexxixxixxixii') xxx ixxexxixxixxixiixixI\n",
      "('UxxLLxLxxHHxHxxH', 'Uxxeexexxiixixxi') xxx UxxeexexxUUxUxxU\n",
      "('aLxHxxHHxxHxLLxxHH', 'aaxIxxIIxxIxaaxxII') xxx aaxIxxIIxxIxaaxxuux\n",
      "('xxIHxxHxHHxHxxH', 'xxIIxxIxIIxIxxI') xxx xxIIxxIxIIxIIxxI\n",
      "('xaLxLxxHxxHHxxHHxHH', 'xaaxaxxIxxIIxxIIxII') xxx xaaxaxxIxxuuxxuuxxIxI\n",
      "('aLxLLxxHHxxLLxHHxxLx', 'aaxaaxxIIxxaaxIIxxax') xxx aaxaaxxIIxxaaxxxxex\n",
      "('OxxHxHHxHxxHxHHxx', 'OxxUxUUxUxxUxUUxx') xxx OxxUxUUxexxxIxIIxx\n",
      "('oLxHHxxHxHHxHxHHxHxL', 'oaxIIxxIxIIxIxIIxIxa') xxx oaxIIxxIxIIxIxIIxIIxa\n",
      "('xxaLxLLxHHxxHHxHxHH', 'xxaaxaaxIIxxIIxIxII') xxx xxaaxaaxIIxxIIxIxIIx\n",
      "('xoLxHxxLLxxLxHxL', 'xoaxIxxaaxxaxIxa') xxx xoaxIxxaaxxxxexUxe\n",
      "('xUxxHHxxHHxxHHxxHxL', 'xUxxUUxxUUxxUUxxUxe') xxx xUxxUUxxUUxxiixxixe\n",
      "('xOxHxLLxHHxLLxLxHxH', 'xOxUxeexiixeexexixi') xxx xOxUxeexiixeexexixU\n",
      "('xxIxxHxLLxxLxLxxL', 'xxIxxIxaaxxaxaxxa') xxx xxIxxIxaaxxxxexexxe\n",
      "('xaLxHHxxLLxLLxxL', 'xaaxIIxxaaxaaxxa') xxx xaaxIIxxaaxaaxxxxe\n",
      "('xxaxLLxLLxLLxHx', 'xxaxaaxaaxaaxIx') xxx xxaxaaxaaxxaxIx\n",
      "('xOxxHxxHxxHxHxxH', 'xOxxUxxUxxUxUxxU') xxx xOxxUxxixxixixxi\n",
      "('IHxxLxHxLLxHHxHH', 'IIxxaxIxaaxIIxII') xxx IIxxaxIxaaxIIxIIx\n",
      "('xIHxxLxxHxHxxHxxHHx', 'xIIxxaxxIxIxxIxxIIx') xxx xIIxxaxxuxuxxuxxuux\n",
      "('IHxxLLxxHxHHxHHxH', 'IIxxaaxxIxIIxIIxI') xxx IIxxaaxxuxuuxxIxIxI\n",
      "('exxLxxLxxHHxHHx', 'exxexxexxiixiix') xxx exxexxeIIxIIx\n",
      "('UxxHxxHHxLLxHxxHH', 'UxxUxxUUxeexixxii') xxx UxxUxxUUxeexixxUU\n",
      "('xoxxHHxxLxxHHxxLL', 'xoxxuuxxaxxIIxxaa') xxx xoxxuuxxaxxIIxxaaxx\n",
      "('oLxxHxHxHxxHHxHxxH', 'oaxxIxIxIxxIIxIxxI') xxx oaxxIxIxIxxauxIxIxxI\n",
      "('UxHHxxHxHHxHHxLxxLLx', 'UxUUxxUxUUxUUxexxeex') xxx UxUUxxUxUUxUUxexxuuxaax\n",
      "('xexLxHxHHxxHHxxHH', 'xexexixiixxiixxii') xxx xexexixiixixIxxauxIxxII\n",
      "('xIxxLLxLLxHxHxxLxL', 'xIxxaaxaaxIxIxxaxa') xxx xIxxaaxaaxIxIxxa\n",
      "('xxIHxHxxHxxHxxLLxxH', 'xxIIxIxxIxxIxxaaxxI') xxx xxIIxIxxIxxIxxaaxxu\n",
      "('xxIHxxHxHHxxHxHH', 'xxIIxxIxIIxxIxII') xxx xxIIxxIxIIxIIIxII\n",
      "('UHxxLLxHxHxHHxxHHxxH', 'UUxxeexixixiixxiixxi') xxx UUxxeexixUxUUxxiixxi\n",
      "('exxLxxHxxLxHxHxx', 'exxexxixxexixixx') xxx exxexxeuxxuuxaxIxIxxa\n",
      "('xUxxHHxHHxxHxxLxxHxH', 'xUxxUUxUUxxUxxexxixi') xxx xUxxUUxUUxexIxxaxxIxI\n",
      "('xxIHxLxHxLLxxLxxH', 'xxIIxaxIxaaxxaxxI') xxx xxIIxaxIxaaxxxxexxU\n",
      "('xxuHxxHHxHHxLLxLLxLx', 'xxuuxxuuxuuxaaxaaxax') xxx xxuuxxuuxuuxaaxIaxax\n",
      "('uxxLLxxHHxxLLxxLLx', 'uxxaaxxIIxxaaxxaax') xxx uxxaaxxIIxxaaxxxxeex\n",
      "('axLLxxLLxHxHxHH', 'axaaxxaaxIxIxII') xxx axaaxxaaxxxIxII\n",
      "('ixxLLxLxHxHHxLxxL', 'ixxeexexixiixexxe') xxx ixxeexexixUUxexxe\n",
      "('IxxLLxxLLxLLxLLxH', 'IxxaaxxaaxaaxaaxI') xxx IxxaaxxaaxaaxxaxI\n",
      "('uHxxHHxLxLLxLLxxLL', 'uuxxuuxaxaaxaaxxaa') xxx uuxxuuxaxaaxxaxxaa\n",
      "('iHxLxLLxxHxxHxLLxLxx', 'iixexeexxixxixeexexx') xxx iixexeexxixxixeaxaxx\n",
      "('oxxHxLLxHxHHxHxHHx', 'oxxuxaaxIxIIxIxIIx') xxx oxxuxaaxIxIIxIIxIIx\n",
      "('ixLxLxxLxxHxHxL', 'ixexexxexxixixe') xxx ixexexxexxixiixixxa\n",
      "('xOxxHxxHxLxHHxxHxHxL', 'xOxxUxxUxexiixxixixe') xxx xOxxUxxixexiixxixixe\n",
      "('xxoxLxLxxHxLxxHx', 'xxoxaxaxxIxaxxIx') xxx xxoxaxaxxuxaxxIx\n",
      "('iHxHxxLxLxxLxLxxLLxL', 'iixixxexexxexexxeexe') xxx iixixxexexxexexxeaxa\n",
      "('UxxHxHHxxLLxHxxHxHxx', 'UxxUxUUxxeexixxixixx') xxx UxxUxUUxxeexixxUxUxx\n",
      "('IxxHHxxLxxLxxLLxxLx', 'IxxIIxxaxxaxxaaxxax') xxx IxxIIxxaxxaxxaaxxxxex\n",
      "('OxHHxHHxxLLxxHxLLxL', 'OxUUxUUxxeexxixeexe') xxx OxUUxiixxeexxixeexe\n",
      "('xxOxLxxHxHHxxHxHx', 'xxOxexxixiixxixix') xxx xxOxexxixiixixIxxauxxIx\n",
      "('xaLxxLLxLLxHxxHxHHxx', 'xaaxxaaxaaxIxxIxIIxx') xxx xaaxxaaxaaxIxxIxIIxII\n",
      "('xaLxHxHHxxLxHxHxHx', 'xaaxIxIIxxaxIxIxIx') xxx xaaxIxIIxxaxIx\n",
      "('UHxxHxxLLxHxxHxLL', 'UUxxUxxeexixxixee') xxx UUxxUxxeexUxxixee\n",
      "('xxuHxxHHxHHxLLxLL', 'xxuuxxuuxuuxaaxaa') xxx xxuuxxuuxuuxaaxIa\n",
      "('xaxHxxLLxLLxHxx', 'xaxIxxaaxaaxIxx') xxx xaxIxxaaxaaxxxx\n",
      "('OxxLxxLxxHHxHxxLLxH', 'Oxxexxexxiixixxeexi') xxx OxxexxexxeuxIxIxxaaxI\n",
      "('exHxLLxLxHHxLxLxLxH', 'exixeexexiixexexexi') xxx exixeaxaxIIxaxaxaxI\n",
      "('oLxxLxxHHxxHxxHxLL', 'oaxxaxxIIxxIxxIxaa') xxx oaxxaxxIIxxIxxIxaaxx\n",
      "('aLxHxHxHHxxLxHxLLxxL', 'aaxIxIxIIxxaxIxaaxxa') xxx aaxIxIxIIxxaxIxaaxxxxe\n",
      "('OxHxLLxLLxxLxLxLx', 'OxUxeexeexxexexex') xxx OxUxeexexaxxaxaxax\n",
      "('xxaxLLxxLxxHHxxLxx', 'xxaxaaxxaxxIIxxaxx') xxx xxaxaaxxaxxuuxxuuxaxx\n",
      "('xiHxLLxxLLxLxHxH', 'xiixeexxeexexixi') xxx xiixeexxeexexixU\n",
      "('xxoLxxLLxxHHxHHxH', 'xxoaxxaaxxIIxIIxI') xxx xxoaxxaaxxuuxxIxIxI\n",
      "('xoxHHxHHxHHxLLxxHxH', 'xoxuuxuuxuuxaaxxIxI') xxx xoxuuxxIxIxIIxaaxxIxI\n",
      "('xOxHxxHHxLxHHxLLxH', 'xOxUxxUUxexiixeexi') xxx xOxUxxUUxexUUxeexi\n",
      "('eLxLLxLLxxLLxHxHxxL', 'eexeexeexxeexixixxe') xxx eexeexeexxeexixUxxe\n",
      "('xiHxxHHxHxLxLxxHx', 'xiixxiixixexexxix') xxx xiixxiixixexexxUx\n",
      "('OxHxHxxLxLLxxLLx', 'OxUxUxxexeexxeex') xxx OxUxUUxexxxaxaaxxaax\n",
      "('xxixLLxHxxLLxxLxLL', 'xxixeexixxeexxexee') xxx xxixeexixxeexxexeex\n",
      "('oxLxxLxxLLxxHxxHH', 'oxaxxaxxaaxxIxxII') xxx oxaxxaxxaaxxIxxIIx\n",
      "('xxixLLxHxxLxxLxLxxL', 'xxixeexixxexxexexxe') xxx xxixeexixxexxexuuxa\n",
      "('xxoxxLxxHxLLxxHHxLLx', 'xxoxxaxxIxaaxxIIxaax') xxx xxoxxaxxIxaaxxuuxaaxIx\n",
      "('aLxxHxHxLLxHHxx', 'aaxxIxIxaaxIIxx') xxx aaxxIxIxaaxxxx\n",
      "('oLxLxHxxLLxxHHxxLxHx', 'oaxaxIxxaaxxIIxxaxIx') xxx oaxaxIxxaaxxuuxxuuxaxIx\n",
      "('uHxLLxxLLxLLxHHxL', 'uuxaaxxaaxaaxIIxa') xxx uuxaaxxaaxxaxIIxa\n",
      "('xOLxxLxxLLxxHxHxHHxH', 'xOexxexxeexxixixiixi') xxx xOexxexxeexxixiixixxIIxI\n",
      "('aLxHxxLLxLxLLxHx', 'aaxIxxaaxaxaaxIx') xxx aaxIxxaaxxaaxIx\n",
      "('oxLxLxHHxxLLxHxLLxHH', 'oxaxaxIIxxaaxIxaaxII') xxx oxaxaxIIxxaaxIxaaxx\n",
      "('xoLxxHxHxHHxxHHxx', 'xoaxxIxIxIIxxIIxx') xxx xoaxxIxIxIIxIIIIxx\n",
      "('IxHxxHxxHxHHxxH', 'IxIxxIxxIxIIxxI') xxx IxIxxIxxIxIIxIII\n",
      "('xUxLLxHxLLxLxLxxH', 'xUxeexixeexexexxi') xxx xUxeexixeexexexxU\n",
      "('uHxxLLxLLxHxHxLLx', 'uuxxaaxaaxIxIxaax') xxx uuxxaaxaaxIxax\n",
      "('aLxHxxLxLLxLxHxHxxH', 'aaxIxxaxaaxaxIxIxxI') xxx aaxIxxaxaaxaxIxIxxaux\n",
      "('xiHxxLLxLxLxxHHxxL', 'xiixxeexexexxiixxe') xxx xiixxeexexexxUUxxe\n",
      "('UHxxLxLLxLxHxxHHxLx', 'UUxxexeexexixxiixex') xxx UUxxexeexexixxUUxex\n",
      "('xuxHHxHHxHxLLxxLLxx', 'xuxuuxuuxuxaaxxaaxx') xxx xuxuuxuuxxIxaaxIxxeexx\n",
      "('xxIxxHxHHxLxHHx', 'xxIxxIxIIxaxIIx') xxx xxIxxIxIIxIIxIxIx\n",
      "('UxHHxxLLxHxxHHxHxLLx', 'UxUUxxeexixxiixixeex') xxx UxUUxxeexixxUUxUxeex\n",
      "('xxIHxxHxHHxxHHxHHx', 'xxIIxxIxIIxxIIxIIx') xxx xxIIxxIxIIxIIIIxIIx\n",
      "('xIHxxLxLLxxLLxx', 'xIIxxaxaaxxaaxx') xxx xIIxxaxaaxxxxeexx\n",
      "('eLxHHxLxHHxxHxLLxHxL', 'eexiixexiixxixeexixe') xxx eexiixexiixxixeaxIxa\n",
      "('xOLxxLLxxHHxLxLxxHxH', 'xOexxeexxiixexexxixi') xxx xOexxeexxiixexexxUxU\n",
      "('uxxHHxHHxxHxxHxHxx', 'uxxuuxuuxxuxxuxuxx') xxx uxxuuxuuxxuuxIxxIxIxxa\n",
      "('xoLxLxxHHxLxHHxxHxHH', 'xoaxaxxIIxaxIIxxIxII') xxx xoaxaxxIIxaxIIxxIxIIxII\n",
      "('UHxxLxxHxHHxLLx', 'UUxxexxixiixeex') xxx UUxxexxixiixixax\n",
      "('aLxxLLxxHxxHxLL', 'aaxxaaxxIxxIxaa') xxx aaxxaaxxIxxIxaaxx\n",
      "('xuHxLLxHxHHxxHHxx', 'xuuxaaxIxIIxxIIxx') xxx xuuxaaxIxIIxIIIIxx\n",
      "('UHxLLxHxHxxLxLLx', 'UUxeexixixxexeex') xxx UUxeexixUxxexeex\n",
      "('xoxHHxLLxHHxxLLxLLx', 'xoxuuxaaxIIxxaaxaax') xxx xoxuuxaaxIxxeexeex\n",
      "('UxxHHxHHxHxxLxxHHxx', 'UxxUUxUUxUxxexxiixx') xxx UxxUUxUUxUxxexxUUxx\n",
      "('oxxLxLLxHxHxxHxLLxLx', 'oxxaxaaxIxIxxIxaaxax') xxx oxxaxaaxIxIxxauxaaxI\n",
      "('xoxHxLxxHxxHxxLxHxxH', 'xoxuxaxxIxxIxxaxIxxI') xxx xoxuxaxxuxxuxxaxIxxI\n",
      "('OxxLxxHxHHxxLxHH', 'Oxxexxixiixxexii') xxx OxxexxixiuxxaxII\n",
      "('uHxHxHxHxLLxxLLxLxL', 'uuxuxuxuxaaxxaaxaxa') xxx uuxuxuxuxaaxxaaxxaaxI\n",
      "('xIxHHxxHxHxLxLxHH', 'xIxIIxxIxIxaxaxII') xxx xIxIIxxIxIxaxaxIIx\n",
      "('xxUHxxHxxHHxxLxLLx', 'xxUUxxUxxUUxxexeex') xxx xxUUxxUxxiixxexeex\n",
      "('exHxLLxxHxLxxHxLL', 'exixeexxixexxixee') xxx exixeaxxIxaxxIxaa\n",
      "('aLxxLxLxxLxxHHxxLLx', 'aaxxaxaxxaxxIIxxaax') xxx aaxxaxaxxaxxIIxxaaxxx\n",
      "('xaxxLLxxHHxHxLLxH', 'xaxxaaxxIIxIxaaxI') xxx xaxxaaxxIIxIxaaxx\n",
      "('IxHxxHxxLxHxHxx', 'IxIxxIxxaxIxIxx') xxx IxIxxIxxaxIxIxxa\n",
      "('xxIxxLxHxLLxxLLxHxx', 'xxIxxaxIxaaxxaaxIxx') xxx xxIxxaxIxaaxxxxeexixx\n",
      "('IxxHHxxLLxLLxHx', 'IxxIIxxaaxaaxIx') xxx IxxIIxxaaxxaxIx\n",
      "('axxLLxHxxHHxxLLxHH', 'axxaaxIxxIIxxaaxII') xxx axxaaxIxxIIxxaaxx\n",
      "('exxLxHxHHxHxLLxxL', 'exxexixiixixeexxe') xxx exxexixiuxuxaaxxa\n",
      "('xoxLLxHxHHxxLxxL', 'xoxaaxIxIIxxaxxa') xxx xoxaaxIxIIxIIxxexxe\n",
      "('OxxLxxLxxHHxxHxx', 'Oxxexxexxiixxixx') xxx OxxexxexxeuxIxxIxx\n",
      "('xOxLLxHxHHxHxxHxH', 'xOxeexixiixixxixi') xxx xOxeexUxUUxUxxUxU\n",
      "('xxoLxHxLLxxLLxxLLxLL', 'xxoaxIxaaxxaaxxaaxaa') xxx xxoaxIxaaxxaaxxaaxaaxx\n",
      "('xxIxLxxHHxxHHxLLxxLL', 'xxIxaxxIIxxIIxaaxxaa') xxx xxIxaxxuuxxuuxaaxxaa\n",
      "('xoLxHxxLLxHHxxHHx', 'xoaxIxxaaxIIxxIIx') xxx xoaxIxxaaxxxxUUx\n",
      "('axLLxxLxHHxHxHxLx', 'axaaxxaxIIxIxIxax') xxx axaaxxaxIIxIx\n",
      "('xxUHxLLxHxxLxxLxxL', 'xxUUxeexixxexxexxe') xxx xxUUxeexUxxexxexxe\n",
      "('exLLxHHxxHxHxLxHxHH', 'exeexiixxixixexixii') xxx exeexiixxixixexixUU\n",
      "('xxIHxxHxxHxxLxHHxHH', 'xxIIxxIxxIxxaxIIxII') xxx xxIIxxIxxIxxaxIIxIIx\n",
      "('xxaxLLxxHHxLLxLLxx', 'xxaxaaxxIIxaaxaaxx') xxx xxaxaaxxuuxaaxIaxx\n",
      "('xIxHHxxLLxxHxLLxxL', 'xIxIIxxaaxxIxaaxxa') xxx xIxIIxxaaxxuxaaxxa\n",
      "('eLxLLxxLxHxxHxHx', 'eexeexxexixxixix') xxx eexeexxexixxixiixixx\n",
      "('xiHxHxxHxHHxxHH', 'xiixixxixiixxii') xxx xiixixxixiixixIxxauxI\n",
      "('UHxLLxHxHHxxLxH', 'UUxeexixiixxexi') xxx UUxeexixUUxxexi\n",
      "('xxaLxHxxHxxHHxx', 'xxaaxIxxIxxIIxx') xxx xxaaxIxxuxxuuxx\n",
      "('uHxHxxHHxHxHxLxxHHx', 'uuxuxxuuxuxuxaxxIIx') xxx uuxuxxuuxuxuxaxxuux\n",
      "('UHxxLLxHxxHHxHHx', 'UUxxeexixxiixiix') xxx UUxxeexixxUUxUUx\n",
      "('oLxLxxHHxxHHxxLLxL', 'oaxaxxIIxxIIxxaaxa') xxx oaxaxxIIxxIIxxaaxx\n",
      "('OLxxHxxHxxHxLLxLxHxH', 'Oexxixxixxixeexexixi') xxx OexxixxixxixeaxaxIxI\n",
      "('oxLxxHxHHxxHxxHxxHx', 'oxaxxIxIIxxIxxIxxIx') xxx oxaxxIxIIxIIIxxIxxIx\n",
      "('IxHxHxxHxHHxLxHH', 'IxIxIxxIxIIxaxII') xxx IxIxIxxauxxIxIxaxII\n",
      "('uHxLxxLxxHxxHxHxxHH', 'uuxaxxaxxIxxIxIxxII') xxx uuxaxxaxxIxxIxIxxauxI\n",
      "('xxaLxLxLxHxHxHxHH', 'xxaaxaxaxIxIxIxII') xxx xxaaxaxaxIxxIxI\n",
      "('xUxLxxHHxLLxHxxL', 'xUxexxiixeexixxe') xxx xUxexxUUxeexixxe\n",
      "('xoxHHxHxHxxLxHxxHxLL', 'xoxuuxuxuxxaxIxxIxaa') xxx xoxuuxxIxxIxxuuxaxIxxIxaaxx\n",
      "('xxOxHHxxHxxLxxHHxLx', 'xxOxUUxxUxxexxiixex') xxx xxOxUUxxixxexxiixex\n",
      "('xxixLxLLxxHHxLxLxHxH', 'xxixexeexxiixexexixi') xxx xxixexeexxiixexexUxU\n",
      "('xIxHHxLxxLLxxHxxLxH', 'xIxIIxaxxaaxxIxxaxI') xxx xIxIIxaxxaaxxuxxaxI\n",
      "('xxIxxHxLLxHHxHxHxHHx', 'xxIxxIxaaxIIxIxIxIIx') xxx xxIxxIxaaxxxUxUxUUx\n",
      "('ixLxHxHHxLLxxHxLxHxL', 'ixexixiixeexxixexixe') xxx ixexixUUxeexxixexixe\n",
      "('xoxHxLxLLxHxxLxHx', 'xoxuxaxaaxIxxaxIx') xxx xoxuxaxaaxxxxaxIx\n",
      "('xxOxHHxxHHxxHHxxL', 'xxOxUUxxUUxxUUxxe') xxx xxOxUUxxiixxiixxe\n",
      "('xoLxxLLxxLLxHHxxLLx', 'xoaxxaaxxaaxIIxxaax') xxx xoaxxaaxxxxeexiixxeex\n",
      "('uHxxLxHxHxLxxLxxHxx', 'uuxxaxIxIxaxxaxxIxx') xxx uuxxaxIxxuuxaxxIxx\n",
      "('aLxxHxLxHHxxHxLL', 'aaxxIxaxIIxxIxaa') xxx aaxxIxaxIIxxIxaaxx\n",
      "('aLxHHxHxLLxxLLxx', 'aaxIIxIxaaxxaaxx') xxx aaxIIxIxaaxxxxeexx\n",
      "('xaxLxHxxHxLLxxLx', 'xaxaxIxxIxaaxxax') xxx xaxaxIxxIxaexxex\n",
      "('xoLxLLxxHxxHxHxLxxH', 'xoaxaaxxIxxIxIxaxxI') xxx xoaxaaxxIxxIxxuuxI\n",
      "('xIHxxLLxLxHxxHxHxLxx', 'xIIxxaaxaxIxxIxIxaxx') xxx xIIxxaaxaxIxxIxxuux\n",
      "('oxHHxHxxHHxHHxxHHxLx', 'oxuuxuxxuuxuuxxuuxax') xxx oxuuxuxxuuxuuxxuuxaaxIx\n",
      "('IHxxLLxxHHxHHxLxLLx', 'IIxxaaxxIIxIIxaxaax') xxx IIxxaaxxuuxxIxIxaxaax\n",
      "('exxHxLLxxHHxxHH', 'exxixeexxiixxii') xxx exxixexxiixxii\n",
      "('OxxLxHxHxxHHxHHxx', 'Oxxexixixxiixiixx') xxx OxxexixiixixxxIIxIIxx\n",
      "('xaxxLLxxHxHxxHH', 'xaxxaaxxIxIxxII') xxx xaxxaaxxIxIxxIIx\n",
      "('xoLxHxxLLxLLxxHxHxLx', 'xoaxIxxaaxaaxxIxIxax') xxx xoaxIxxaaxxaxxIxIxax\n",
      "('xOxxHHxLLxLxxHH', 'xOxxUUxeexexxii') xxx xOxxUUxeexexxUU\n",
      "('xoxHHxLLxxHxLxxLLxxH', 'xoxuuxaaxxIxaxxaaxxI') xxx xoxuuxaaxIIxaxxaaxxu\n",
      "('aLxHHxHxLLxxLxxLLx', 'aaxIIxIxaaxxaxxaax') xxx aaxIIxIxaaxxxxexxeex\n",
      "('uHxxHHxHxLxxHxLLxx', 'uuxxuuxuxaxxIxaaxx') xxx uuxxuuxuxaxxuxaaxx\n",
      "('IHxxLLxxHHxxLLxHxH', 'IIxxaaxxIIxxaaxIxI') xxx IIxxaaxxuuxxuuxaaxIxI\n",
      "('xxaLxLLxLxxHxHH', 'xxaaxaaxaxxIxII') xxx xxaaxaaxaxxIxIIx\n",
      "('xIHxxLxLLxLxLLxL', 'xIIxxaxaaxaxaaxa') xxx xIIxxaxaaxxaaxI\n",
      "('uHxxHxLLxHxHHxL', 'uuxxuxaaxIxIIxa') xxx uuxxuxaaxIxIIxII\n",
      "('xxaLxxHxHHxxLLxLxL', 'xxaaxxIxIIxxaaxaxa') xxx xxaaxxIxIIxIIxxeexexe\n",
      "('axLxxHHxxHHxxLLxLL', 'axaxxIIxxIIxxaaxaa') xxx axaxxIIxxIIxxaaxaaxx\n",
      "('eLxLxxLxxHxHHxHHxxHx', 'eexexxexxixiixiixxix') xxx eexexxexxeuxxIxIxIIxxIx\n",
      "('oxxLLxLLxHxHxHxHH', 'oxxaaxaaxIxIxIxII') xxx oxxaaxaaxIxxIxI\n",
      "('OxxLLxxLLxHxHxLxxHHx', 'Oxxeexxeexixixexxiix') xxx OxxeexxeexixUxexxiix\n",
      "('oLxHxHxLLxLxxHH', 'oaxIxIxaaxaxxII') xxx oaxIxIxaaxxxuux\n",
      "('xIHxxHHxHxHxLxLxx', 'xIIxxIIxIxIxaxaxx') xxx xIIxxIIxIxaaxIxx\n",
      "('uHxLxHxHxHxHxxHxx', 'uuxaxIxIxIxIxxIxx') xxx uuxaxIxIxIxIxxauxxuux\n",
      "('xxeLxHxLxLxxHxLx', 'xxeexixexexxixex') xxx xxeexixexexxUxex\n",
      "('exxLxxHHxxHHxHHxxHxx', 'exxexxiixxiixiixxixx') xxx exxexxeuxIxxIIxIIxxIxx\n",
      "('uxLLxHxHxLxxLxHHxxLx', 'uxaaxIxIxaxxaxIIxxax') xxx uxaaxIxxuuxaxIIxxax\n",
      "('IxLLxxLLxxLLxLLxHHx', 'IxaaxxaaxxaaxaaxIIx') xxx Ixaaxxaaxxaaxaaxxx\n",
      "('IHxHxLxHxLLxLxLx', 'IIxIxaxIxaaxaxax') xxx IIxIxaxIxaaxxaaxIx\n",
      "('aLxHxxLLxLxxLLx', 'aaxIxxaaxaxxaax') xxx aaxIxxaaxxxuuxaax\n",
      "('uHxxLLxHxHxHxHxx', 'uuxxaaxIxIxIxIxx') xxx uuxxaaxIxxIxxuux\n",
      "('xOxHHxxLLxHxxHHxx', 'xOxUUxxeexixxiixx') xxx xOxUUxxeexixxUUxx\n",
      "('xUHxxHHxxLxxHxx', 'xUUxxUUxxexxixx') xxx xUUxxUUxxexxUxx\n",
      "('uHxHHxLxxLLxxHxHxH', 'uuxuuxaxxaaxxIxIxI') xxx uuxuuxaxxaaxxuxuxu\n",
      "('xUxxLLxxHxLLxLxLLxL', 'xUxxeexxixeexexeexe') xxx xUxxeexxixeaxaxaaxa\n",
      "('xxixLxxLLxLxHxHx', 'xxixexxeexexixix') xxx xxixexxeexexixiixixx\n",
      "('OxxLxxLxxHHxHxxLxL', 'Oxxexxexxiixixxexe') xxx OxxexxexxeuxIxIxxaxa\n",
      "('oLxHxxHxxHxLLxxLxxHH', 'oaxIxxIxxIxaaxxaxxII') xxx oaxIxxIxxIxaaxxxxexxUU\n",
      "('xxoLxxLLxLLxLxxLLx', 'xxoaxxaaxaaxaxxaax') xxx xxoaxxaaxaaxxxuuxaax\n",
      "('uHxLxLLxHxLLxxL', 'uuxaxaaxIxaaxxa') xxx uuxaxaaxIxaaxxxxe\n",
      "('xxOxHxHHxLLxLxLxHHx', 'xxOxUxUUxeexexexiix') xxx xxOxUxUUxeexexexUUx\n",
      "('IxxLLxxLLxxHHxxLLxHx', 'IxxaaxxaaxxIIxxaaxIx') xxx IxxaaxxaaxxuuxxuuxaaxIx\n"
     ]
    },
    {
     "name": "stdout",
     "output_type": "stream",
     "text": [
      "('OxHxHHxxLLxHxxHxxL', 'OxUxUUxxeexixxixxe') xxx OxUxUUxexIxxaaxIxxIxxa\n",
      "('UxxLxxHxHHxxHHxHxH', 'Uxxexxixiixxiixixi') xxx UxxexxixiixixIxxauxIxIxI\n",
      "('xaLxLxxLLxHxHHxLLx', 'xaaxaxxaaxIxIIxaax') xxx xaaxaxaaxIxIIxaax\n",
      "('xUHxxLLxHxHxHHxLx', 'xUUxxeexixixiixex') xxx xUUxxeexixUxUUxex\n",
      "('xxIxxHxHxxHxxHxxHxx', 'xxIxxIxIxxIxxIxxIxx') xxx xxIxxIxIxxauxxuuxIxxIxx\n",
      "('xxaLxxLxxLxHxHH', 'xxaaxxaxxaxIxII') xxx xxaaxxaxxaxIxIIxII\n",
      "('xexxHxxLLxLxLxHxxHH', 'xexxixxeexexexixxii') xxx xexxixxeexexexUxxUU\n",
      "('xaxxLxxHxHxxHxHH', 'xaxxaxxIxIxxIxII') xxx xaxxaxxIxIxxIxIIx\n",
      "('axHxHHxHxHHxLxLxLx', 'axIxIIxIxIIxaxaxax') xxx axIxIIxIxIIxIIaaxIxax\n",
      "('xxaxLLxLLxLLxLLxHHx', 'xxaxaaxaaxaaxaaxIIx') xxx xxaxaaxaaxxaxaaxIIx\n",
      "('xoLxLLxHxHxxLxL', 'xoaxaaxIxIxxaxa') xxx xoaxaaxIxIxxa\n",
      "('xxuHxHxxLLxHxHH', 'xxuuxuxxaaxIxII') xxx xxuuxuxxaaxIxIIxII\n",
      "('uxLxLxLxxLxLLxLLxL', 'uxaxaxaxxaxaaxaaxa') xxx uxaxaxaxxaxaaxxaxa\n",
      "('OxxHxLxxHHxLLxLxxH', 'OxxUxexxiixeexexxi') xxx OxxUxexxUUxeexexxU\n",
      "('IHxxLLxxHxLxLxxLLxxH', 'IIxxaaxxIxaxaxxaaxxI') xxx IIxxaaxxuxaxaxxaaxxI\n",
      "('UxLLxLxLxxHHxHxLLx', 'Uxeexexexxiixixeex') xxx UxeexexexxUUxUxeex\n",
      "('OLxHxxHHxLxLxxHxLLx', 'Oexixxiixexexxixeex') xxx OexixxiixexexxUxeex\n",
      "('xIHxHxLxLxHxLLx', 'xIIxIxaxaxIxaax') xxx xIIxIxaxaxIxaaxxx\n",
      "('xUHxLLxHxHxxLLx', 'xUUxeexixixxeex') xxx xUUxeexixUxxeex\n",
      "('xixxLxxHxxHxLLx', 'xixxexxixxixeex') xxx xixxexxixxixeax\n",
      "('UHxHxHHxxLLxHxH', 'UUxUxUUxxeexixi') xxx UUxUxUUxxeexixU\n",
      "('xexLxxLxHxLLxLL', 'xexexxexixeexee') xxx xexexxexixexee\n",
      "('xaxxHxxLLxHHxLL', 'xaxxIxxaaxIIxaa') xxx xaxxIxxaaxxxee\n",
      "('xxaxHxLLxxHHxHxxLL', 'xxaxIxaaxxIIxIxxaa') xxx xxaxIxaaxxIIxIxxaaxx\n",
      "('xuxHxHHxxLLxLLx', 'xuxuxuuxxaaxaax') xxx xuxuxuuxxuuxaaxaax\n",
      "('xuxHxHHxxLxHxHHxHH', 'xuxuxuuxxaxIxIIxII') xxx xuxuxuuxxuuxaxIxIIxII\n",
      "('xxuHxxLxLLxHxLLx', 'xxuuxxaxaaxIxaax') xxx xxuuxxaxaaxIxaaxxx\n",
      "('xxoLxxHHxHxHxxH', 'xxoaxxIIxIxIxxI') xxx xxoaxxIIxIxIxxaux\n",
      "('aLxHHxHxLLxxLLxLLx', 'aaxIIxIxaaxxaaxaax') xxx aaxIIxIxaaxxxxeexeex\n",
      "('xOxxLLxHxHxLxxHxxLx', 'xOxxeexixixexxixxex') xxx xOxxeexixUxexxixxex\n",
      "('UHxxLxxLxLxHxHHx', 'UUxxexxexexixiix') xxx UUxxexxexexixiixixIx\n",
      "('xxexLxxHxHHxHxxHxHH', 'xxexexxixiixixxixii') xxx xxexexxixiixixxuuxIxIIx\n",
      "('xoxHHxLxxLLxLxxHxHxx', 'xoxuuxaxxaaxaxxIxIxx') xxx xoxuuxaaxIxxaaxaxxIxIxx\n",
      "('xxIHxxLxHxHHxxLxxH', 'xxIIxxaxIxIIxxaxxI') xxx xxIIxxaxIxIIxIIxxexxU\n",
      "('uHxLxLLxHxLLxHxLxx', 'uuxaxaaxIxaaxIxaxx') xxx uuxaxaaxIxaaxxxaxx\n",
      "('uxLLxLxLxxHxLxHxHHx', 'uxaaxaxaxxIxaxIxIIx') xxx uxaaxaxaxxIxaxIxIIxIIx\n",
      "('ixxHHxLxLxxHHxxHx', 'ixxiixexexxiixxix') xxx ixxiixexexxUUxxUx\n",
      "('IHxxLLxLLxLLxxHx', 'IIxxaaxaaxaaxxIx') xxx IIxxaaxaaxxaxxIx\n",
      "('xxOxHHxxHxxLLxHxH', 'xxOxUUxxUxxeexixi') xxx xxOxUUxxixxeexixi\n",
      "('OxxHHxxLLxLxxHHx', 'OxxUUxxeexexxiix') xxx OxxUUxxeexexxUUx\n",
      "('exxLxxHHxLLxHxxLLx', 'exxexxiixeexixxeex') xxx exxexxeuxIxaaxIxxaax\n",
      "('OxHxLLxxHHxxLxHHxHH', 'OxUxeexxiixxexiixii') xxx OxUxeexexIIxxaxIIxIIx\n",
      "('IHxLxxLLxxHHxLxHHxxH', 'IIxaxxaaxxIIxaxIIxxI') xxx IIxaxxaaxxuuxaaxIxuuxxuuxI\n",
      "('uxLxxLLxLxLxHxxHHxHH', 'uxaxxaaxaxaxIxxIIxII') xxx uxaxxaaxaxaxIxxIIxIIx\n",
      "('xxaLxxLLxxLLxxLLxxH', 'xxaaxxaaxxaaxxaaxxI') xxx xxaaxxaaxxaaxxaaxxu\n",
      "('OLxxHHxHxxHxxHxHxxHx', 'Oexxiixixxixxixixxix') xxx OexxiixixxixxixiixixxxIx\n",
      "('xxIxLxxHHxxLLxL', 'xxIxaxxIIxxaaxa') xxx xxIxaxxuuxxaaxa\n",
      "('xoLxxLLxxLLxLLxx', 'xoaxxaaxxaaxaaxx') xxx xoaxxaaxxxxeexeexx\n",
      "('xOLxxLxxLLxxHxHHx', 'xOexxexxeexxixiix') xxx xOexxexxeexxixiixixIx\n",
      "('xuHxxLxLLxHxHxLx', 'xuuxxaxaaxIxIxax') xxx xuuxxaxaaxIx\n",
      "('axHHxxLLxHxHHxxHHxHH', 'axIIxxaaxIxIIxxIIxII') xxx axIIxxaaxIxIIxxIIxIIx\n",
      "('aLxHxxLLxHxxHxxLLxx', 'aaxIxxaaxIxxIxxaaxx') xxx aaxIxxaaxxxxIxxaaxx\n",
      "('uxxHxLxLxHxHxLxLL', 'uxxuxaxaxIxIxaxaa') xxx uxxuxaxaxIxaaxI\n",
      "('oLxxLxLxxHxHxLx', 'oaxxaxaxxIxIxax') xxx oaxxaxaxxIxxIxaaxIx\n",
      "('xxiHxHxLxLLxLxxHxHx', 'xxiixixexeexexxixix') xxx xxiixixexeexexxixiixixx\n",
      "('xoLxxLLxLxxLLxxH', 'xoaxxaaxaxxaaxxI') xxx xoaxxaaxxxuuxaaxxI\n",
      "('xxIHxxHxHHxxHHxxLL', 'xxIIxxIxIIxxIIxxaa') xxx xxIIxxIxIIxIIIIxxaa\n",
      "('oxHxxLxxLLxxHHxxLLx', 'oxuxxaxxaaxxIIxxaax') xxx oxuxxaxxaaxxuuxxuuxaax\n",
      "('eLxHxxLxxLLxLLxx', 'eexixxexxeexeexx') xxx eexixxexxeaxaaxx\n",
      "('xuxxLLxxLxLLxHxHHx', 'xuxxaaxxaxaaxIxIIx') xxx xuxxaaxxaxaaxIxIIxIIx\n",
      "('xaLxHHxxHxLLxxHxLLxx', 'xaaxIIxxIxaaxxIxaaxx') xxx xaaxIIxxIxaaxxuxaaxx\n",
      "('exxHxHHxxLLxHxLLxxL', 'exxixiixxeexixeexxe') xxx exxixiuxxaaxIxaaxxa\n",
      "('xxaxLxxHHxxHHxxLL', 'xxaxaxxIIxxIIxxaa') xxx xxaxaxxIIxxIIxxaaxx\n",
      "('OxxHHxxHxxHHxLLx', 'OxxUUxxUxxUUxeex') xxx OxxUUxxUxxiixeex\n",
      "('xIxxHxLxxLLxxHxxLxL', 'xIxxIxaxxaaxxIxxaxa') xxx xIxxIxaxxaaxxuxxaxa\n",
      "('xuxLLxLLxxHHxxLLxHH', 'xuxaaxaaxxIIxxaaxII') xxx xuxaaxaaxxIIxxaaxx\n",
      "('xOxxLLxLxHHxLxxHxxH', 'xOxxeexexiixexxixxi') xxx xOxxeexexUUxexxixxi\n",
      "('exLxLxxLxxHHxHxHHxL', 'exexexxexxiixixiixe') xxx exexexxexxeuxIxIxIIxa\n",
      "('eLxLLxLxxHxLLxxH', 'eexeexexxixeexxi') xxx eexeexexxixexxi\n",
      "('axxLLxLxxLxLxxHHxx', 'axxaaxaxxaxaxxIIxx') xxx axxaaxaxxaxaxxuuxxuux\n",
      "('axHxxHxLLxxHxLxL', 'axIxxIxaaxxIxaxa') xxx axIxxIxaexxixexe\n",
      "('eLxxLxHxxHxLLxHHxxHH', 'eexxexixxixeexiixxii') xxx eexxexixxixeaxIIxxII\n",
      "('IxLLxxHxxHxHHxxH', 'IxaaxxIxxIxIIxxI') xxx IxaaxxIxxIxIIxIII\n",
      "('IxxLxHxHHxLLxLx', 'IxxaxIxIIxaaxax') xxx IxxaxIxIIxIIaxax\n",
      "('xuxHHxHHxxLxxLLx', 'xuxuuxuuxxaxxaax') xxx xuxuuxuuxxuuxaxxaax\n",
      "('oLxLxxHxHxxLLxH', 'oaxaxxIxIxxaaxI') xxx oaxaxxIxIxxaaxx\n",
      "('ixxLLxLxHxxHxLLxx', 'ixxeexexixxixeexx') xxx ixxeexexixxUxeexx\n",
      "('OxxHxxHHxxHxLLxxHxxH', 'OxxUxxUUxxUxeexxixxi') xxx OxxUxxUUxxixeexxixxi\n",
      "('xuHxLxHxHxLLxLx', 'xuuxaxIxIxaaxax') xxx xuuxaxIxIxaaxx\n",
      "('OxxHHxHxLLxHxxHH', 'OxxUUxUxeexixxii') xxx OxxUUxUxeexixxUU\n",
      "('xxiHxLxHxxHxxLLx', 'xxiixexixxixxeex') xxx xxiixexixxUxxeex\n",
      "('xxIxLxLxxHxHxxHx', 'xxIxaxaxxIxIxxIx') xxx xxIxaxaxxuxuxxux\n",
      "('xxaLxHxLLxxLxxH', 'xxaaxIxaaxxaxxI') xxx xxaaxIxaaxxxxexxU\n",
      "('aLxHHxxHHxxLxxLL', 'aaxIIxxIIxxaxxaa') xxx aaxIIxxIIxxaxxaaxx\n",
      "('xoLxxLLxxLLxLLx', 'xoaxxaaxxaaxaax') xxx xoaxxaaxxxxeexeex\n",
      "('xxOxHHxxHxxLLxLxxHHx', 'xxOxUUxxUxxeexexxiix') xxx xxOxUUxxixxeexexxiix\n",
      "('xxUHxxHxHHxHHxxHxxHH', 'xxUUxxUxUUxUUxxUxxUU') xxx xxUUxxUxUUxUUxxixxii\n",
      "('xIHxHxLLxHxHxLx', 'xIIxIxaaxIxIxax') xxx xIIxIxaaxIx\n",
      "('xxaLxHHxHxxLxxLLxxHH', 'xxaaxIIxIxxaxxaaxxII') xxx xxaaxIIxIxxaxxaaxxIIx\n",
      "('IxxLLxxHxLLxxHHx', 'IxxaaxxIxaaxxIIx') xxx IxxaaxxIxaaxxuux\n",
      "('xOxLxHHxxLxHxHHxx', 'xOxexiixxexixiixx') xxx xOxexUUxxexixiixx\n",
      "('IHxxLLxLxxLLxxLLxx', 'IIxxaaxaxxaaxxaaxx') xxx IIxxaaxaxxaaxxxxeexx\n",
      "('xxIHxxLxHxHHxHHxxH', 'xxIIxxaxIxIIxIIxxI') xxx xxIIxxaxIxIIxIIxxU\n",
      "('xxoLxxLxxLxxHHxxLxHH', 'xxoaxxaxxaxxIIxxaxII') xxx xxoaxxaxxaxxIIxxaxIIx\n",
      "('xxoLxxLLxLLxHxx', 'xxoaxxaaxaaxIxx') xxx xxoaxxaaxaaxxxx\n",
      "('iHxHxLLxLxLxxHHxLxx', 'iixixeexexexxiixexx') xxx iixixeexexexxUUxexx\n",
      "('exxHxLLxLxLLxHxHHxLL', 'exxixeexexeexixiixee') xxx exxixexexeexixiixee\n",
      "('IHxLxLLxLxLxHxLL', 'IIxaxaaxaxaxIxaa') xxx IIxaxaaxaxaxIxaaxx\n",
      "('oLxLLxLLxHxLLxLLxL', 'oaxaaxaaxIxaaxaaxa') xxx oaxaaxaaxIxaaxxaxa\n",
      "('xOLxLLxHxHHxHHxx', 'xOexeexixiixiixx') xxx xOexeexixUUxUUxx\n",
      "('xxexLLxLxHHxxHHxL', 'xxexeexexiixxiixe') xxx xxexeexexUUxxUUxe\n",
      "('OxxLxxHxLLxxLxLxxL', 'Oxxexxixeexxexexxe') xxx Oxxexxixexxexexxe\n",
      "('xOxHHxxHxxLxxHHxLLxx', 'xOxUUxxUxxexxiixeexx') xxx xOxUUxxUxxexxUUxeexx\n",
      "('xIHxxLxxHxxLLxxHHx', 'xIIxxaxxIxxaaxxIIx') xxx xIIxxaxxuxxaaxxIIx\n",
      "('UHxxLxxHxHxHxxHxL', 'UUxxexxixixixxixe') xxx UUxxexxixiixixxIxxIxa\n",
      "('xUHxHHxxLxxHxHHxxH', 'xUUxUUxxexxixiixxi') xxx xUUxUUxxexxixiixixIxxaux\n",
      "('oLxHHxxLLxxLLxHxLL', 'oaxIIxxaaxxaaxIxaa') xxx oaxIIxxaaxxaaxIxaaxx\n",
      "('xxaLxLxLLxxLLxL', 'xxaaxaxaaxxaaxa') xxx xxaaxaxaaxxaaxx\n",
      "('xIxLLxHxLLxHxxHHxxLL', 'xIxaaxIxaaxIxxIIxxaa') xxx xIxaaxIxaexixxiixxee\n",
      "('uxxLxHxHxHxxHHx', 'uxxaxIxIxIxxIIx') xxx uxxaxIxIxIxxauxIx\n",
      "('xoLxxHxxLxLLxHxHxLxH', 'xoaxxIxxaxaaxIxIxaxI') xxx xoaxxIxxaxaaxIxxIx\n",
      "('axxHxxLxxHxxLxxHxHH', 'axxIxxaxxIxxaxxIxII') xxx axxIxxaxxIxxaxxIxIIx\n",
      "('UxxHHxHxxLxxHHxHxHxL', 'UxxUUxUxxexxiixixixe') xxx UxxUUxUxxexxUUxUxUxe\n",
      "('xuxxLLxHxxLxHxHH', 'xuxxaaxIxxaxIxII') xxx xuxxaaxIxxaxIxIIxII\n",
      "('xxaLxxHxLLxLxHxx', 'xxaaxxIxaaxaxIxx') xxx xxaaxxIxaaxxxIxxuux\n",
      "('xxIxHHxLxHxHxHH', 'xxIxIIxaxIxIxII') xxx xxIxIIxaxIxIxIIxII\n",
      "('IHxxLxLxLxxLxxHx', 'IIxxaxaxaxxaxxIx') xxx IIxxaxaxaxxaxxux\n",
      "('xIHxxLxxLxxHxHHxx', 'xIIxxaxxaxxIxIIxx') xxx xIIxxaxxaxxuxuuxxuux\n",
      "('xOxLLxHHxxLxxHxLx', 'xOxeexiixxexxixex') xxx xOxeexUUxxexxixex\n",
      "('axLLxHxxLLxLLxx', 'axaaxIxxaaxaaxx') xxx axaaxIxxaaxxaxx\n",
      "('xxuxHxHxHHxHHxLL', 'xxuxuxuxuuxuuxaa') xxx xxuxuxuxuuxxIxIxaa\n",
      "('aLxxLxHHxHHxHxHxLxxL', 'aaxxaxIIxIIxIxIxaxxa') xxx aaxxaxIIxIIxIxxuuxa\n",
      "('xxIxHHxxHHxHxHHxL', 'xxIxIIxxIIxIxIIxa') xxx xxIxIIxxIIxIxIIxII\n",
      "('xIHxxLLxHxHxxHxLxHHx', 'xIIxxaaxIxIxxIxaxIIx') xxx xIIxxaaxIxIxxauxaaxIxuux\n",
      "('xxaxxHxxHxHxHxx', 'xxaxxIxxIxIxIxx') xxx xxaxxIxxIxxuux\n",
      "('oxLxHHxxHHxxLxHH', 'oxaxIIxxIIxxaxII') xxx oxaxIIxxIIxxaxIIx\n",
      "('xxoLxHxxLLxxLLxxHHx', 'xxoaxIxxaaxxaaxxIIx') xxx xxoaxIxxaaxxaaxxuux\n",
      "('xxoxxHxLxxHHxxHHxHH', 'xxoxxuxaxxIIxxIIxII') xxx xxoxxuxaxxIIxxIIxIIx\n",
      "('xIxHxxHxxHxLLxLxx', 'xIxIxxIxxIxaaxaxx') xxx xIxIxxIxxIxaaxxxuux\n",
      "('uxxHHxLxxHHxLxLx', 'uxxuuxaxxIIxaxax') xxx uxxuuxaxxuuxaaxIxax\n",
      "('xxaxxLxHxLLxHHx', 'xxaxxaxIxaaxIIx') xxx xxaxxaxIxaaxxx\n",
      "('xxIxxLLxHxLxxLL', 'xxIxxaaxIxaxxaa') xxx xxIxxaaxIxaxxaaxx\n",
      "('oLxLxxHxxHHxxLLxLLxH', 'oaxaxxIxxIIxxaaxaaxI') xxx oaxaxxIxxIIxxaaxaaxx\n",
      "('IxHHxxHxLxLLxHxHHx', 'IxIIxxIxaxaaxIxIIx') xxx IxIIxxIxaxaaxIxIIxIIx\n",
      "('OxHxxHxLLxHxHxHxHxx', 'OxUxxUxeexixixixixx') xxx OxUxxUxeexixUxUxUxx\n",
      "('aLxxLxxHHxxLLxLxLxL', 'aaxxaxxIIxxaaxaxaxa') xxx aaxxaxxIIxxaaxxaaxIxa\n",
      "('axLxLLxLLxxHHxHxHH', 'axaxaaxaaxxIIxIxII') xxx axaxaaxaaxxIIxIxIIx\n",
      "('eLxHHxxHxHxLxxL', 'eexiixxixixexxe') xxx eexiixxixiixixxaxxa\n",
      "('xxuHxxLLxHxLxxLxxLL', 'xxuuxxaaxIxaxxaxxaa') xxx xxuuxxaaxIxaxxaxxaaxx\n",
      "('UxHxHHxxHxxHxHxxH', 'UxUxUUxxUxxUxUxxU') xxx UxUxUUxxixxixixxi\n",
      "('oxLxLLxxHHxxLLx', 'oxaxaaxxIIxxaax') xxx oxaxaaxxIIxxaaxxx\n",
      "('eLxLxxLxxLLxxHx', 'eexexxexxeexxix') xxx eexexxexxeaxxIx\n",
      "('OxHHxxLxHHxxLxL', 'OxUUxxexiixxexe') xxx OxUUxxexUUxxexe\n",
      "('uxLLxHxHHxHxHHxLxHx', 'uxaaxIxIIxIxIIxaxIx') xxx uxaaxIxIIxIIxIIxaxIx\n",
      "('xxoxxLLxxHHxLxHxHH', 'xxoxxaaxxIIxaxIxII') xxx xxoxxaaxxIIxaxIxIIxII\n",
      "('xxUHxLxLxxHxLLx', 'xxUUxexexxixeex') xxx xxUUxexexxixeax\n",
      "('axHxxHxLLxxHHxxHHx', 'axIxxIxaaxxIIxxIIx') xxx axIxxIxaexxiixxiix\n",
      "('exxLxxLLxxLLxLxLLx', 'exxexxeexxeexexeex') xxx exxexxeaxxaaxaxaax\n",
      "('IHxxLLxxHHxxLLxxHxx', 'IIxxaaxxIIxxaaxxIxx') xxx IIxxaaxxuuxxuuxaaxxIxx\n",
      "('xxaxLxHHxxLLxxHx', 'xxaxaxIIxxaaxxIx') xxx xxaxaxIIxxaaxxux\n",
      "('exxLxxHHxLxxLxxHH', 'exxexxiixexxexxii') xxx exxexxeuxIxaxxaxxII\n",
      "('xoxLxxLxHHxHxHxHHx', 'xoxaxxaxIIxIxIxIIx') xxx xoxaxxaxIIxIxIxIIxIIx\n",
      "('axHxLLxLLxHHxHxHxH', 'axIxaaxaaxIIxIxIxI') xxx axIxaexeexiixixixi\n",
      "('exxLxHxHHxLLxxLLx', 'exxexixiixeexxeex') xxx exxexixiuxaaxxaax\n",
      "('IxxHxxHxHHxHHxxHxH', 'IxxIxxIxIIxIIxxIxI') xxx IxxIxxIxIIxIIxxUxU\n",
      "('xxIHxxHxLLxxLLx', 'xxIIxxIxaaxxaax') xxx xxIIxxIxaaxxxxeex\n",
      "('xeLxLxHxxHxxHxLLxHx', 'xeexexixxixxixeexix') xxx xeexexixxixxixeaxIx\n",
      "('xuxxHHxLxxHxHHxHHxx', 'xuxxuuxaxxIxIIxIIxx') xxx xuxxuuxaxxuxuuxxIxIxx\n",
      "('xoxHHxHxLxLLxLxH', 'xoxuuxuxaxaaxaxI') xxx xoxuuxxIxaaxIxaaxaxI\n",
      "('xxaLxHxxHHxxLLxxLxLx', 'xxaaxIxxIIxxaaxxaxax') xxx xxaaxIxxuuxxuuxaaxxaxax\n",
      "('xxoxLxxHxLLxHxxH', 'xxoxaxxIxaaxIxxI') xxx xxoxaxxIxaaxxxxI\n",
      "('xxoLxHxLxxLLxxLxxHH', 'xxoaxIxaxxaaxxaxxII') xxx xxoaxIxaxxaaxxaxxIIx\n",
      "('oxxLxHxHxxHHxxH', 'oxxaxIxIxxIIxxI') xxx oxxaxIxIxxauxIxxI\n",
      "('UxxHHxHxxLxHHxxLL', 'UxxUUxUxxexiixxee') xxx UxxUUxUxxexUUxxee\n",
      "('xxixxLLxLLxLxHxxHx', 'xxixxeexeexexixxix') xxx xxixxeexeexexixxUx\n",
      "('xxOLxLxHxxHxHHxxHHx', 'xxOexexixxixiixxiix') xxx xxOexexixxUxUUxxUUx\n",
      "('exxHxHHxxLLxLxxHxxH', 'exxixiixxeexexxixxi') xxx exxixiuxxaaxaxxIxxI\n",
      "('xIHxHxxLLxHxHHxH', 'xIIxIxxaaxIxIIxI') xxx xIIxIxxaaxxxIIxI\n",
      "('xIHxxLxLLxxLLxx', 'xIIxxaxaaxxaaxx') xxx xIIxxaxaaxxxxeexx\n",
      "('aLxHHxLLxLLxHxHxHxHH', 'aaxIIxaaxaaxIxIxIxII') xxx aaxIIxaaxaaxIxxIxI\n",
      "('xxUHxLxHxxLxxHxxLxHH', 'xxUUxexixxexxixxexii') xxx xxUUxexUxxexxixxexii\n",
      "('xoLxxLLxHHxxLLxHH', 'xoaxxaaxIIxxaaxII') xxx xoaxxaaxxxxeexii\n",
      "('xxaLxLxHxxHxLLxxLLx', 'xxaaxaxIxxIxaaxxaax') xxx xxaaxaxIxxIxaexxeex\n",
      "('aLxxLLxLLxxHHxHH', 'aaxxaaxaaxxIIxII') xxx aaxxaaxaaxxIIxIIx\n",
      "('UxHHxxLLxLxLxHHxxLxx', 'UxUUxxeexexexiixxexx') xxx UxUUxxeexexexUUxxexx\n",
      "('xxaLxxLxHxLLxLLxxHH', 'xxaaxxaxIxaaxaaxxII') xxx xxaaxxaxIxaaxxaxxII\n",
      "('xIxxHxxLLxxHxLLxxHHx', 'xIxxIxxaaxxIxaaxxIIx') xxx xIxxIxxaaxxuxaaxxIIx\n",
      "('axxHxLLxxHHxxLxxLL', 'axxIxaaxxIIxxaxxaa') xxx axxIxaaxxIIxxaxxaaxx\n",
      "('exxHHxHHxxLxLLxLxLxH', 'exxiixiixxexeexexexi') xxx exxiixiixxexeexexexU\n",
      "('xxoxxLxxLLxxHHxxL', 'xxoxxaxxaaxxIIxxa') xxx xxoxxaxxaaxxuuxxuuxa\n",
      "('oxLxxHxLxxLLxLL', 'oxaxxIxaxxaaxaa') xxx oxaxxIxaxxaaxxa\n",
      "('IxHxxHxLLxxLLxxL', 'IxIxxIxaaxxaaxxa') xxx IxIxxIxaaxxxxeexxe\n",
      "('axLLxLxxHxLLxHxHxL', 'axaaxaxxIxaaxIxIxa') xxx axaaxaxxIxaaxIx\n",
      "('xIHxxLxxLxLLxxLxxH', 'xIIxxaxxaxaaxxaxxI') xxx xIIxxaxxaxaaxxxxexxU\n",
      "('axxLLxLxHxxLxxHHxL', 'axxaaxaxIxxaxxIIxa') xxx axxaaxaxIxxaxxuuxaaxI\n",
      "('xxuHxxHHxHHxxLLxHHx', 'xxuuxxuuxuuxxaaxIIx') xxx xxuuxxuuxuuxxuuxaaxIIx\n",
      "('oxxHHxxLLxxLxLxHH', 'oxxuuxxaaxxaxaxII') xxx oxxuuxxaaxxaxaxIIx\n",
      "('IHxxLLxLLxxLLxxLLxxL', 'IIxxaaxaaxxaaxxaaxxa') xxx IIxxaaxaaxxxxeexxeexxe\n",
      "('xoLxxLxxLLxLxxLx', 'xoaxxaxxaaxaxxax') xxx xoaxxaxxaaxxxuuxax\n",
      "('IHxxLLxxHxLLxHxHxLL', 'IIxxaaxxIxaaxIxIxaa') xxx IIxxaaxxuxaaxIxa\n",
      "('IHxHHxxLLxxHxxLLxLx', 'IIxIIxxaaxxIxxaaxax') xxx IIxIIxxaaxxuxxaaxax\n",
      "('IHxxLLxxHxxHHxxLL', 'IIxxaaxxIxxIIxxaa') xxx IIxxaaxxuxxuuxxaa\n",
      "('xoLxHHxLxHxLLxHHxxH', 'xoaxIIxaxIxaaxIIxxI') xxx xoaxIIxaxIxaaxxxxU\n",
      "('xxiHxLxLxHHxLLxxHx', 'xxiixexexiixeexxix') xxx xxiixexexUUxeexxix\n",
      "('iHxxLxxLxLLxxLxHxxHx', 'iixxexxexeexxexixxix') xxx iixxexxexeexxexixxUx\n",
      "('xxIxLLxxLLxLLxHHxLx', 'xxIxaaxxaaxaaxIIxax') xxx xxIxaaxxaaxxaxIIxax\n",
      "('xxUHxLLxHxxLxLL', 'xxUUxeexixxexee') xxx xxUUxeexUxxexeex\n",
      "('OxxHHxxHxxHHxHHxHH', 'OxxUUxxUxxUUxUUxUU') xxx OxxUUxxUxxiixiixii\n",
      "('xxaxLLxxHxHHxxLxxL', 'xxaxaaxxIxIIxxaxxa') xxx xxaxaaxxuxuuxxuuxaxxa\n",
      "('ixHHxxHHxLLxxHxLLx', 'ixiixxiixeexxixeex') xxx ixiixxiixeexxixeax\n",
      "('xuHxxHxxHHxHHxxLxLL', 'xuuxxuxxuuxuuxxaxaa') xxx xuuxxuxxuuxuuxxuuxaxaa\n",
      "('xOxxLLxLxxHxLxxHxLL', 'xOxxeexexxixexxixee') xxx xOxxeexexxUxexxixea\n",
      "('xxuHxxHHxLxxHHxxHHxL', 'xxuuxxuuxaxxIIxxIIxa') xxx xxuuxxuuxaxxuuxxuuxaaxI\n",
      "('xiHxLxLxLxLLxHxxHxLx', 'xiixexexexeexixxixex') xxx xiixexexexeexUxxixex\n",
      "('xIxLLxxLxxLLxHxHHxLL', 'xIxaaxxaxxaaxIxIIxaa') xxx xIxaaxxaxxaaxIxIIxIIa\n",
      "('OxxHxHHxLLxHHxxHHxHH', 'OxxUxUUxeexiixxiixii') xxx OxxUxUUxexaxIIxxIIxIIx\n",
      "('IxxHHxxLLxHHxHxxHxxH', 'IxxIIxxaaxIIxIxxIxxI') xxx IxxIIxxaaxxxUxxUxxU\n",
      "('xxOxLxxHxHxHxxLxxHxL', 'xxOxexxixixixxexxixe') xxx xxOxexxixiixixxIxxaxxIxa\n",
      "('ixLxHxxHHxxLxxH', 'ixexixxiixxexxi') xxx ixexixxUUxxexxi\n",
      "('IHxLLxLLxxLxLxHxLL', 'IIxaaxaaxxaxaxIxaa') xxx IIxaaxaaxxaxaxIxaaxx\n",
      "('IHxxLLxLLxLxxLL', 'IIxxaaxaaxaxxaa') xxx IIxxaaxaaxxxuuxaa\n",
      "('xaxxLxxHHxxHHxxLLxLx', 'xaxxaxxIIxxIIxxaaxax') xxx xaxxaxxIIxxIIxxaaxx\n",
      "('IxHxHxxHHxxHHxxLLxxH', 'IxIxIxxIIxxIIxxaaxxI') xxx IxIxIxxauxIxxIIxxaaxxI\n",
      "('xoxxLxxHxHHxxHxLxHHx', 'xoxxaxxIxIIxxIxaxIIx') xxx xoxxaxxIxIIxIIIxaxIIx\n",
      "('IHxxHHxHxHHxHxx', 'IIxxIIxIxIIxIxx') xxx IIxxIIxIxIIxIIxx\n",
      "('xexHxLxHxHxLLxHHxxLL', 'xexixexixixeexiixxee') xxx xexixexixUxeexiixxee\n",
      "('xaLxHHxxHxLLxxHHxxLL', 'xaaxIIxxIxaaxxIIxxaa') xxx xaaxIIxxIxaaxxuuxxuuxaa\n",
      "('exxLxxHxxHHxLxxHHxH', 'exxexxixxiixexxiixi') xxx exxexxeuxxuuxaaxIxxuuxu\n",
      "('uxLxLxHxHHxLLxLx', 'uxaxaxIxIIxaaxax') xxx uxaxaxuxuuxaaxI\n",
      "('exHxHHxHxxLxLLxx', 'exixiixixxexeexx') xxx exixiixixxuuxaxaaxx\n",
      "('xxIxxHxLLxxLxxHxH', 'xxIxxIxaaxxaxxIxI') xxx xxIxxIxaaxxxxexxUxU\n",
      "('xxexxLxHxxHHxxHxxL', 'xxexxexixxiixxixxe') xxx xxexxexixxUUxxUxxe\n",
      "('uxxLLxLxHxLLxLLxxLL', 'uxxaaxaxIxaaxaaxxaa') xxx uxxaaxaxIxaaxxaxxaa\n",
      "('xuHxHxxLxLxxLLxxHH', 'xuuxuxxaxaxxaaxxII') xxx xuuxuxxaxaxxaaxxIIx\n",
      "('ixxLxHxxHxLLxxHxLL', 'ixxexixxixeexxixee') xxx ixxexixxixexxixee\n",
      "('xxoxLxxHxHxLxHxx', 'xxoxaxxIxIxaxIxx') xxx xxoxaxxIxxIxxuux\n",
      "('UxHHxHHxLLxHxxHxxH', 'UxUUxUUxeexixxixxi') xxx UxUUxUUxeexixxUxxi\n",
      "('xxUHxLxHxxHHxHHxHH', 'xxUUxexixxiixiixii') xxx xxUUxexUxxiixiixii\n",
      "('xoxHHxLxxHHxxHxxLLxH', 'xoxuuxaxxIIxxIxxaaxI') xxx xoxuuxaaxIxxuuxxuxxaaxI\n",
      "('xoLxxHHxxLLxxHxHHxLL', 'xoaxxIIxxaaxxIxIIxaa') xxx xoaxxIIxxaaxxuxuuxaaxI\n",
      "('xuxxLLxHxxHxHHxxL', 'xuxxaaxIxxIxIIxxa') xxx xuxxaaxIxxIxIIxIIxxe\n",
      "('eLxHxHxHHxLLxHxx', 'eexixixiixeexixx') xxx eexixixiixixaxIxx\n",
      "('xIxxHxHxHxxLxHxLLxL', 'xIxxIxIxIxxaxIxaaxa') xxx xIxxIxIxIxxaxIxaaxx\n",
      "('IHxxLLxHxHxLxxLLxLxL', 'IIxxaaxIxIxaxxaaxaxa') xxx IIxxaaxIxIxaxxaaxxaaxI\n",
      "('exHHxLxHxHHxxLxxHxH', 'exiixexixiixxexxixi') xxx exiixexixUUxxexxixiixix\n",
      "('aLxxHxxHHxxLLxHxL', 'aaxxIxxIIxxaaxIxa') xxx aaxxIxxIIxxaaxxxa\n",
      "('xxuxxLxLLxHxHHxLxL', 'xxuxxaxaaxIxIIxaxa') xxx xxuxxaxaaxIxIIxIIaaxI\n",
      "('xaxxHxxLxHHxxLxHxHH', 'xaxxIxxaxIIxxaxIxII') xxx xaxxIxxaxIIxxaxIxIIxII\n",
      "('xxUxHHxHxxHxHHx', 'xxUxUUxUxxUxUUx') xxx xxUxUUxUxxixiix\n",
      "('xUHxxHxLLxHxLxHxL', 'xUUxxUxeexixexixe') xxx xUUxxUxeexixexUxe\n",
      "('xoLxxLLxLxHxxLx', 'xoaxxaaxaxIxxax') xxx xoaxxaaxxxIxxuuxax\n",
      "('uxxHHxLxxHHxxLLxxH', 'uxxuuxaxxIIxxaaxxI') xxx uxxuuxaxxuuxxuuxaaxxI\n",
      "('xeLxHxxLLxLxHxxH', 'xeexixxeexexixxi') xxx xeexixxeexexixxU\n",
      "('uxHxLLxHxHHxLxLLxx', 'uxuxaaxIxIIxaxaaxx') xxx uxuxaaxIxIIxIIaaxI\n",
      "('aLxxLLxLxxLxHxHHxHxx', 'aaxxaaxaxxaxIxIIxIxx') xxx aaxxaaxaxxaxIxIIxIIxx\n",
      "('xxIHxxHxxHxHHxxL', 'xxIIxxIxxIxIIxxa') xxx xxIIxxIxxIxIIxIIxxe\n",
      "('xeLxHxLxHxHxLLxHxx', 'xeexixexixixeexixx') xxx xeexixexixUxeexixx\n",
      "('aLxHxxLLxLxxLLxxHxxL', 'aaxIxxaaxaxxaaxxIxxa') xxx aaxIxxaaxxxuuxaaxxIxxa\n",
      "('xoLxxLLxLxxHxxHxL', 'xoaxxaaxaxxIxxIxa') xxx xoaxxaaxxxuuxIxxIxa\n",
      "('xxIHxxHxLxxLxxLLxxL', 'xxIIxxIxaxxaxxaaxxa') xxx xxIIxxIxaxxaxxaaxxxxe\n",
      "('xxoxxHHxLxLLxLxxL', 'xxoxxuuxaxaaxaxxa') xxx xxoxxuuxaxaaxxxuuxa\n",
      "('oLxxHxHHxxHxxHxHHxL', 'oaxxIxIIxxIxxIxIIxa') xxx oaxxIxIIxxIxxIxIIxII\n",
      "('uxxLxxLxxHxxLLxxHx', 'uxxaxxaxxIxxaaxxIx') xxx uxxaxxaxxIxxaaxxux\n",
      "('xxuHxxLLxHxHHxLLxx', 'xxuuxxaaxIxIIxaaxx') xxx xxuuxxaaxIxIIxIIaxx\n",
      "('xUHxHxxLxxHxLxx', 'xUUxUxxexxixexx') xxx xUUxUxxexxUxexx\n",
      "('xxIxLxxHHxxHHxxHHx', 'xxIxaxxIIxxIIxxIIx') xxx xxIxaxxuuxxuuxxuux\n",
      "('IHxxLLxLxxLLxLLxLx', 'IIxxaaxaxxaaxaaxax') xxx IIxxaaxaxxaaxxaxax\n",
      "('xxIxLxHxxLxHxHx', 'xxIxaxIxxaxIxIx') xxx xxIxaxuxxaxIxIx\n",
      "('IxLLxHxHxxHxxHxxLx', 'IxaaxIxIxxIxxIxxax') xxx IxaaxIxIxxauxxuuxIxxax\n",
      "('xoxHxLLxLLxHxHHx', 'xoxuxaaxaaxIxIIx') xxx xoxuxaaxaaxIxIIxIIx\n",
      "('axxLLxHxLxxHHxxLLx', 'axxaaxIxaxxIIxxaax') xxx axxaaxIxaxxIIxxaaxxx\n",
      "('xxIHxxLxLxHxLLxHHxLL', 'xxIIxxaxaxIxaaxIIxaa') xxx xxIIxxaxaxIxaaxxxee\n",
      "('xxaLxLLxLLxHxHxx', 'xxaaxaaxaaxIxIxx') xxx xxaaxaaxaaxIxIxxa\n",
      "('eLxxLLxHxxHxHxHH', 'eexxeexixxixixii') xxx eexxeexixxUxUxUU\n",
      "('oLxHxxLxHxLLxxLLxx', 'oaxIxxaxIxaaxxaaxx') xxx oaxIxxaxIxaaxxxxeexx\n",
      "('xOxHxxHHxLxHxHHxxHHx', 'xOxUxxUUxexixiixxiix') xxx xOxUxxUUxexUxUUxxUUx\n",
      "('xxIxLxHxLxHHxxHx', 'xxIxaxIxaxIIxxIx') xxx xxIxaxuxaxIIxxIx\n",
      "('IHxxHHxxHxxHxHxx', 'IIxxIIxxIxxIxIxx') xxx IIxxIIxxIxxIxIxxa\n",
      "('xxIHxxHxHHxxHxxHxxH', 'xxIIxxIxIIxxIxxIxxI') xxx xxIIxxIxIIxIIIxxIxxI\n",
      "('exxLxLxxLLxLLxHx', 'exxexexxeexeexix') xxx exxexexxeaxaaxIx\n",
      "('IHxxHHxHxxHxHHx', 'IIxxIIxIxxIxIIx') xxx IIxxIIxIxxIxIIxIIx\n",
      "('uxxLLxHxLxxLLxHxxLLx', 'uxxaaxIxaxxaaxIxxaax') xxx uxxaaxIxaxxaaxxxxaax\n",
      "('xUHxLLxHxxHHxHxx', 'xUUxeexixxiixixx') xxx xUUxeexixxUUxUxx\n",
      "('ixLxHxHHxxHxxLLxHH', 'ixexixiixxixxeexii') xxx ixexixUUxxUxxeexii\n",
      "('OxxLxHxHHxLLxxLxLLxL', 'Oxxexixiixeexxexeexe') xxx Oxxexixiixixaxxaxaaxa\n",
      "('xoxxLLxLLxHxxHHxHH', 'xoxxaaxaaxIxxIIxII') xxx xoxxaaxaaxIxxIIxIIx\n",
      "('xxoxHxxHxxHxxLxLxH', 'xxoxuxxuxxuxxaxaxI') xxx xxoxuxxuxxuxxaxaxu\n",
      "('xxIxLxHHxHxxLxHHxx', 'xxIxaxIIxIxxaxIIxx') xxx xxIxaxuuxxIxxuuxaxIIxx\n",
      "('xixxHxHxLxHxLLxHxxL', 'xixxixixexixeexixxe') xxx xixxixixexixeexUxxe\n",
      "('xxoxxLxxLLxxHxL', 'xxoxxaxxaaxxIxa') xxx xxoxxaxxaaxxuxa\n",
      "('uxxHxHHxxHHxHHxHHxxH', 'uxxuxuuxxuuxuuxuuxxu') xxx uxxuxuuxxuuxuuxxIxIxxI\n",
      "('IHxHHxHHxHxHxLL', 'IIxIIxIIxIxIxaa') xxx IIxIIxIIxIxIxaaxx\n",
      "('IHxxHxxLLxxHxxHxHH', 'IIxxIxxaaxxIxxIxII') xxx IIxxIxxaaxxIxxIxIIxII\n",
      "('xuxHxLLxHHxxLLxHxHxx', 'xuxuxaaxIIxxaaxIxIxx') xxx xuxuxaaxIIxxaaxIxIxxa\n",
      "('xxaxHxHxHHxLLxxHxx', 'xxaxIxIxIIxaaxxIxx') xxx xxaxIxIxIIxIIaxxIxx\n",
      "('exHHxLLxLxHxxHxHxxL', 'exiixeexexixxixixxe') xxx exiixeexexixxUxUxxe\n",
      "('xxaxLLxLLxHHxLLxHH', 'xxaxaaxaaxIIxaaxII') xxx xxaxaaxaaxxxeexUU\n",
      "('OxHxHHxHxxLxHxxLxLL', 'OxUxUUxUxxexixxexee') xxx OxUxUUxexxuuxaxIxxaxaa\n",
      "('xIHxxLxxHxHxHHxLLx', 'xIIxxaxxIxIxIIxaax') xxx xIIxxaxxuxuxuuxaaxIx\n",
      "('uHxxHHxLxLLxHHx', 'uuxxuuxaxaaxIIx') xxx uuxxuuxaxaaxxx\n",
      "('xUHxxHHxLLxxHxH', 'xUUxxUUxeexxixi') xxx xUUxxUUxeexxixiixix\n",
      "('exHxHHxLxLLxHHxx', 'exixiixexeexiixx') xxx exixiixixaaxIxx\n",
      "('OxHHxHxxHxLLxxLxx', 'OxUUxUxxUxeexxexx') xxx OxUUxixxixeexxexx\n",
      "('xOxHxxLLxLLxLxLxxH', 'xOxUxxeexeexexexxi') xxx xOxUxxeexeexexexxU\n",
      "('IxLLxLxxLLxxHxxHH', 'IxaaxaxxaaxxIxxII') xxx IxaaxaxxaaxxIxxIIx\n",
      "('OxHxLxxHHxHxLxLLxxH', 'OxUxexxiixixexeexxi') xxx OxUxeexexxxuuxuxaxaaxxI\n",
      "('IHxxHxHHxHxLLxxLxxLx', 'IIxxIxIIxIxaaxxaxxax') xxx IIxxIxIIxIxaaxxxxexxex\n",
      "('xxOLxLxLxxHHxLxHHxxL', 'xxOexexexxiixexiixxe') xxx xxOexexexxUUxexiixxe\n",
      "('UxxLLxLxHHxHxHxxHx', 'Uxxeexexiixixixxix') xxx UxxeexexUUxUxUxxix\n",
      "('iHxHxxLxHxHxLLxxLxxL', 'iixixxexixixeexxexxe') xxx iixixxexixixeaxxaxxa\n",
      "('oLxHHxxHHxHxHxxHH', 'oaxIIxxIIxIxIxxII') xxx oaxIIxxIIxIxIxxauxI\n",
      "('xOxxHHxHHxHxxHH', 'xOxxUUxUUxUxxUU') xxx xOxxUUxUUxUxxii\n",
      "('IHxLLxHxHHxxHxLLxH', 'IIxaaxIxIIxxIxaaxI') xxx IIxaaxIxIIxIIIxaaxI\n",
      "('oxLLxHxLLxLLxxHxxL', 'oxaaxIxaaxaaxxIxxa') xxx oxaaxIxaaxxaxxIxxa\n",
      "('xexLxHxHHxHxxHHxLxx', 'xexexixiixixxiixexx') xxx xexexixiixixxuuxaaxIxx\n",
      "('xxUxxLLxxHxxHxLLx', 'xxUxxeexxixxixeex') xxx xxUxxeexxixxixeax\n",
      "('OxxHxLxHxxHHxLLxHx', 'OxxUxexixxiixeexix') xxx OxxUxexUxxUUxeexix\n",
      "('xOxLxHxxLLxHxHxx', 'xOxexixxeexixixx') xxx xOxexUxxeexixixx\n",
      "('exHxHxxLLxLxxLLxxHx', 'exixixxeexexxeexxix') xxx exixiixixxxaaxaxxaaxxux\n",
      "('UHxxHHxxLxHHxHHxxHx', 'UUxxUUxxexiixiixxix') xxx UUxxUUxxexUUxUUxxUx\n",
      "('axxHHxLxHxHHxxLxxHx', 'axxIIxaxIxIIxxaxxIx') xxx axxIIxaxIxIIxIIxxexxUx\n",
      "('axxLxxHxHHxxHHxLxLLx', 'axxaxxIxIIxxIIxaxaax') xxx axxaxxIxIIxIIIIxaxaax\n",
      "('eLxHHxxHxLLxxHxH', 'eexiixxixeexxixi') xxx eexiixxixeaxxIxI\n",
      "('OxHxHxxHxHxxLLxxH', 'OxUxUxxUxUxxeexxi') xxx OxUxUUxexxxIxIxxaaxxu\n",
      "('ixxHHxLxLxxHxxLx', 'ixxiixexexxixxex') xxx ixxiixexexxUxxex\n",
      "('xOxLLxxLLxxHxxHxHxHH', 'xOxeexxeexxixxixixii') xxx xOxeexxeexxixxixiixixxII\n",
      "('oxxHxLLxxHHxxLLxHxx', 'oxxuxaaxxIIxxaaxIxx') xxx oxxuxaaxxIIxxaaxxxx\n",
      "('axxLxxHxLLxHHxxL', 'axxaxxIxaaxIIxxa') xxx axxaxxIxaaxxxxe\n",
      "('xxIHxLxHxLLxLxHxH', 'xxIIxaxIxaaxaxIxI') xxx xxIIxaxIxaaxxxIxxIx\n",
      "('UxxHxHxHxHxxLxHHxH', 'UxxUxUxUxUxxexiixi') xxx UxxUxUxUxUxxexUUxU\n",
      "('UxLLxLxLxHHxLLxxLLx', 'Uxeexexexiixeexxeex') xxx UxeexexexUUxeexxeex\n",
      "('exxLxxHxLLxxLxxL', 'exxexxixeexxexxe') xxx exxexxeuxaaxIxxexxe\n",
      "('xuxHxHHxxLxLxHHx', 'xuxuxuuxxaxaxIIx') xxx xuxuxuuxxuuxaxaxIIx\n",
      "('uxxHHxHxHHxHxxH', 'uxxuuxuxuuxuxxu') xxx uxxuuxuxuuxxIxxuuxI\n",
      "('xxoxLLxHxxHxHxHHxH', 'xxoxaaxIxxIxIxIIxI') xxx xxoxaaxIxxIxIxI\n",
      "('xxUHxxHxLLxLxxHHxH', 'xxUUxxUxeexexxiixi') xxx xxUUxxUxeexexxUUxU\n",
      "('oLxLLxLxxLLxHHxHxx', 'oaxaaxaxxaaxIIxIxx') xxx oaxaaxaxaaxIxUxx\n",
      "('xxUHxLLxLLxHHxLxHxHx', 'xxUUxeexeexiixexixix') xxx xxUUxeexeexiixexixUx\n",
      "('xIHxLxLxHHxxHxHHx', 'xIIxaxaxIIxxIxIIx') xxx xIIxaxaxIIxxIxIIxIIx\n",
      "('axHxLLxHxHHxLxLx', 'axIxaaxIxIIxaxax') xxx axIxaexixiixexex\n",
      "('xoxHxHHxxLxxHxHxxLx', 'xoxuxuuxxaxxIxIxxax') xxx xoxuxuuxxuuxaxxIxIxxax\n",
      "('ixxHxxHxHxLxxHxLxxLx', 'ixxixxixixexxixexxex') xxx ixxixxixiixixxaxxIxaxxax\n",
      "('xaxLxxLLxxLxHxHHxHxx', 'xaxaxxaaxxaxIxIIxIxx') xxx xaxaxxaaxxaxIxIIxIIxx\n"
     ]
    },
    {
     "name": "stdout",
     "output_type": "stream",
     "text": [
      "('IxLLxHxLLxLxxHx', 'IxaaxIxaaxaxxIx') xxx IxaaxIxaaxxxuuxIx\n",
      "('exHxLLxLxxHxxHHxxHx', 'exixeexexxixxiixxix') xxx exixeaxaxxIxxIIxxIx\n",
      "('UxxHxxHxxLxxHxLLxx', 'UxxUxxUxxexxixeexx') xxx UxxUxxUxxexxixeaxx\n",
      "('UxxHHxHxHHxLxxH', 'UxxUUxUxUUxexxi') xxx UxxUUxUxUUxexxU\n",
      "('xUHxHxxLxHHxLxHxLLx', 'xUUxUxxexiixexixeex') xxx xUUxUxxexUUxexUxeex\n",
      "('xxoxLxLxxHxxHHxLxxL', 'xxoxaxaxxIxxIIxaxxa') xxx xxoxaxaxxuxxuuxaxxa\n",
      "('xxixxLLxLxLxxHx', 'xxixxeexexexxix') xxx xxixxeexexexxUx\n",
      "('aLxHxxLxHxxLLxxHH', 'aaxIxxaxIxxaaxxII') xxx aaxIxxaxIxxaaxxIIx\n",
      "('xxUHxLxxHxLxLxHH', 'xxUUxexxixexexii') xxx xxUUxexxixexexUU\n",
      "('aLxHxxLLxHHxxLxxLxLx', 'aaxIxxaaxIIxxaxxaxax') xxx aaxIxxaaxxxxexxexex\n",
      "('xoLxxHxLLxHxLLxxHH', 'xoaxxIxaaxIxaaxxII') xxx xoaxxIxaaxIxaaxxIIx\n",
      "('xexHHxLLxHxxHxHH', 'xexiixeexixxixii') xxx xexiixeexixxixiixixI\n",
      "('xxIxxHxHHxxHHxx', 'xxIxxIxIIxxIIxx') xxx xxIxxIxIIxIIIIxx\n",
      "('aLxLLxLLxHxHxHHxH', 'aaxaaxaaxIxIxIIxI') xxx aaxaaxaaxIxIxI\n",
      "('xxIxHHxxLLxLLxHH', 'xxIxIIxxaaxaaxII') xxx xxIxIIxxaaxaaxx\n",
      "('axHxxHxLLxLxHHxxLxH', 'axIxxIxaaxaxIIxxaxI') xxx axIxxIxaexexiixxexi\n",
      "('IxxLxxHHxxHxLxHHxHH', 'IxxaxxIIxxIxaxIIxII') xxx IxxaxxIIxxIxaxIIxIIx\n",
      "('OxHHxHxHHxxLLxLxxLL', 'OxUUxUxUUxxeexexxee') xxx OxUUxixiixxeexexxee\n",
      "('xoLxxLLxLxxHxxHHxx', 'xoaxxaaxaxxIxxIIxx') xxx xoaxxaaxxxuuxIxxIIxx\n",
      "('ixHxxHxHHxxHxxHxHxx', 'ixixxixiixxixxixixx') xxx ixixxixiixxixxixiixixxx\n",
      "('UHxxHHxxLxHHxxHxxHx', 'UUxxUUxxexiixxixxix') xxx UUxxUUxxexUUxxUxxUx\n",
      "('ixxLxxLLxLxxHHxHx', 'ixxexxeexexxiixix') xxx ixxexxeexexxUUxUx\n",
      "('uHxxHxxLLxLLxHxHxHH', 'uuxxuxxaaxaaxIxIxII') xxx uuxxuxxaaxaaxIxI\n",
      "('UxxHHxxHHxxLxxH', 'UxxUUxxUUxxexxi') xxx UxxUUxxUUxxexxU\n",
      "('IxHxLLxxLxxHxLxL', 'IxIxaaxxaxxIxaxa') xxx IxIxaaxxxxexxUxexe\n",
      "('xxoLxxLxHxHHxxHxLL', 'xxoaxxaxIxIIxxIxaa') xxx xxoaxxaxIxIIxxIxaaxx\n",
      "('xeLxxHxLxHxxHHxxHHxx', 'xeexxixexixxiixxiixx') xxx xeexxixexixxUUxxUUxx\n",
      "('uxxHxxHxLLxxLxHxHxx', 'uxxuxxuxaaxxaxIxIxx') xxx uxxuxxuxaaxxaxIxIxxa\n",
      "('xxoxLxHxxLxxHxHH', 'xxoxaxIxxaxxIxII') xxx xxoxaxIxxaxxIxIIx\n",
      "('aLxLLxxHHxxLxxLLx', 'aaxaaxxIIxxaxxaax') xxx aaxaaxxIIxxaxxaaxxx\n",
      "('xaLxHHxxLLxxHxHHxHx', 'xaaxIIxxaaxxIxIIxIx') xxx xaaxIIxxaaxxuxuuxxIx\n",
      "('aLxxLxLxxHHxHHxxHxHH', 'aaxxaxaxxIIxIIxxIxII') xxx aaxxaxaxxIIxIIxxIxIIx\n",
      "('IxHxxHxLLxLLxHx', 'IxIxxIxaaxaaxIx') xxx IxIxxIxaaxxaxIx\n",
      "('axxHHxxLLxxLxxLLxxH', 'axxIIxxaaxxaxxaaxxI') xxx axxIIxxaaxxxxexxeexxi\n",
      "('xUHxLxLxHxHxHHx', 'xUUxexexixixiix') xxx xUUxexexixixiixixIx\n",
      "('xxuxxHHxLxxHxHHxxH', 'xxuxxuuxaxxIxIIxxI') xxx xxuxxuuxaxxIxIIxIII\n",
      "('IxxLLxLxxHHxHxLLxHHx', 'IxxaaxaxxIIxIxaaxIIx') xxx IxxaaxaxxIIxIxaaxxx\n",
      "('oLxxLLxHxHxxHxLxxLx', 'oaxxaaxIxIxxIxaxxax') xxx oaxxaaxIxIxxauxaaxIxxax\n",
      "('OxHxHxHHxLxHxxLxxH', 'OxUxUxUUxexixxexxi') xxx OxUxUUxexxIIxaxIxxaxxI\n",
      "('uxLxHxxLxLLxHxHxxLxH', 'uxaxIxxaxaaxIxIxxaxI') xxx uxaxIxxaxaaxIxIxxa\n",
      "('IxHxxLLxHxLLxHHxL', 'IxIxxaaxIxaaxIIxa') xxx IxIxxaaxIxaaxxxe\n",
      "('xoxLLxLLxxLxxHHxxLL', 'xoxaaxaaxxaxxIIxxaa') xxx xoxaaxaaxxaxxIIxxaaxx\n",
      "('uxLLxLLxHxHxLLxxL', 'uxaaxaaxIxIxaaxxa') xxx uxaaxaaxIxaxxa\n",
      "('xuHxHxHHxLxxHHx', 'xuuxuxuuxaxxIIx') xxx xuuxuxuuxaxxuux\n",
      "('eLxLxHxHxLxHxHx', 'eexexixixexixix') xxx eexexixiixixxaxIxIx\n",
      "('IxHxHxLxxHxHHxxHxxHx', 'IxIxIxaxxIxIIxxIxxIx') xxx IxIxxuuxIxIIxxIxxIx\n",
      "('oLxxHHxxLLxxHxHHxx', 'oaxxIIxxaaxxIxIIxx') xxx oaxxIIxxaaxxuxuuxxuux\n",
      "('xIxxHHxLLxHxHxLxxLxH', 'xIxxIIxaaxIxIxaxxaxI') xxx xIxxIIxaaxIxxuuxaxI\n",
      "('xoxHHxHxLxxHxLLxxLL', 'xoxuuxuxaxxIxaaxxaa') xxx xoxuuxxIxaaxIxxuxaaxxaa\n",
      "('IxHxHxxLxHxHxLLxLx', 'IxIxIxxaxIxIxaaxax') xxx IxIxIxxaxIxaaxax\n",
      "('IxxHxxHxLLxHxxLL', 'IxxIxxIxaaxIxxaa') xxx IxxIxxIxaaxxxxaa\n",
      "('axHHxxLxLLxxHHxxLLxH', 'axIIxxaxaaxxIIxxaaxI') xxx axIIxxaxaaxxIIxxaaxx\n",
      "('oLxLxHxxLxHxHxLxxLL', 'oaxaxIxxaxIxIxaxxaa') xxx oaxaxIxxaxIxIxaxxaaxx\n",
      "Score: 87.08%\n"
     ]
    }
   ],
   "source": [
    "test_55 = []\n",
    "for i in range(5000):\n",
    "    test_55.extend(generate_turkish_pairs(n = 1, length = randint(15, 20), cons = \"x\", vowel_cluster = (1, 2),\n",
    "                                cons_cluster = (1, 2)))\n",
    "test_fst_special(o5, test_55)\n",
    "# 'uxHxLxxLLxxHxxL', 'uxuxaxxaaxxIxxa') xxx uxuxaxxaaxxuxxa\n",
    "# Score: 91.42%"
   ]
  },
  {
   "cell_type": "markdown",
   "metadata": {},
   "source": [
    "## Dataset 6: two independent harmonies, no blockers"
   ]
  },
  {
   "cell_type": "code",
   "execution_count": 146,
   "metadata": {},
   "outputs": [
    {
     "name": "stdout",
     "output_type": "stream",
     "text": [
      "[('oAbB', 'oobb'), ('bBoABAA', 'bbooboo'), ('paBAABAAB', 'papaapaap'), ('oAbA', 'oobo'), ('ob', 'ob'), ('pBaABBABBA', 'ppaappappa'), ('abBAABABB', 'abbaababb'), ('opBABAB', 'oppopop'), ('pBaABBAABB', 'ppaappaapp'), ('bBoBABBA', 'bbobobbo'), ('o', 'o'), ('oApB', 'oopp'), ('aAbBAABAA', 'aabbaabaa'), ('obAABABA', 'oboobobo'), ('aAp', 'aap')]\n"
     ]
    }
   ],
   "source": [
    "a = {(\"a\", \"o\"):\"A\", (\"b\", \"p\"):\"B\"}\n",
    "b = ({\"A\":(1, 2), \"B\":(1, 2)})\n",
    "h = Harmony(a, b)\n",
    "\n",
    "data_6 = []\n",
    "for i in range(5000):\n",
    "    data_6.extend(h.generate_pairs(n = 1, length = randint(1, 10)))\n",
    "    \n",
    "test_6 = []\n",
    "for i in range(1000):\n",
    "    test_6.extend(h.generate_pairs(n = 1, length = randint(1, 10)))\n",
    "\n",
    "sigma6 = [\"A\", \"a\", \"o\", \"B\", \"b\", \"p\"]\n",
    "gamma6 = [\"a\", \"o\", \"b\", \"p\"]\n",
    "\n",
    "print(data_6[:15])"
   ]
  },
  {
   "cell_type": "code",
   "execution_count": 64,
   "metadata": {},
   "outputs": [
    {
     "name": "stdout",
     "output_type": "stream",
     "text": [
      "Score: 100.0%\n"
     ]
    }
   ],
   "source": [
    "# o6 = ostia(data_6, sigma6, gamma6)\n",
    "# test_fst(o6, test_6)\n",
    "\n",
    "# Score: 100.0%\n",
    "# FLT NOTEBOOK"
   ]
  },
  {
   "cell_type": "code",
   "execution_count": 65,
   "metadata": {},
   "outputs": [
    {
     "data": {
      "text/plain": [
       "48"
      ]
     },
     "execution_count": 65,
     "metadata": {},
     "output_type": "execute_result"
    }
   ],
   "source": [
    "# len(o6.E)\n",
    "\n",
    "# T.E = [['', 'p', 'p', ''], ['', 'a', 'a', ''], ['', 'o', 'o', 'o'],\n",
    "#        ['o', 'p', 'p', 'o'], ['', 'b', 'b', 'b'], ['b', 'a', 'a', 'b'],\n",
    "#        ['o', 'A', 'o', 'o'], ['o', 'b', 'b', 'ob'], ['ob', 'A', 'o', 'ob'],\n",
    "#        ['b', 'B', 'b', 'b'], ['b', 'o', 'o', 'ob'], ['ob', 'B', 'b', 'ob'],\n",
    "#        ['o', 'B', 'p', 'o'], ['', 'B', 'p', ''], ['', 'A', 'a', ''],\n",
    "#        ['b', 'A', 'a', 'b']]"
   ]
  },
  {
   "cell_type": "code",
   "execution_count": 66,
   "metadata": {},
   "outputs": [
    {
     "data": {
      "text/plain": [
       "15"
      ]
     },
     "execution_count": 66,
     "metadata": {},
     "output_type": "execute_result"
    }
   ],
   "source": [
    "# len(o6.stout)\n",
    "\n",
    "# T.Q = ['', 'o', 'b', 'ob']"
   ]
  },
  {
   "cell_type": "code",
   "execution_count": 147,
   "metadata": {},
   "outputs": [
    {
     "name": "stdout",
     "output_type": "stream",
     "text": [
      "Score: 100.0%\n"
     ]
    }
   ],
   "source": [
    "test_66 = []\n",
    "for i in range(1000):\n",
    "    test_66.extend(h.generate_pairs(n = 1, length = randint(15, 20)))\n",
    "test_fst(o6, test_66)\n",
    "\n",
    "# Score: 100.0%"
   ]
  },
  {
   "cell_type": "markdown",
   "metadata": {},
   "source": [
    "## Dataset 7: two independent harmonies with blockers"
   ]
  },
  {
   "cell_type": "code",
   "execution_count": 148,
   "metadata": {},
   "outputs": [
    {
     "name": "stdout",
     "output_type": "stream",
     "text": [
      "[('aApAB', 'aapap'), ('baBBA', 'babba'), ('aApABBAAB', 'aapappaap'), ('abBAA', 'abbaa'), ('btBoBAABBA', 'btpopooppo'), ('pBat', 'ppat'), ('pBoA', 'ppoo'), ('ttpB', 'ttpp'), ('oApAABABB', 'oopoopopp'), ('paABBtAABB', 'paapptaapp'), ('aAt', 'aat'), ('bB', 'bb'), ('apBAA', 'appaa'), ('oAbBA', 'oobbo'), ('pBaA', 'ppaa')]\n"
     ]
    }
   ],
   "source": [
    "a = {(\"a\", \"o\"):\"A\", (\"b\", \"p\"):\"B\"}\n",
    "b = ({\"A\":(1, 2), \"B\":(1, 2)})\n",
    "c = {\"t\":\"p\"}\n",
    "d = 7\n",
    "h = Harmony(a, b, c, d)\n",
    "\n",
    "data_7 = []\n",
    "for i in range(5000):\n",
    "    data_7.extend(h.generate_pairs(n = 1, length = randint(1, 10)))\n",
    "    \n",
    "test_7 = []\n",
    "for i in range(1000):\n",
    "    test_7.extend(h.generate_pairs(n = 1, length = randint(1, 10)))\n",
    "\n",
    "sigma7 = [\"A\", \"a\", \"o\", \"B\", \"b\", \"p\", \"t\"]\n",
    "gamma7 = [\"a\", \"o\", \"b\", \"p\", \"t\"]\n",
    "\n",
    "print(data_7[:15])"
   ]
  },
  {
   "cell_type": "code",
   "execution_count": 68,
   "metadata": {},
   "outputs": [
    {
     "name": "stdout",
     "output_type": "stream",
     "text": [
      "Score: 96.39999999999999%\n"
     ]
    }
   ],
   "source": [
    "# o7 = ostia(data_7, sigma7, gamma7)\n",
    "# test_fst(o7, test_7)\n",
    "\n",
    "# Score: 96.39999999999999%"
   ]
  },
  {
   "cell_type": "code",
   "execution_count": 69,
   "metadata": {},
   "outputs": [
    {
     "data": {
      "text/plain": [
       "406"
      ]
     },
     "execution_count": 69,
     "metadata": {},
     "output_type": "execute_result"
    }
   ],
   "source": [
    "# len(o7.E)\n",
    "# 406"
   ]
  },
  {
   "cell_type": "code",
   "execution_count": 70,
   "metadata": {},
   "outputs": [
    {
     "data": {
      "text/plain": [
       "101"
      ]
     },
     "execution_count": 70,
     "metadata": {},
     "output_type": "execute_result"
    }
   ],
   "source": [
    "# len(o7.stout)\n",
    "# 101"
   ]
  },
  {
   "cell_type": "code",
   "execution_count": 149,
   "metadata": {},
   "outputs": [
    {
     "name": "stdout",
     "output_type": "stream",
     "text": [
      "('attAtpBABABAAtAA', 'attatppapapaataa') xxx attatppapapaatoo\n",
      "('poABBABBAABBABBAAt', 'pooppoppooppoppoot') xxx pooppoppooppobboot\n",
      "('poBAABAtBBAABAtBABB', 'popoopotppoopotpopp') xxx popoopotppoobotpopp\n",
      "('pttBoABBABAAtABBAAt', 'pttpooppopootoppoot') xxx pttpooppopaapaatoppoot\n",
      "('oApABBAtttBBABA', 'oopoppotttppopo') xxx oopoppotttpbobo\n",
      "('pBoBBtBBABBABtABBAB', 'ppopptppoppoptoppop') xxx ppopptppoppoptpappap\n",
      "('ttaAtpAtAABAABB', 'ttaatpataapaapp') xxx ttaatapaapp\n",
      "('opBAABAABAtBBAABAAB', 'oppoopoopotppoopoop') xxx oppoopoopotppooboob\n",
      "('pBoAtABBAABBABtAt', 'ppootoppooppoptot') xxx ppootoppooppobtot\n",
      "('poBBAABABBABABABt', 'poppoopoppopopopt') xxx poppoopoppobobobt\n",
      "('btBoBBtAABABBAABABAB', 'btpopptoopoppoopopop') xxx btpotpoaapaaobobob\n",
      "('oApABBABBAABABBABBt', 'oopoppoppoopoppoppt') xxx oopoppoppoopoppobbt\n",
      "('baABtABABBAABAtBBAB', 'baabtapappaapatppap') xxx baabtapappaapatapop\n",
      "('oAbABtABBAtAABBtBABA', 'oobobtoppotoopptpopo') xxx oobobtpppataapptpapa\n",
      "('obABtBAABABAtBABAAB', 'obobtpoopopotpopoop') xxx obobttotaappapatpapaap\n",
      "('toAptABBABBABBAAB', 'tooptoppoppoppoop') xxx tooptoppobbobboob\n",
      "('boABAABBAAtABAABABAB', 'booboobbootopoopopop') xxx booboobbootopaapapap\n",
      "('paABAtABABBABAAt', 'paapatapappapaat') xxx paapatopoppopoot\n",
      "('poAtAAtBBABBABBAAtA', 'pootootppoppoppooto') xxx pootootppobbobbooto\n",
      "('aAbBABBABABAABB', 'aabbabbababaabb') xxx aabbabbababoobb\n",
      "('oApABtABBABBABBABA', 'oopoptoppoppoppopo') xxx oopoptpappappappapa\n",
      "('abAABBtBBABAABABBAA', 'abaabbtppapaapappaa') xxx abaabbtapappobboboobobboo\n",
      "('boABtBBAABBtBBAABBtB', 'boobtppoopptppoopptp') xxx boobtppoopptppoopptpp\n",
      "('opBABBAABBAABBABBABt', 'oppoppooppooppoppopt') xxx oppoppooppoobbobbobt\n",
      "('attAAtpBABABAAtABBAA', 'attaatppapapaatappaa') xxx attaatppapapaatopboo\n",
      "('pBoAtBBAABAtABt', 'ppootppoopotopt') xxx ppootppoobotopt\n",
      "('apABBABAtBABBABBABB', 'apappapatpappappapp') xxx apappapatpobbobbobb\n",
      "('optBBAABABAABBAABABB', 'optppoopopooppoopopp') xxx optpppaapapaappaapapp\n",
      "('pBaAtAAtAtAABBAB', 'ppaataatataappap') xxx ppaataaptaappap\n",
      "('paBAtBBABAABABBAAB', 'papatppapaapappaap') xxx papatapopaapappaap\n",
      "('baBBABAABtBBAAB', 'babbabaabtppaap') xxx babbabaobtppoop\n",
      "('oAbtBBtBBABBABBAB', 'oobtpptppoppoppop') xxx oobtpbtppoppoppop\n",
      "('boBABBAAtBAABAAt', 'bobobbootpoopoot') xxx bobobbootpooboot\n",
      "('oAbAABBABBtAABt', 'ooboobbobbtoopt') xxx ooboobbobbtooptp\n",
      "('tpBoBBAtAtAtBtBBt', 'tppoppotototptppt') xxx tppoppotototptpppt\n",
      "('poBBABtABABBAABAAB', 'poppoptopoppoopoop') xxx poppoptapappaapaap\n",
      "('pBoBBAAtABABAABBt', 'ppoppootopopooppt') xxx ppoppootopopooppto\n",
      "('apABAABBAABAAtt', 'apapaappaapaatt') xxx apapaappaapaatot\n",
      "('pBaBtABABAABBAt', 'ppaptapapaappat') xxx ppaptapapaappata\n",
      "('oAptAABAABABAABB', 'ooptoopoopopoopp') xxx ooptooptooaappapaapp\n",
      "('aAbBABBAABAABAA', 'aabbabbaabaabaa') xxx aabbabbaabaapaa\n",
      "('bBaBAtAtBtAABABA', 'bbabatatptaapapa') xxx bbabatatbtaapapa\n",
      "('aApAABBABBAtBBAB', 'aapaappappatppap') xxx aapaappappatapop\n",
      "('aAbBABBABABBAABABBA', 'aabbabbababbaababba') xxx aabbabbababboobobbo\n",
      "('pBoBBtABAABAABBABBA', 'ppopptopoopooppoppo') xxx ppopptopoopooppobbo\n",
      "('aApABAABABBAtBBABBt', 'aapapaapappatppappt') xxx aapapaapappatpbobbt\n",
      "('oAtAApAABBtBABBt', 'ootoopoopptpoppt') xxx ootoopoopptobabbt\n",
      "('apBAABBABBABAtAtAA', 'appaappappapatataa') xxx appaappappapatataap\n",
      "('ttapABBAABBABAABBAA', 'ttapappaappapaappaa') xxx ttappaapatabbaabbabaabbaa\n",
      "('baBBABAABABABBtAA', 'babbabaabababbtaa') xxx babbabaobobobbtoo\n",
      "('baBBtBABAABAABABAA', 'babbtpapaapaapapaa') xxx babbtapappoboboobooboboo\n",
      "('tpaABAAttBABAABBAB', 'tpaapaattpapaappap') xxx tpaapaatotpapaappap\n",
      "('aApBABABAAtABBABA', 'aappapapaatappapa') xxx aappapapaatopbobo\n",
      "('apBtAABABBABBAABBAAB', 'apptaapappappaappaap') xxx apptaapappappaappaa\n",
      "('apBAABAAtAAtAAtBABBA', 'appaapaataataatpappa') xxx appaapaatootootpoppo\n",
      "('oApAABBABBtBAABAB', 'oopooppopptpoopop') xxx oopooppopptobaabab\n",
      "('pBoABABBAAtBBAB', 'ppoopoppootppop') xxx ppoopoppootpbob\n",
      "('baABBABABBAABBA', 'baabbababbaabba') xxx baabbabobboobbo\n",
      "('apBAABBABAABtBBttB', 'appaappapaaptppttp') xxx appaappapaaptpptt\n",
      "('ptaABAAtBAAtAttAAt', 'ptaapaatpaatattaat') xxx ptaapaatpaatattoot\n",
      "('ptatABtABBABBttBBAA', 'ptataptappappttppaa') xxx ptatabtappappttppaa\n",
      "('taApAABBABBAtBB', 'taapaappappatpp') xxx taapaappappatapo\n",
      "('oAbAABBAABAAtAABB', 'ooboobboobootoopp') xxx ooboobboobootoapp\n",
      "('pBaBBABBAABAtBABA', 'ppappappaapatpapa') xxx ppappappaapatpobo\n",
      "('apAAtBAtBtBABAAtBB', 'apaatpatptpapaatpp') xxx apaatpatptpapaatobb\n",
      "('pBoBBAABtAABAABBAABB', 'ppoppooptoopooppoopp') xxx ppoppooptoopooppoobb\n",
      "('opBAABBAABABBABAABB', 'oppooppoopoppopoopp') xxx oppooppoopoppoboobb\n",
      "('tpoBAABABBAABtt', 'tpopoopoppooptt') xxx tpopoopoppoobtt\n",
      "('baABBABBAABBAABBABB', 'baabbabbaabbaabbabb') xxx baabbabboobboobbobb\n",
      "('btBoABBAABBABAA', 'btpooppooppopoo') xxx btpotppaappapaa\n",
      "('paBAAtAABAAtABt', 'papaataapaatapt') xxx papaataapaatopt\n",
      "('tpoBBtABtABBAABBtB', 'tpopptoptoppoopptp') xxx tpopptoptoppoopptpp\n",
      "('poBBAABAABtBABABA', 'poppoopooptpopopo') xxx poppoopooptpaa\n",
      "('ttpBaBBtAABBAAtA', 'ttppapptaappaata') xxx ttppabbtaappaata\n",
      "('taApAtBAABAtAABB', 'taapatpaapataapp') xxx taapataaappataapp\n",
      "('pBaBAAtAttABABABBAB', 'ppapaatattapapappap') xxx ppapaatattopopoppop\n",
      "('tpoABAABBAAtBBAABABA', 'tpoopooppootppoopopo') xxx tpoopooppootpboobobo\n",
      "('topAABtBABtAAtBBAA', 'topooptpoptootppoo') xxx topooptppaptaatppaa\n",
      "('obBAAttBAABBABB', 'obboottpooppopp') xxx obboottpooppobb\n",
      "('poBBAAtBABBABBAA', 'poppootpoppoppoo') xxx poppootpobbobboo\n",
      "('poAtBBAABBAABAABB', 'pootppooppoopoopp') xxx pootppoobbooboobb\n",
      "('toApBABAABAAtBBAB', 'tooppopoopootppop') xxx tooppopoopootppob\n",
      "('abtABBtBBABBAtBtABAA', 'abtapptppappatptapaa') xxx abtapptppappataoboo\n",
      "('obAAtBBAtABBAABAAtBB', 'obootppotoppoopootpp') xxx obootpbotoppoopootpp\n",
      "('tapABABBABBAtBA', 'tapapappappatpa') xxx tapapappappatao\n",
      "('poBBABBABBtBBABB', 'poppoppopptppopp') xxx poppoppopptobbabb\n",
      "('abBABABBAtAAtABBAt', 'abbababbataatappat') xxx abbababbatootoppot\n",
      "('boBBAABBAAtBBtAAttB', 'bobboobbootpptoottp') xxx bobboobbootopo\n",
      "('oApBABBttBBAABBtBBtB', 'ooppoppttppoopptpptp') xxx ooppoppttppoobbtpptp\n",
      "('pBoBBAAtABBABAB', 'ppoppootoppopop') xxx ppoppootoppobob\n",
      "('tpBtBBoBBABBAABA', 'tpptppoppoppoopo') xxx tpptppppobboobo\n",
      "('paABBAABAABAtBAABAAB', 'paappaapaapatpaapaap') xxx paappaapaapataaappaa\n",
      "('boBBABtAABBABtBBAAt', 'bobbobtooppoptppoot') xxx bobbobttotappaptppaat\n",
      "('bBaBBAABBAAtBttAAB', 'bbabbaabbaatpttaap') xxx bbabbaabbaatpttaa\n",
      "('baBBAtBAtBtAABABAAB', 'babbatpatptaapapaap') xxx babbatpataap\n",
      "('aAtpBAABBAtBBAtBBAAB', 'aatppaappatppatppaap') xxx aatppaappatppatpboob\n",
      "('poBAABBAABBAtAABBA', 'popooppooppotooppo') xxx popooppoobbotooppo\n",
      "('opAABBABBAABtBAA', 'opooppoppooptpoo') xxx opooppoppooptpaa\n",
      "('totpBAABAABAABtBB', 'totppoopoopooptpp') xxx totppoobooboobtpp\n",
      "('tpBaBAABBABBABtBBtAA', 'tppapaappappaptpptaa') xxx tppapaappappaptpptaap\n",
      "('tpoABAABAABBABAABBA', 'tpoopoopooppopooppo') xxx tpoopoopooppoboobbo\n",
      "('oApABABBABBABtBB', 'oopopoppoppoptpp') xxx oopopoppoppoptppp\n",
      "('pBaAtAAtttABtAABBAB', 'ppaataatttaptaappap') xxx ppaataapptaappap\n",
      "('opABtAtBBABABBtBBAB', 'opoptotppopopptppop') xxx opoptatppapapptppap\n",
      "('aAbBABAtBABBABBAAt', 'aabbabatpappappaat') xxx aabbabatapaaobobbobbooto\n",
      "('btBoBAABAABBAAB', 'btpopoopooppoop') xxx btpotaappaappaap\n",
      "('pBotABBABtBAABAABAA', 'ppotoppoptpoopoopoo') xxx ppotoppoptpaapaapaa\n",
      "('oApBAtBBAABAABA', 'ooppotppoopoopo') xxx ooppotppooboobo\n",
      "('paBtBBAABAtBBABAB', 'paptppaapatppapap') xxx paptppaapatpbobob\n",
      "('baBBtAABAABBABAABBA', 'babbtaapaappapaappa') xxx babbtapapppaappapaappa\n",
      "('aAbAttBAABABBAA', 'aabattpaapappaa') xxx aabataaapappaa\n",
      "('baBAABBABAABBtAAB', 'babaabbabaabbtaap') xxx babaabbabaabbtapappp\n",
      "('oAtpAABBAtBABBABA', 'ootpooppotpoppopo') xxx ootpooppotpobbobo\n",
      "('poBAABBABBABABAAt', 'popooppoppopopoot') xxx popooppobboboboot\n",
      "('oAbAABAAtBBABBABBA', 'ooboobootppoppoppo') xxx ooboobootpbobbobbo\n",
      "('aAbABBAABBtAABB', 'aababbaabbtaapp') xxx aababbaabbtaap\n",
      "('tatAApAAtAtBABA', 'tataapaatatpapa') xxx tataapaatatpobo\n",
      "('pBoAtBBABBABBAABBABB', 'ppootppoppoppooppopp') xxx ppootppobbobboobbobb\n",
      "('opBAABAABBABtAABAAB', 'oppoopooppoptoopoop') xxx oppoopooppobtoopoop\n",
      "('optBBABAABAABABABBAA', 'optppopoopoopopoppoo') xxx optpppapaapaapapappaa\n",
      "('bBttotBAABBAtBBAtAB', 'bbttotpooppotppotop') xxx bbttooppopaapppatppatap\n",
      "('bBaBBtABBAABABBABBAA', 'bbabbtappaapappappaa') xxx bbabbtappaapaabboo\n",
      "('pBaAtABABtBBAtAB', 'ppaatapaptppatap') xxx ppaatapaptppatop\n",
      "('pBaBABBAtAABAABttBB', 'ppapappataapaapttpp') xxx ppapappataapaapttp\n",
      "('btBoBAABtABBtAAtt', 'btpopooptopptoott') xxx btpotaapptapptaatt\n",
      "('boABABBABAAtAABt', 'boobobbobootoopt') xxx boobobbobootoapt\n",
      "('tpaBBABBAtBABBABttA', 'tpappappatpappaptta') xxx tpappappata\n",
      "('aAbBAABBABABBAABAA', 'aabbaabbababbaabaa') xxx aabbaabbabobbooboo\n",
      "('boABBAABBtABBtBBAB', 'boobboobbtopptppop') xxx boobboobbtopptppob\n",
      "('poBABAABABBABtAAtBBA', 'popopoopoppoptootppo') xxx popopoopoppoptaatppa\n",
      "('aAbBAAtBABBAtBt', 'aabbaatpappatpt') xxx aabbaatpappata\n",
      "('ttpBoBBABAABAABABAB', 'ttppoppopoopoopopop') xxx ttppopbobooboobobob\n",
      "('toApAAtBBAAtBBtBAA', 'toopootppootpptpoo') xxx toopootpbootpptpoo\n",
      "('tpBoABAtBBAABABA', 'tppoopotppoopopo') xxx tppoopotppoobobo\n",
      "('potBtBBABBABBAABB', 'potptppoppoppoopp') xxx potptpppappappaapp\n",
      "('baABBAABBAABBAABB', 'baabbaabbaabbaabb') xxx baabbaobboobboobb\n",
      "('batABBAAtBBABBAttAA', 'batappaatppappattaa') xxx batappaatppappataaa\n",
      "('oAbAtABBtAABBAtAB', 'oobotopptooppotop') xxx oobotoopobbtooppotop\n",
      "('obAABBABBtBAABBAABB', 'oboobbobbtpooppoopp') xxx oboobbobbtpooppoobb\n",
      "('obBAABAABBtBAtBABB', 'obbooboobbtpotpopp') xxx obbooboobbtpotpobb\n",
      "('pBaBAABABBABBAtBB', 'ppapaapappappatpp') xxx ppapaapappappatapo\n",
      "('paBAABABBAtBBAABBAA', 'papaapappatppaappaa') xxx papaapappatpboobboo\n",
      "('ttpoBBAAtBAABBAABB', 'ttpoppootpooppoopp') xxx ttpoppootpoobboobb\n",
      "('opBABAABABAABBAABBAA', 'oppopoopopooppooppoo') xxx oppopoopopooppoobboo\n",
      "('toApBABABABABAABBAB', 'tooppopopopopooppop') xxx tooppopopopopooppob\n",
      "('opAABBAABABBAABABA', 'opooppoopoppoopopo') xxx opooppoopoppoobobo\n",
      "('bBoABABAABtBBABBAB', 'bbooboboobtppoppop') xxx bbooboboobtbbobbob\n",
      "('patBAABtBABABBtBB', 'patpaaptpapapptpp') xxx patpaaptpapapptp\n",
      "('pBaBBABBAABBABBABBAt', 'ppappappaappappappat') xxx ppappappaappappappata\n",
      "('oAbBABABAABAAtBABB', 'oobboboboobootpopp') xxx oobboboboobooto\n",
      "('aApAtBAAtAABBAB', 'aapatpaataappap') xxx aapatbaataappap\n",
      "('apAABBABAABBAABAAtBB', 'apaappapaappaapaatpp') xxx apaappapaappaapaatobb\n",
      "('ttpBoBBABBABAABABA', 'ttppoppoppopoopopo') xxx ttppopbobboboobobo\n",
      "('optBBtBBtBABBAA', 'optpptpptpoppoo') xxx optppptpptpappaa\n",
      "('pBoABBAAtttBBABBAAB', 'ppooppootttppoppoop') xxx ppooppootttpbobboob\n",
      "('pBoBABAAtBAABAA', 'ppopopootpoopoo') xxx ppopopootpooboo\n",
      "('optBABBAABttBBABtBBt', 'optpoppoopttppoptppt') xxx optppappaapttppaptppt\n",
      "('tpBatAABABBAABAABAAt', 'tppataapappaapaapaat') xxx tppataapappaapaapaato\n",
      "('paABBtBAABABAAt', 'paapptpaapapaat') xxx paapptpaapapaato\n",
      "('ttaApBAABAtABABB', 'ttaappaapatapapp') xxx ttaappaapatopopp\n",
      "('poBAABAABBtAAtBBA', 'popoopoopptootppo') xxx popoopoopptootpbo\n",
      "('baBBABABBAABAABBA', 'babbababbaabaabba') xxx babbababbooboobbo\n",
      "('totpABAABBABAAtAABA', 'totpopooppopootoopo') xxx totaappapaataapa\n",
      "('ottApABBAtBBttBABBAB', 'ottopoppotppttpoppop') xxx ottopoppotpbttpoppop\n",
      "('opBABBAABBAABBABAABB', 'oppoppooppooppopoopp') xxx oppoppooppoobboboobb\n",
      "('apBAABAtAABtABB', 'appaapataaptapp') xxx appaapatooptopp\n",
      "('opBABAABBtBBAABBtA', 'oppopoopptppooppto') xxx oppopoopptobbaabbta\n",
      "('opAtBABBAABBAABBAB', 'opotpoppooppooppop') xxx opotpoppooppoobbob\n",
      "('baABBABBAABBABBABt', 'baabbabbaabbabbabt') xxx baabbabboobbobbobt\n",
      "('apBtAtBtBABBAABtBAB', 'apptatptpappaaptpap') xxx apptatabobboobtpop\n",
      "('btatABABABAtAABAAB', 'btatapapapataapaap') xxx btatapapapatoopoop\n",
      "('opAABBAABABBABBAABAB', 'opooppoopoppoppoopop') xxx opooppoopoppobboobob\n",
      "('pBttBBoABBAABABBA', 'ppttppooppoopoppo') xxx ppttppoppoopoppo\n",
      "('paABBAtBBAtABtBBt', 'paappatppataptppt') xxx paappatppatoptppt\n",
      "('tpBatBAABAAtBAAt', 'tppatpaapaatpaat') xxx tppatpaapaatobaat\n",
      "('oAbBAtBBAABBAABAABAA', 'oobbotppooppoopoopoo') xxx oobbotpboobboobooboo\n",
      "('oApAtBBABBABAtAtBAA', 'oopotppoppopototpoo') xxx oopotpbobbobototpoo\n",
      "('baBAAttBttABBAA', 'babaattpttappaa') xxx babaattpttoppoo\n",
      "('btBttBBatBAABAABBAAB', 'btpttppatpaapaappaap') xxx btpttpptpaapaappaa\n",
      "('oApAABBAtBABBAABBAt', 'oopooppotpoppooppot') xxx oopooppotpobboobbot\n",
      "('aAbBAABBABBAABBAA', 'aabbaabbabbaabbaa') xxx aabbaabbabboobboo\n",
      "('oAbBAABBtBBABAtBB', 'oobboobbtppopotpp') xxx oobboobbtppobotpp\n",
      "('boABAABABBABtBA', 'booboobobbobtpo') xxx booboobobbobttoto\n",
      "('poABBtBBAABAABBABBAA', 'poopptppoopooppoppoo') xxx poopptppoopooppobboo\n",
      "('poBAABBAABABAtBAABA', 'popooppoopopotpoopo') xxx popooppoobobotpoopo\n",
      "('obAABAABAAtttBAABB', 'obooboobootttpoopp') xxx obooboobootoaapp\n",
      "('opAABBtBABABtAtBAAB', 'opoopptpopoptotpoop') xxx opoopptppapaptataaapp\n",
      "('oAptBtAABAABAABABB', 'ooptptoopoopoopopp') xxx ooptptaapaapaapapp\n",
      "('optBBtAtABBAAtA', 'optpptotoppooto') xxx optppptatappaata\n",
      "('paABBtBAAttAABAAtBAA', 'paapptpaattaapaatpaa') xxx paapptpaattaapaatobaa\n",
      "('apBtABBAtBBAABttAABB', 'apptappatppaapttaapp') xxx apptappatapoapttaapp\n",
      "('paABBABAABABAAtBB', 'paappapaapapaatpp') xxx paappapaapapaatobb\n",
      "('oAbAtBBAABAAttBtABBA', 'oobotppoopoottptoppo') xxx oobotoopbbooboototappa\n",
      "('pBaABABBAAtAtAABB', 'ppaapappaatataapp') xxx ppaapappaatatoopp\n",
      "('pBoBABttBBtBBABA', 'ppopopttpptppopo') xxx ppopopttpptobbaba\n",
      "('tpaABAAttBABtABBAAB', 'tpaapaattpaptappaap') xxx tpaapaatotpaptappaap\n",
      "('boAtAttAABBtBABA', 'bootottoopptpopo') xxx bootottoopptobaba\n",
      "('pBoBttBttABBAABAABB', 'ppopttpttoppoopoopp') xxx ppopttpttoppooboobb\n",
      "('poBBtBAABAtBBAAB', 'popptpoopotppoop') xxx popptpoopotppoob\n",
      "('oApAABtBAABABABAB', 'oopooptpoopopopop') xxx oopooptpaapapapap\n",
      "('aApABBAAtAtAABBAB', 'aapappaatataappap') xxx aapappaatatooppop\n",
      "('aApAtBAABBAABBA', 'aapatpaappaappa') xxx aapatbaabbaabba\n",
      "('abBABAABBAABAABAA', 'abbabaabbaabaabaa') xxx abbabaappaapaapaa\n",
      "('tpBaBBABBABAABABtAt', 'tppappappapaapaptat') xxx tppappappapaapaptata\n",
      "Score: 79.60000000000001%\n"
     ]
    }
   ],
   "source": [
    "test_77 = []\n",
    "for i in range(1000):\n",
    "    test_77.extend(h.generate_pairs(n = 1, length = randint(15, 20)))\n",
    "test_fst_special(o7, test_77)\n",
    "\n",
    "# Score: 87.3%"
   ]
  },
  {
   "cell_type": "markdown",
   "metadata": {},
   "source": [
    "## Dataset 8: unbounded  tone plateauing"
   ]
  },
  {
   "cell_type": "code",
   "execution_count": 152,
   "metadata": {},
   "outputs": [
    {
     "name": "stdout",
     "output_type": "stream",
     "text": [
      "[('LHHHHL', 'LHHHHL'), ('L', 'L'), ('LHLLH', 'LHHHH'), ('HHLHHL', 'HHHHHL'), ('HLHHH', 'HHHHH'), ('HLL', 'HLL'), ('LH', 'LH'), ('HHLHLH', 'HHHHHH'), ('L', 'L'), ('LLH', 'LLH'), ('L', 'L'), ('LH', 'LH'), ('L', 'L'), ('HHHHH', 'HHHHH'), ('LLLH', 'LLLH')]\n"
     ]
    }
   ],
   "source": [
    "data_8 = []\n",
    "for i in range(5000):\n",
    "    data_8.extend(generate_utp_pairs(n = 1, length = randint(1, 6)))\n",
    "    \n",
    "test_8 = []\n",
    "for i in range(1000):\n",
    "    test_8.extend(generate_utp_pairs(n = 1, length = randint(1, 6)))\n",
    "    \n",
    "    \n",
    "sigma8 = [\"H\", \"L\"]\n",
    "gamma8 = [\"H\", \"L\"]\n",
    "    \n",
    "    \n",
    "print(data_8[:15])"
   ]
  },
  {
   "cell_type": "code",
   "execution_count": 151,
   "metadata": {},
   "outputs": [
    {
     "name": "stdout",
     "output_type": "stream",
     "text": [
      "Score: 100.0%\n"
     ]
    }
   ],
   "source": [
    "o8 = ostia(data_8, sigma8, gamma8)\n",
    "test_fst(o8, test_8)"
   ]
  },
  {
   "cell_type": "code",
   "execution_count": 73,
   "metadata": {},
   "outputs": [
    {
     "data": {
      "text/plain": [
       "12"
      ]
     },
     "execution_count": 73,
     "metadata": {},
     "output_type": "execute_result"
    }
   ],
   "source": [
    "len(o8.E)"
   ]
  },
  {
   "cell_type": "code",
   "execution_count": 79,
   "metadata": {},
   "outputs": [
    {
     "data": {
      "text/plain": [
       "[['', 'L', 'L', ''],\n",
       " ['', 'H', 'H', 'H'],\n",
       " ['H', 'H', 'H', 'H'],\n",
       " ['H', 'L', '', 'HL'],\n",
       " ['HL', 'L', '', 'HLL'],\n",
       " ['HLL', 'L', '', 'HLLL'],\n",
       " ['HL', 'H', 'HH', 'H'],\n",
       " ['HLLL', 'H', 'HHHH', ''],\n",
       " ['HLL', 'H', 'HHH', 'H'],\n",
       " ['HLLL', 'L', '', 'HLLLL'],\n",
       " ['HLLLL', 'L', 'LLLLL', ''],\n",
       " ['HLLLL', 'H', 'HHHHH', '']]"
      ]
     },
     "execution_count": 79,
     "metadata": {},
     "output_type": "execute_result"
    }
   ],
   "source": [
    "o8.E"
   ]
  },
  {
   "cell_type": "code",
   "execution_count": 74,
   "metadata": {},
   "outputs": [
    {
     "data": {
      "text/plain": [
       "6"
      ]
     },
     "execution_count": 74,
     "metadata": {},
     "output_type": "execute_result"
    }
   ],
   "source": [
    "len(o8.stout)"
   ]
  },
  {
   "cell_type": "code",
   "execution_count": 153,
   "metadata": {},
   "outputs": [
    {
     "name": "stdout",
     "output_type": "stream",
     "text": [
      "('HLLLLHHLHHLLLLLHLL', 'HHHHHHHHHHHHHHHHLL') xxx HHHHHHHHHHLLLLLHLL\n",
      "('HHLHLLLLLLHHLHHLLHH', 'HHHHHHHHHHHHHHHHHHH') xxx HHHHLLLLLLHHHHHHHHH\n",
      "('HHLLLHLLHHHLLLHLHLLH', 'HHHHHHHHHHHHHHHHHHHH') xxx HHHHHHLLHHHHHHHLHHHH\n",
      "('LLHLLLLHLLLHHLHLHLLH', 'LLHHHHHHHHHHHHHHHHHH') xxx LLHHHHHHLLLHHHHHHHHH\n",
      "('LHLLLHHHLLLHLHL', 'LHHHHHHHHHHHHHL') xxx LHHHHHHHHHHHLHL\n",
      "('LHHHHLLHHLLLLLHLHLHL', 'LHHHHHHHHHHHHHHHHHHL') xxx LHHHHHHHHLLLLLHHHHHL\n",
      "('LLLHHHHLHHLLLLLHLHL', 'LLLHHHHHHHHHHHHHHHL') xxx LLLHHHHHHHLLLLLHHHL\n",
      "('LHLLHHLHLLLLLLH', 'LHHHHHHHHHHHHHH') xxx LHHHHHHHLLLLLLH\n",
      "('HLHLLLHLHLHLLLLHL', 'HHHHHHHHHHHHHHHHL') xxx HHHHHHHLHHHHHHHHL\n",
      "('LLHHLHLHHLLLHLLLLH', 'LLHHHHHHHHHHHHHHHH') xxx LLHHHHHHHHHHHLLLLH\n",
      "('HHHLLLHLHHLHLLLLL', 'HHHHHHHHHHHHLLLLL') xxx HHHHHHHLHHHHLLLLL\n",
      "('HLLLHLLLHHHHHHLHL', 'HHHHHHHHHHHHHHHHL') xxx HHHHHLLLHHHHHHHHL\n",
      "('LLLHLLLLLHHHLLLH', 'LLLHHHHHHHHHHHHH') xxx LLLHLLLLLHHHHHHH\n",
      "('LLHHLHHLLHHHLLLLLHHL', 'LLHHHHHHHHHHHHHHHHHL') xxx LLHHHHHHHHHHLLLLLHHL\n",
      "('LHLLLLLHLHLHHHLLHH', 'LHHHHHHHHHHHHHHHHH') xxx LHLLLLLHHHHHHHHHHH\n",
      "('LHHHHHHHLHLLLLLH', 'LHHHHHHHHHHHHHHH') xxx LHHHHHHHHHLLLLLH\n",
      "('LLLLHLLLLLHLLHH', 'LLLLHHHHHHHHHHH') xxx LLLLHLLLLLHHHHH\n",
      "('HLLLLLHHHLHLHHLLLLH', 'HHHHHHHHHHHHHHHHHHH') xxx HLLLLLHHHHHHHHHHHHH\n",
      "('LLHLLHHHHLLLLHLHHL', 'LLHHHHHHHHHHHHHHHL') xxx LLHHHHHHHHHHHHLHHL\n",
      "('LHHLLLLHLLLHLLHL', 'LHHHHHHHHHHHHHHL') xxx LHHHHHHHLLLHHHHL\n",
      "('LLLLLHHLLLHLHLH', 'LLLLLHHHHHHHHHH') xxx LLLLLHHHHHHLHHH\n",
      "('HLLHLLHHHLLLLLLHHLLH', 'HHHHHHHHHHHHHHHHHHHH') xxx HHHHHHHHHLLLLLLHHHHH\n",
      "('HHLLLLLHHHLLLHLHHHHH', 'HHHHHHHHHHHHHHHHHHHH') xxx HHLLLLLHHHHHHHLHHHHH\n",
      "('HLLLHLHHLHLLLHLHLHLH', 'HHHHHHHHHHHHHHHHHHHH') xxx HHHHHLHHHHHHHHLHHHHH\n",
      "('HLHLHLHLHLLLLLHH', 'HHHHHHHHHHHHHHHH') xxx HHHHHHHHHLLLLLHH\n",
      "('LHLLLLLLLHHHLLH', 'LHHHHHHHHHHHHHH') xxx LHLLLLLLLHHHHHH\n",
      "('HLLLHLLLLHHHLLLLHHL', 'HHHHHHHHHHHHHHHHHHL') xxx HHHHHLLLLHHHHHHHHHL\n",
      "('HHLHLLLHLHLHLHHH', 'HHHHHHHHHHHHHHHH') xxx HHHHHHHHLHHHHHHH\n",
      "('LLLHLLLHLHLLHLLL', 'LLLHHHHHHHHHHLLL') xxx LLLHHHHHLHHHHLLL\n",
      "('HHLHLLHLLLHLLLHLL', 'HHHHHHHHHHHHHHHLL') xxx HHHHHHHHHHHLLLHLL\n",
      "('LLHLLLLLLLLLHHHHLL', 'LLHHHHHHHHHHHHHHLL') xxx LLHLLLLLLLLLHHHHLL\n",
      "('HLHLHHLLLHLLHHHHLLLH', 'HHHHHHHHHHHHHHHHHHHH') xxx HHHHHHHHHHLLHHHHHHHH\n",
      "('HLLHLLLHLHHLHHLLLHH', 'HHHHHHHHHHHHHHHHHHH') xxx HHHHHHHHLHHHHHHHHHH\n",
      "('LLHLLLHLHHHHLHLHHH', 'LLHHHHHHHHHHHHHHHH') xxx LLHHHHHLHHHHHHHHHH\n",
      "('LLHHLLLHLLLHHHLLHHH', 'LLHHHHHHHHHHHHHHHHH') xxx LLHHHHHHLLLHHHHHHHH\n",
      "('LHHHHHHHHLLLHLLHL', 'LHHHHHHHHHHHHHHHL') xxx LHHHHHHHHHHHHLLHL\n",
      "('LHLLLLLHLLHLLHHHHH', 'LHHHHHHHHHHHHHHHHH') xxx LHLLLLLHHHHHHHHHHH\n",
      "('LHLHLHLHLLLHLHHL', 'LHHHHHHHHHHHHHHL') xxx LHHHHHHHHHHHLHHL\n",
      "('HHLLLLHLHLHHLHHL', 'HHHHHHHHHHHHHHHL') xxx HHHHHHHLHHHHHHHL\n",
      "('LHLLLHLHHHLLHLH', 'LHHHHHHHHHHHHHH') xxx LHHHHHLHHHHHHHH\n",
      "('LHLLLLLHLLLHHLHH', 'LHHHHHHHHHHHHHHH') xxx LHLLLLLHHHHHHHHH\n",
      "('HLHLLLHLHLHHHHLLHLH', 'HHHHHHHHHHHHHHHHHHH') xxx HHHHHHHLHHHHHHHHHHH\n",
      "('HLLLLHLLLLHLLLLHLL', 'HHHHHHHHHHHHHHHHLL') xxx HHHHHHLLLLHHHHHHLL\n",
      "('LHLLLHLHLLLLLLHLHLHL', 'LHHHHHHHHHHHHHHHHHHL') xxx LHHHHHLHLLLLLLHHHHHL\n",
      "('HLLLHLHLHLHLHLLHLL', 'HHHHHHHHHHHHHHHHLL') xxx HHHHHLHHHHHHHHHHLL\n",
      "('HHLHHLLLHLLHLLHHL', 'HHHHHHHHHHHHHHHHL') xxx HHHHHHHHHLLHHHHHL\n",
      "('LHHHHLHLLLHLLLHL', 'LHHHHHHHHHHHHHHL') xxx LHHHHHHHHHHLLLHL\n",
      "('LLHHLHHHHLLLLLHHHHH', 'LLHHHHHHHHHHHHHHHHH') xxx LLHHHHHHHLLLLLHHHHH\n",
      "('LHHLLHLLLHLLLLHLLLH', 'LHHHHHHHHHHHHHHHHHH') xxx LHHHHHHHHHLLLLHHHHH\n",
      "('HLHLLHHLHHLLLLLHHHLH', 'HHHHHHHHHHHHHHHHHHHH') xxx HHHHHHHHHHLLLLLHHHHH\n",
      "('HLHLLLLHLLLLLLHL', 'HHHHHHHHHHHHHHHL') xxx HHHHHHHHLLLLLLHL\n",
      "('HHHLLLHLHHLHLLLHHH', 'HHHHHHHHHHHHHHHHHH') xxx HHHHHHHLHHHHHHHHHH\n",
      "('HHHHHLLLLHLHHHLLLLH', 'HHHHHHHHHHHHHHHHHHH') xxx HHHHHHHHHHLHHHHHHHH\n",
      "('LLLHHHLLLLLLHLLL', 'LLLHHHHHHHHHHLLL') xxx LLLHHHLLLLLLHLLL\n",
      "('HLLLHLHHLHHLHLHHLLL', 'HHHHHHHHHHHHHHHHLLL') xxx HHHHHLHHHHHHHHHHLLL\n",
      "('LLHLLLLLLHHLHLH', 'LLHHHHHHHHHHHHH') xxx LLHLLLLLLHHHHHH\n",
      "('LHLLLLLHLLHLHLHHLHHH', 'LHHHHHHHHHHHHHHHHHHH') xxx LHLLLLLHHHHHHHHHHHHH\n",
      "('LHHLLLLLHLLLHLLH', 'LHHHHHHHHHHHHHHH') xxx LHHLLLLLHHHHHLLH\n",
      "('LLHHLHHLLLLHLLHHHH', 'LLHHHHHHHHHHHHHHHH') xxx LLHHHHHHHHHHLLHHHH\n",
      "('LHLLHLHHLHHHLLLLLH', 'LHHHHHHHHHHHHHHHHH') xxx LHHHHHHHHHHHLLLLLH\n",
      "('HHLLLLLLHLLHHHHH', 'HHHHHHHHHHHHHHHH') xxx HHLLLLLLHHHHHHHH\n",
      "('HLHLLLLLLLLLHLHL', 'HHHHHHHHHHHHHHHL') xxx HHHLLLLLLLLLHHHL\n",
      "('LLHHLHHLLLLLHLLHH', 'LLHHHHHHHHHHHHHHH') xxx LLHHHHHLLLLLHHHHH\n",
      "('LHHLHHLLHLLLLLLHLH', 'LHHHHHHHHHHHHHHHHH') xxx LHHHHHHHHLLLLLLHHH\n",
      "('LLHLLLLLLLLLHHLH', 'LLHHHHHHHHHHHHHH') xxx LLHLLLLLLLLLHHHH\n",
      "('LHHHHHLLHLLLLHLLHH', 'LHHHHHHHHHHHHHHHHH') xxx LHHHHHHHHHHHHHLLHH\n",
      "('LHHHLHLLLHLHHLLLLHLL', 'LHHHHHHHHHHHHHHHHHLL') xxx LHHHHHHHHHLHHHHHHHLL\n",
      "('LHLHLLLHHHHHHLLLHLHH', 'LHHHHHHHHHHHHHHHHHHH') xxx LHHHHHHHHHHHHHHHHLHH\n",
      "('HHLLLLLLHLHHHLL', 'HHHHHHHHHHHHHLL') xxx HHLLLLLLHHHHHLL\n",
      "('HLHHLLLHLLHHLLLHL', 'HHHHHHHHHHHHHHHHL') xxx HHHHHHHHLLHHHHHHL\n",
      "('HHHHHLLLLLLLHLHLH', 'HHHHHHHHHHHHHHHHH') xxx HHHHHLLLLLLLHHHHH\n",
      "('HLLHLLHHLLLHLLLHLH', 'HHHHHHHHHHHHHHHHHH') xxx HHHHHHHHHHHHLLLHHH\n",
      "('HHHLLLLHLHLLHHLLLH', 'HHHHHHHHHHHHHHHHHH') xxx HHHHHHHHLHHHHHHHHH\n",
      "('HLHLHHLHHLLLLLHLH', 'HHHHHHHHHHHHHHHHH') xxx HHHHHHHHHLLLLLHHH\n",
      "('HLLHLLLLHLLHLHH', 'HHHHHHHHHHHHHHH') xxx HHHHHHHHHLLHHHH\n",
      "('HHHLLHLHLLLLLLLLLHL', 'HHHHHHHHHHHHHHHHHHL') xxx HHHHHHHHLLLLLLLLLHL\n",
      "('LHLHLLLLLLLLHHHHHLH', 'LHHHHHHHHHHHHHHHHHH') xxx LHHHLLLLLLLLHHHHHHH\n",
      "('HHLLLLLLLLLHLLLLH', 'HHHHHHHHHHHHHHHHH') xxx HHLLLLLLLLLHHHHHH\n",
      "('LLHHLLLLLLLHHLLHH', 'LLHHHHHHHHHHHHHHH') xxx LLHHLLLLLLLHHHHHH\n",
      "('LLHHLLLLHLLLLHHHHH', 'LLHHHHHHHHHHHHHHHH') xxx LLHHHHHHHLLLLHHHHH\n",
      "('LLLHLLLLHLLHLLH', 'LLLHHHHHHHHHHHH') xxx LLLHHHHHHLLHHHH\n",
      "('HHLLLLHLLHLLHHLL', 'HHHHHHHHHHHHHHLL') xxx HHHHHHHLLHHHHHLL\n",
      "('HLLLHLLLLLLHHHHH', 'HHHHHHHHHHHHHHHH') xxx HHHHHLLLLLLHHHHH\n",
      "('LHLHHLHHLLLLLHLHHHLH', 'LHHHHHHHHHHHHHHHHHHH') xxx LHHHHHHHLLLLLHHHHHHH\n",
      "('HLLLHLLLLHLLHHHLHHL', 'HHHHHHHHHHHHHHHHHHL') xxx HHHHHLLLLHHHHHHHHHL\n",
      "('LLLLLLHLHHLHHLLLLLLH', 'LLLLLLHHHHHHHHHHHHHH') xxx LLLLLLHHHHHHHLLLLLLH\n",
      "('LHHLLLLLHHLLHLLHHLHL', 'LHHHHHHHHHHHHHHHHHHL') xxx LHHLLLLLHHHHHHHHHHHL\n",
      "('LHLHLLLHLHLLHLHHLHL', 'LHHHHHHHHHHHHHHHHHL') xxx LHHHHHHHLHHHHHHHHHL\n",
      "('HHLLLHLHLHLLHLLLL', 'HHHHHHHHHHHHHLLLL') xxx HHHHHHLHHHHHHLLLL\n",
      "('LHLLLLLHHHLLLLL', 'LHHHHHHHHHLLLLL') xxx LHLLLLLHHHLLLLL\n",
      "('LHHHHHHLLLHLHLHL', 'LHHHHHHHHHHHHHHL') xxx LHHHHHHHHHHLHHHL\n",
      "('HHLLLHHHLLLLLHLL', 'HHHHHHHHHHHHHHLL') xxx HHHHHHHHLLLLLHLL\n",
      "('LLHLLLHLLLHLHHHLHLLL', 'LLHHHHHHHHHHHHHHHLLL') xxx LLHHHHHLLLHHHHHHHLLL\n",
      "('HHLLLLLHLHLLHLH', 'HHHHHHHHHHHHHHH') xxx HHLLLLLHHHHHHHH\n",
      "('LHHHLHHLLLHHHHLLLLLH', 'LHHHHHHHHHHHHHHHHHHH') xxx LHHHHHHHHHHHHHLLLLLH\n",
      "('LLLHLLLLHLLHLHLLHHH', 'LLLHHHHHHHHHHHHHHHH') xxx LLLHHHHHHLLHHHHHHHH\n",
      "('LHLHHLHLLLLHLHHLH', 'LHHHHHHHHHHHHHHHH') xxx LHHHHHHHHHHHLHHHH\n",
      "('LLLHLHHHLLHLLLLLHLLH', 'LLLHHHHHHHHHHHHHHHHH') xxx LLLHHHHHHHHLLLLLHHHH\n",
      "('HHHHHLHLLLLLHLHH', 'HHHHHHHHHHHHHHHH') xxx HHHHHHHLLLLLHHHH\n",
      "('HLHLLLHLHLLHLLH', 'HHHHHHHHHHHHHHH') xxx HHHHHHHLHHHHHHH\n",
      "('HHLLLHLHLHLLHLLL', 'HHHHHHHHHHHHHLLL') xxx HHHHHHLHHHHHHLLL\n",
      "('HHLLLHLHLLLHHHLLHH', 'HHHHHHHHHHHHHHHHHH') xxx HHHHHHLHHHHHHHHHHH\n",
      "('HHLLLHHLLHLLLLHLHL', 'HHHHHHHHHHHHHHHHHL') xxx HHHHHHHHHHHHHHHLHL\n",
      "('HHLLLLLLHHHHLHHHLLH', 'HHHHHHHHHHHHHHHHHHH') xxx HHLLLLLLHHHHHHHHHHH\n",
      "('LHLLLLHLHLHLHHHLL', 'LHHHHHHHHHHHHHHLL') xxx LHHHHHHLHHHHHHHLL\n",
      "('HLHHLHLLLLLHLHHL', 'HHHHHHHHHHHHHHHL') xxx HHHHHHLLLLLHHHHL\n",
      "('HLLLHLLLHHLLHHHH', 'HHHHHHHHHHHHHHHH') xxx HHHHHLLLHHHHHHHH\n",
      "('LHHHLLHLHLHHLLLLLHH', 'LHHHHHHHHHHHHHHHHHH') xxx LHHHHHHHHHHHLLLLLHH\n",
      "('HLHHLHLLLHLHHHLLHHH', 'HHHHHHHHHHHHHHHHHHH') xxx HHHHHHHHHHLHHHHHHHH\n",
      "('LHHHHHLLHLHLLLLHLH', 'LHHHHHHHHHHHHHHHHH') xxx LHHHHHHHHHHHHHHHLH\n",
      "('LLLHHLHLLLLLLHLLHL', 'LLLHHHHHHHHHHHHHHL') xxx LLLHHHHLLLLLLHHHHL\n",
      "('HLLHHLLLHLLHHHH', 'HHHHHHHHHHHHHHH') xxx HHHHHHHHHLLHHHH\n",
      "('HHHLHHHLHLLLLLLHHHL', 'HHHHHHHHHHHHHHHHHHL') xxx HHHHHHHHHLLLLLLHHHL\n",
      "('HLLLHLHLLLLLHLLL', 'HHHHHHHHHHHHHLLL') xxx HHHHHLHLLLLLHLLL\n",
      "('HLHLLHLHHLLLLLH', 'HHHHHHHHHHHHHHH') xxx HHHHHHHHHLLLLLH\n",
      "('LLLLLHHLLLHLHHHHHHH', 'LLLLLHHHHHHHHHHHHHH') xxx LLLLLHHHHHHLHHHHHHH\n",
      "('LHHLLLHLHHHLLHLLLH', 'LHHHHHHHHHHHHHHHHH') xxx LHHHHHHLHHHHHHHHHH\n",
      "('LHHHLLLHHLLLLLLLHLL', 'LHHHHHHHHHHHHHHHHLL') xxx LHHHHHHHHLLLLLLLHLL\n",
      "('HLLLHLLHLHHLLLH', 'HHHHHHHHHHHHHHH') xxx HHHHHLLHHHHHHHH\n",
      "('HLHLLLLLLLHHLLLLHHLL', 'HHHHHHHHHHHHHHHHHHLL') xxx HHHLLLLLLLHHHHHHHHLL\n",
      "('LHLLLHLLLLHLHHLLLL', 'LHHHHHHHHHHHHHLLLL') xxx LHHHHHLLLLHHHHLLLL\n",
      "('HHLHHLLHHHLLLHLHLL', 'HHHHHHHHHHHHHHHHLL') xxx HHHHHHHHHHHHHHLHLL\n",
      "('LHHLHLLLHLHLLLLHH', 'LHHHHHHHHHHHHHHHH') xxx LHHHHHHHHLHHHHHHH\n",
      "('LLLLLHHHHLLHLLLLLHLL', 'LLLLLHHHHHHHHHHHHHLL') xxx LLLLLHHHHHHHLLLLLHLL\n",
      "('LLLHHLLLHLHHHLLLLLL', 'LLLHHHHHHHHHHLLLLLL') xxx LLLHHHHHHLHHHLLLLLL\n",
      "('HLHHHLHLLLHLLHLLHLL', 'HHHHHHHHHHHHHHHHHLL') xxx HHHHHHHHHHHLLHHHHLL\n",
      "('HHHHHHHLLLLHLHLLL', 'HHHHHHHHHHHHHHLLL') xxx HHHHHHHHHHHHLHLLL\n",
      "('LLHHHHLHLLLHLHH', 'LLHHHHHHHHHHHHH') xxx LLHHHHHHHHHHLHH\n",
      "('HLHLLLHLLLHHLHLLLH', 'HHHHHHHHHHHHHHHHHH') xxx HHHHHHHLLLHHHHHHHH\n",
      "('HHLLHHHHHLLLLHLHLL', 'HHHHHHHHHHHHHHHHLL') xxx HHHHHHHHHHHHHHLHLL\n",
      "('LHLLLLLLHLLHLHHH', 'LHHHHHHHHHHHHHHH') xxx LHLLLLLLHHHHHHHH\n",
      "('HHLHHLLLLLHLHHLHH', 'HHHHHHHHHHHHHHHHH') xxx HHHHHLLLLLHHHHHHH\n",
      "('LHLHHLLLLLLHHLL', 'LHHHHHHHHHHHHLL') xxx LHHHHLLLLLLHHLL\n",
      "('LLHHLLHLLLHLHLHL', 'LLHHHHHHHHHHHHHL') xxx LLHHHHHHHHHLHHHL\n",
      "('LHLLHLHLHLLLLHLHLLLH', 'LHHHHHHHHHHHHHHHHHHH') xxx LHHHHHHHHHHHHHLHHHHH\n",
      "('LLHLHLHHHLLLLHLHL', 'LLHHHHHHHHHHHHHHL') xxx LLHHHHHHHHHHHHLHL\n",
      "('HHHHLLLLLHHLHHL', 'HHHHHHHHHHHHHHL') xxx HHHHLLLLLHHHHHL\n",
      "('HLLHHHLHLLLHLHHHLL', 'HHHHHHHHHHHHHHHHLL') xxx HHHHHHHHHHHHLHHHLL\n",
      "('LHLLLHLHLLHHLLL', 'LHHHHHHHHHHHLLL') xxx LHHHHHLHHHHHLLL\n",
      "('LHHLLHLLHHHHHLLLHLLH', 'LHHHHHHHHHHHHHHHHHHH') xxx LHHHHHHHHHHHHHHHHLLH\n",
      "('HHHHLLLHLLHHLLHHLHL', 'HHHHHHHHHHHHHHHHHHL') xxx HHHHHHHHLLHHHHHHHHL\n",
      "('HLLLHLHHHLLLLLL', 'HHHHHHHHHLLLLLL') xxx HHHHHLHHHLLLLLL\n",
      "('LLHLHLLHLLLLHLLHLLHL', 'LLHHHHHHHHHHHHHHHHHL') xxx LLHHHHHHHHHHHLLHHHHL\n",
      "('LHHHLLLLHLHLHLLLLLL', 'LHHHHHHHHHHHHLLLLLL') xxx LHHHHHHHHLHHHLLLLLL\n",
      "('HHHHLHLLHLLLLLHHLLLH', 'HHHHHHHHHHHHHHHHHHHH') xxx HHHHHHHHHLLLLLHHHHHH\n",
      "('LHLHLHLHLLLLHLH', 'LHHHHHHHHHHHHHH') xxx LHHHHHHHHHHHHLH\n",
      "('HLHLLLLHLHLHHLLL', 'HHHHHHHHHHHHHLLL') xxx HHHHHHHHLHHHHLLL\n",
      "('HHLLHLHLLLLHLHH', 'HHHHHHHHHHHHHHH') xxx HHHHHHHHHHHHLHH\n",
      "('HLLHLLLLLHLHLHH', 'HHHHHHHHHHHHHHH') xxx HHHHLLLLLHHHHHH\n",
      "('HLLHHLLHLHHLLLLHLHHL', 'HHHHHHHHHHHHHHHHHHHL') xxx HHHHHHHHHHHHHHHHLHHL\n",
      "('HLLLLHLHHLHLHLLHHLHL', 'HHHHHHHHHHHHHHHHHHHL') xxx HHHHHHLHHHHHHHHHHHHL\n",
      "('LHLHLLLHLLHLLLHHHHHH', 'LHHHHHHHHHHHHHHHHHHH') xxx LHHHHHHHLLHHHHHHHHHH\n",
      "('LLLHHHLLLLHLLHLHLHL', 'LLLHHHHHHHHHHHHHHHL') xxx LLLHHHHHHHHLLHHHHHL\n",
      "('LHHHLLLHLHLLHHL', 'LHHHHHHHHHHHHHL') xxx LHHHHHHHLHHHHHL\n",
      "('HLLLLLLLHLLLLHLLLLL', 'HHHHHHHHHHHHHHLLLLL') xxx HLLLLLLLHHHHHHLLLLL\n",
      "('HHHHLHLHLHLLLHLHLHL', 'HHHHHHHHHHHHHHHHHHL') xxx HHHHHHHHHHHHHHLHHHL\n",
      "('LHHLLLLHLHHLLLHLLLH', 'LHHHHHHHHHHHHHHHHHH') xxx LHHHHHHHLHHHHHHLLLH\n",
      "('LHLLHHLLLLHLHLLHH', 'LHHHHHHHHHHHHHHHH') xxx LHHHHHHHHHHLHHHHH\n",
      "('LHLLLLHHLHLHLLLHLH', 'LHHHHHHHHHHHHHHHHH') xxx LHHHHHHHHHHHHHHHLH\n",
      "('LLLHLLLHLLHHHHH', 'LLLHHHHHHHHHHHH') xxx LLLHHHHHLLHHHHH\n",
      "('LHHHHHHLLLLLHHHHHHL', 'LHHHHHHHHHHHHHHHHHL') xxx LHHHHHHLLLLLHHHHHHL\n",
      "('LLHHLLLHLLHLLLLLH', 'LLHHHHHHHHHHHHHHH') xxx LLHHHHHHLLHLLLLLH\n",
      "('HLLLLHLLLHLLLLHH', 'HHHHHHHHHHHHHHHH') xxx HHHHHHLLLHHHHHHH\n",
      "('HHLHHLLLLLHHHHHLHLHL', 'HHHHHHHHHHHHHHHHHHHL') xxx HHHHHLLLLLHHHHHHHHHL\n",
      "('LLHLLLHHLLLLHLLHHH', 'LLHHHHHHHHHHHHHHHH') xxx LLHHHHHHHHHHHLLHHH\n",
      "('HLLLHHHHLLLLLHHLHLH', 'HHHHHHHHHHHHHHHHHHH') xxx HHHHHHHHLLLLLHHHHHH\n",
      "('HHHHHHLLLHLHLHLHLLHL', 'HHHHHHHHHHHHHHHHHHHL') xxx HHHHHHHHHHLHHHHHHHHL\n",
      "('LHHLLLLLHHLHHHLLLLL', 'LHHHHHHHHHHHHHLLLLL') xxx LHHLLLLLHHHHHHLLLLL\n",
      "('LHLHLLLLLHHHHLLHH', 'LHHHHHHHHHHHHHHHH') xxx LHHHLLLLLHHHHHHHH\n",
      "('LHLLHLHHLLLHLHLH', 'LHHHHHHHHHHHHHHH') xxx LHHHHHHHHHHHLHHH\n",
      "('HLHHLHLHHLHLLLLLHL', 'HHHHHHHHHHHHHHHHHL') xxx HHHHHHHHHHHLLLLLHL\n",
      "('LLHLLHLLHLLLLHLHH', 'LLHHHHHHHHHHHHHHH') xxx LLHHHHHHHHHHHHLHH\n",
      "('HLLLLHLLLLLLLLLLHHHL', 'HHHHHHHHHHHHHHHHHHHL') xxx HHHHHHLLLLLLLLLLHHHL\n",
      "('HHLHLHHLLLLLLHLH', 'HHHHHHHHHHHHHHHH') xxx HHHHHHHLLLLLLHHH\n",
      "('HHLHHLLLHLHHLHHH', 'HHHHHHHHHHHHHHHH') xxx HHHHHHHHHLHHHHHH\n",
      "('HHHLLHLLLHLLHHLHHHL', 'HHHHHHHHHHHHHHHHHHL') xxx HHHHHHHHHHLLHHHHHHL\n",
      "('LHLLLLHLLLLLLLLLHHL', 'LHHHHHHHHHHHHHHHHHL') xxx LHHHHHHLLLLLLLLLHHL\n",
      "('HLLLLLHHLLLLLLHL', 'HHHHHHHHHHHHHHHL') xxx HLLLLLHHLLLLLLHL\n",
      "('LLLHLLLLHLHHLHLLHLH', 'LLLHHHHHHHHHHHHHHHH') xxx LLLHHHHHHLHHHHHHHHH\n",
      "('LHLHHHLLLLHLLHLLLHLL', 'LHHHHHHHHHHHHHHHHHLL') xxx LHHHHHHHHHHLLHHHHHLL\n",
      "('LHLLLLLLHHLLLHHLLLH', 'LHHHHHHHHHHHHHHHHHH') xxx LHLLLLLLHHHHHHHHHHH\n",
      "('HLHLLLLLLHHLHHLHLLL', 'HHHHHHHHHHHHHHHHLLL') xxx HHHLLLLLLHHHHHHHLLL\n",
      "('HHLLLHLHLHLLLHH', 'HHHHHHHHHHHHHHH') xxx HHHHHHLHHHHHHHH\n",
      "('HHHLLLLLHHLLLHHHHLH', 'HHHHHHHHHHHHHHHHHHH') xxx HHHLLLLLHHHHHHHHHHH\n",
      "('LLLHLHLLLLLHLHHHLH', 'LLLHHHHHHHHHHHHHHH') xxx LLLHHHLLLLLHHHHHHH\n",
      "('LHHLLLLHLLHHHHHH', 'LHHHHHHHHHHHHHHH') xxx LHHHHHHHLLHHHHHH\n",
      "('LLLHHLLHLHLHLLLHLHLL', 'LLLHHHHHHHHHHHHHHHLL') xxx LLLHHHHHHHHHHHHHLHLL\n",
      "('HHLHLLHHLHLLLLHLHHL', 'HHHHHHHHHHHHHHHHHHL') xxx HHHHHHHHHHHHHHHLHHL\n",
      "('HHLHHLLLLLLHLHHLL', 'HHHHHHHHHHHHHHHLL') xxx HHHHHLLLLLLHHHHLL\n",
      "('HLLLHLLHLLLLLLLLLLHL', 'HHHHHHHHHHHHHHHHHHHL') xxx HHHHHLLHLLLLLLLLLLHL\n",
      "('HLLLLLLLHHLLLLHLHH', 'HHHHHHHHHHHHHHHHHH') xxx HLLLLLLLHHHHHHHLHH\n",
      "('HHHLHLLLLHLHHHHHHL', 'HHHHHHHHHHHHHHHHHL') xxx HHHHHHHHHHLHHHHHHL\n",
      "('HLHLLHHHHLLLHLH', 'HHHHHHHHHHHHHHH') xxx HHHHHHHHHHHHHLH\n",
      "('LHLLHLLLLHLLHHHLLLLH', 'LHHHHHHHHHHHHHHHHHHH') xxx LHHHHHHHHHLLHHHHHHHH\n",
      "('HLLHHHHLLLLLLHHLH', 'HHHHHHHHHHHHHHHHH') xxx HHHHHHHLLLLLLHHHH\n",
      "('LHHHHLLLHLHHHHH', 'LHHHHHHHHHHHHHH') xxx LHHHHHHHHLHHHHH\n",
      "('LLLHHLLLLHLLLHLHHL', 'LLLHHHHHHHHHHHHHHL') xxx LLLHHHHHHHLLLHHHHL\n",
      "('HHHHHHHHLLLHLHLHLLL', 'HHHHHHHHHHHHHHHHLLL') xxx HHHHHHHHHHHHLHHHLLL\n",
      "('LLLHHHLLLLHLLHLHLLL', 'LLLHHHHHHHHHHHHHLLL') xxx LLLHHHHHHHHLLHHHLLL\n",
      "('LLHLLHLHLLHHLLLHLHH', 'LLHHHHHHHHHHHHHHHHH') xxx LLHHHHHHHHHHHHHHLHH\n",
      "('LLHHLLLLLLHHHLHLHLH', 'LLHHHHHHHHHHHHHHHHH') xxx LLHHLLLLLLHHHHHHHHH\n",
      "('LLHLLLHLHLHLLLHHHLH', 'LLHHHHHHHHHHHHHHHHH') xxx LLHHHHHLHHHHHHHHHHH\n",
      "('HHHHLHLHHHLLLLLLLLLH', 'HHHHHHHHHHHHHHHHHHHH') xxx HHHHHHHHHHLLLLLLLLLH\n",
      "('LLHHHLLHHLLLLHLHHHHL', 'LLHHHHHHHHHHHHHHHHHL') xxx LLHHHHHHHHHHHHLHHHHL\n",
      "('HLHHLLLLLHLHHLLHLHH', 'HHHHHHHHHHHHHHHHHHH') xxx HHHHLLLLLHHHHHHHHHH\n",
      "('HLLLLHLLLHHHLHHLH', 'HHHHHHHHHHHHHHHHH') xxx HHHHHHLLLHHHHHHHH\n",
      "('LHHHLHHHLLLLLLLHLHLH', 'LHHHHHHHHHHHHHHHHHHH') xxx LHHHHHHHLLLLLLLHHHHH\n",
      "('HLHLLLHLLLHHHLLL', 'HHHHHHHHHHHHHLLL') xxx HHHHHHHLLLHHHLLL\n",
      "('LLHHLHLHLLLHLHH', 'LLHHHHHHHHHHHHH') xxx LLHHHHHHHHHHLHH\n",
      "('HLLLLLLLHLHHLHLL', 'HHHHHHHHHHHHHHLL') xxx HLLLLLLLHHHHHHLL\n",
      "('HHLLLLLHHLLHLLH', 'HHHHHHHHHHHHHHH') xxx HHLLLLLHHHHHHHH\n",
      "('LLLLLHLLLLHLHHHLL', 'LLLLLHHHHHHHHHHLL') xxx LLLLLHHHHHHLHHHLL\n",
      "('LLLHHLLLHLHLHLLL', 'LLLHHHHHHHHHHLLL') xxx LLLHHHHHHLHHHLLL\n",
      "('LHLHHLLLLLLHLHHHHHLH', 'LHHHHHHHHHHHHHHHHHHH') xxx LHHHHLLLLLLHHHHHHHHH\n",
      "('HHHHHLLHLLLLHLHHLL', 'HHHHHHHHHHHHHHHHLL') xxx HHHHHHHHHHHHHLHHLL\n",
      "('LHHLHLLLHLLHHHHH', 'LHHHHHHHHHHHHHHH') xxx LHHHHHHHHLLHHHHH\n",
      "('HHHLLLLLLHLHLLHLLLLH', 'HHHHHHHHHHHHHHHHHHHH') xxx HHHLLLLLLHHHHHHHHHHH\n",
      "('HLLLLLLHHLLLLLH', 'HHHHHHHHHHHHHHH') xxx HLLLLLLHHLLLLLH\n",
      "('LLLLHHLLLLLHLLHHLL', 'LLLLHHHHHHHHHHHHLL') xxx LLLLHHLLLLLHHHHHLL\n",
      "('LHLLHLLLHLLHLLLH', 'LHHHHHHHHHHHHHHH') xxx LHHHHHHHHLLHHHHH\n",
      "('HHHHHLHLHLLLLLLHH', 'HHHHHHHHHHHHHHHHH') xxx HHHHHHHHHLLLLLLHH\n",
      "('HLHHLHLHHLLHHLLLHLH', 'HHHHHHHHHHHHHHHHHHH') xxx HHHHHHHHHHHHHHHHHLH\n",
      "('HLLLHLLLHHHHLHLLLL', 'HHHHHHHHHHHHHHLLLL') xxx HHHHHLLLHHHHHHLLLL\n",
      "('LHHHLHLLLLLLLLHLLH', 'LHHHHHHHHHHHHHHHHH') xxx LHHHHHLLLLLLLLHHHH\n",
      "('HHHLHLHHLLLLLHLLLH', 'HHHHHHHHHHHHHHHHHH') xxx HHHHHHHHLLLLLHHHHH\n",
      "('HHLHLLLHLHHHHLL', 'HHHHHHHHHHHHHLL') xxx HHHHHHHHLHHHHLL\n",
      "('LHHLLLLLLLLLLLH', 'LHHHHHHHHHHHHHH') xxx LHHLLLLLLLLLLLH\n",
      "('HHHLLHLLLLLHHLHLLH', 'HHHHHHHHHHHHHHHHHH') xxx HHHHHHLLLLLHHHHHHH\n",
      "('HLLLHLLHHHHLHLHLLL', 'HHHHHHHHHHHHHHHLLL') xxx HHHHHLLHHHHHHHHLLL\n",
      "('LHLLLLLLLHHLLHLH', 'LHHHHHHHHHHHHHHH') xxx LHLLLLLLLHHHHHHH\n",
      "('HLLLHLLLHLLLLHL', 'HHHHHHHHHHHHHHL') xxx HHHHHLLLHHHHHHL\n",
      "('LHHHLHLLLLLLHHHHLLLL', 'LHHHHHHHHHHHHHHHLLLL') xxx LHHHHHLLLLLLHHHHLLLL\n",
      "('HLLHLLLLLLLLLHHH', 'HHHHHHHHHHHHHHHH') xxx HHHHLLLLLLLLLHHH\n",
      "('LHHLLLHLHHHLHLLLLHH', 'LHHHHHHHHHHHHHHHHHH') xxx LHHHHHHLHHHHHHHHHHH\n",
      "('LHHHHHHLHHLLLLHLLHL', 'LHHHHHHHHHHHHHHHHHL') xxx LHHHHHHHHHHHHHHLLHL\n",
      "('HLHLHLLLLLLLHLLHLH', 'HHHHHHHHHHHHHHHHHH') xxx HHHHHLLLLLLLHHHHHH\n",
      "('LHHLHLHLLLLHLLH', 'LHHHHHHHHHHHHHH') xxx LHHHHHHHHHHHLLH\n",
      "('HLLLHLLHHHLHLHL', 'HHHHHHHHHHHHHHL') xxx HHHHHLLHHHHHHHL\n",
      "('HLLHLLLLLHLLLLHHH', 'HHHHHHHHHHHHHHHHH') xxx HHHHLLLLLHHHHHHHH\n",
      "('HLHHLLLHLLLHHLHHHHLH', 'HHHHHHHHHHHHHHHHHHHH') xxx HHHHHHHHLLLHHHHHHHHH\n",
      "('LHHLLLHHLHHLHLLLLLHH', 'LHHHHHHHHHHHHHHHHHHH') xxx LHHHHHHHHHHHHLLLLLHH\n",
      "('HLLLLLLLLHLLLHLLHHL', 'HHHHHHHHHHHHHHHHHHL') xxx HLLLLLLLLHHHHHLLHHL\n",
      "('HLLHHLLLLHLHHLHHLLLL', 'HHHHHHHHHHHHHHHHLLLL') xxx HHHHHHHHHHLHHHHHLLLL\n",
      "('HLLLHLLHLHLHHLH', 'HHHHHHHHHHHHHHH') xxx HHHHHLLHHHHHHHH\n",
      "('LHLLLLHLHLHLLLHHHL', 'LHHHHHHHHHHHHHHHHL') xxx LHHHHHHLHHHHHHHHHL\n",
      "('HLLLHLLLLHHLLLHHLLLL', 'HHHHHHHHHHHHHHHHLLLL') xxx HHHHHLLLLHHHHHHHLLLL\n",
      "('LHHHHHLLLHLHLHHLHLH', 'LHHHHHHHHHHHHHHHHHH') xxx LHHHHHHHHHLHHHHHHHH\n",
      "('HHLLLHLLHLLHLHHHH', 'HHHHHHHHHHHHHHHHH') xxx HHHHHHLLHHHHHHHHH\n",
      "('HLLHLLLHLHHHHHLHLLL', 'HHHHHHHHHHHHHHHHLLL') xxx HHHHHHHHLHHHHHHHLLL\n",
      "('LHLHHLLLHLLHLHHHLLH', 'LHHHHHHHHHHHHHHHHHH') xxx LHHHHHHHHLLHHHHHHHH\n",
      "('LLLHLHLLLLHLHHH', 'LLLHHHHHHHHHHHH') xxx LLLHHHHHHHHLHHH\n",
      "('LHHHLLLLLHLLLLHH', 'LHHHHHHHHHHHHHHH') xxx LHHHLLLLLHHHHHHH\n",
      "('LHLLHLLLLLHHHLHL', 'LHHHHHHHHHHHHHHL') xxx LHHHHLLLLLHHHHHL\n",
      "('LLLLHLHLLLLLHHLHLLHH', 'LLLLHHHHHHHHHHHHHHHH') xxx LLLLHHHLLLLLHHHHHHHH\n",
      "('LLLLLHLLLLLLLHL', 'LLLLLHHHHHHHHHL') xxx LLLLLHLLLLLLLHL\n",
      "('HLHLLLLLHHLHLLHHL', 'HHHHHHHHHHHHHHHHL') xxx HHHLLLLLHHHHHHHHL\n",
      "('HLLLLLHHHLLHLLLHHLH', 'HHHHHHHHHHHHHHHHHHH') xxx HLLLLLHHHHHHHHHHHHH\n",
      "('HHLHHHHLLLHLHLLLLHH', 'HHHHHHHHHHHHHHHHHHH') xxx HHHHHHHHHHHLHHHHHHH\n",
      "('HLLLHLHHHHHHLHHH', 'HHHHHHHHHHHHHHHH') xxx HHHHHLHHHHHHHHHH\n",
      "('HLLLLLHHHLHHLLLLHL', 'HHHHHHHHHHHHHHHHHL') xxx HLLLLLHHHHHHHHHHHL\n",
      "('HLHLHLLLHLHHLHLH', 'HHHHHHHHHHHHHHHH') xxx HHHHHHHHHLHHHHHH\n",
      "('HLHHHLHLLLLLHHLLHLLL', 'HHHHHHHHHHHHHHHHHLLL') xxx HHHHHHHLLLLLHHHHHLLL\n",
      "('HHHHHHLHLHLHHLLLLLH', 'HHHHHHHHHHHHHHHHHHH') xxx HHHHHHHHHHHHHLLLLLH\n",
      "('LHHHLLLHLLLLLHLHL', 'LHHHHHHHHHHHHHHHL') xxx LHHHHHHHLLLLLHHHL\n",
      "('LHLLLHLLHLHHHHHLHLLL', 'LHHHHHHHHHHHHHHHHLLL') xxx LHHHHHLLHHHHHHHHHLLL\n",
      "('LLLLLLLHHLLLHLHL', 'LLLLLLLHHHHHHHHL') xxx LLLLLLLHHHHHHLHL\n",
      "('HHLHHHHLHLHLLLLHLH', 'HHHHHHHHHHHHHHHHHH') xxx HHHHHHHHHHHHHHHHLH\n",
      "('HLLLHHHHLHLHLLLLLHHH', 'HHHHHHHHHHHHHHHHHHHH') xxx HHHHHHHHHHHHLLLLLHHH\n",
      "('HHLLHLLLLHLLHLH', 'HHHHHHHHHHHHHHH') xxx HHHHHHHHHHLLHHH\n",
      "('HLLLLHLLLHLHLHL', 'HHHHHHHHHHHHHHL') xxx HHHHHHLLLHHHHHL\n",
      "('LLLLHHLHLLHHLLLLLH', 'LLLLHHHHHHHHHHHHHH') xxx LLLLHHHHHHHHLLLLLH\n",
      "('HLLHLHHHLLLHLLLLLHHL', 'HHHHHHHHHHHHHHHHHHHL') xxx HHHHHHHHHHHHLLLLLHHL\n",
      "('LLHHLLLLLHHHHHHLL', 'LLHHHHHHHHHHHHHLL') xxx LLHHLLLLLHHHHHHLL\n",
      "('LLLHHLHLHHLLLLLLLLLH', 'LLLHHHHHHHHHHHHHHHHH') xxx LLLHHHHHHHLLLLLLLLLH\n",
      "('LLHLHHLLLLLLLHLL', 'LLHHHHHHHHHHHHLL') xxx LLHHHHLLLLLLLHLL\n",
      "('HLLLHLHHHHLLHHHHHH', 'HHHHHHHHHHHHHHHHHH') xxx HHHHHLHHHHHHHHHHHH\n",
      "('HLLHLLLLHLLHHLLLH', 'HHHHHHHHHHHHHHHHH') xxx HHHHHHHHHLLHHHHHH\n",
      "('HLHLLLLHLHHLLHHHHH', 'HHHHHHHHHHHHHHHHHH') xxx HHHHHHHHLHHHHHHHHH\n",
      "('LHHHHLLLHLHHLHH', 'LHHHHHHHHHHHHHH') xxx LHHHHHHHHLHHHHH\n",
      "('HLLHHLLLLLLLHHHLLLHL', 'HHHHHHHHHHHHHHHHHHHL') xxx HHHHHLLLLLLLHHHHHHHL\n",
      "('HLLHHHHHHLLLHLHHL', 'HHHHHHHHHHHHHHHHL') xxx HHHHHHHHHHHHHLHHL\n",
      "('HHHHLLLLLHHLLHL', 'HHHHHHHHHHHHHHL') xxx HHHHLLLLLHHHHHL\n",
      "('HLLHHLHLLLHLHLLL', 'HHHHHHHHHHHHHLLL') xxx HHHHHHHHHHHLHLLL\n",
      "('LLHHHHHLLHLLLLLHHHL', 'LLHHHHHHHHHHHHHHHHL') xxx LLHHHHHHHHLLLLLHHHL\n",
      "('HHHLLHLHHHHHLLLLLHHL', 'HHHHHHHHHHHHHHHHHHHL') xxx HHHHHHHHHHHHLLLLLHHL\n",
      "('LLLHLLLLLHLHHLHHH', 'LLLHHHHHHHHHHHHHH') xxx LLLHLLLLLHHHHHHHH\n",
      "('HLHHLLLLLHHLLHLLLLHH', 'HHHHHHHHHHHHHHHHHHHH') xxx HHHHLLLLLHHHHHHHHHHH\n",
      "('LLLLHLHLLLHLLHLHLHLH', 'LLLLHHHHHHHHHHHHHHHH') xxx LLLLHHHHHHHLLHHHHHHH\n",
      "('LLLLHLLHHLHLLLHLLLHH', 'LLLLHHHHHHHHHHHHHHHH') xxx LLLLHHHHHHHHHHHLLLHH\n",
      "('HLLLLHLLLLLHLHLHLL', 'HHHHHHHHHHHHHHHHLL') xxx HHHHHHLLLLLHHHHHLL\n",
      "('HHLLLHLHLHHHLLHLH', 'HHHHHHHHHHHHHHHHH') xxx HHHHHHLHHHHHHHHHH\n",
      "('HLLLLLLHLLHLLHLHLLLH', 'HHHHHHHHHHHHHHHHHHHH') xxx HLLLLLLHHHHHHHHHHHHH\n",
      "('HLHHHLLLLLLLLHHH', 'HHHHHHHHHHHHHHHH') xxx HHHHHLLLLLLLLHHH\n",
      "('LHHHHHLLLHLHHHLHLHHL', 'LHHHHHHHHHHHHHHHHHHL') xxx LHHHHHHHHHLHHHHHHHHL\n",
      "('LHHHLLLLLHHLHHHHL', 'LHHHHHHHHHHHHHHHL') xxx LHHHLLLLLHHHHHHHL\n",
      "('HHLLLHLHHHHHLLHHL', 'HHHHHHHHHHHHHHHHL') xxx HHHHHHLHHHHHHHHHL\n",
      "('LHHHHLLLLLHLLHLH', 'LHHHHHHHHHHHHHHH') xxx LHHHHLLLLLHHHHHH\n",
      "('LLLHHLHLLLLLHHHLLLLH', 'LLLHHHHHHHHHHHHHHHHH') xxx LLLHHHHLLLLLHHHHHHHH\n",
      "('HLLLHHLLLLLLLHHLH', 'HHHHHHHHHHHHHHHHH') xxx HHHHHHLLLLLLLHHHH\n",
      "('HLHHLHLHLHLLLLLLLHL', 'HHHHHHHHHHHHHHHHHHL') xxx HHHHHHHHHHLLLLLLLHL\n",
      "('HLHLLLLLHHLLHHHHLH', 'HHHHHHHHHHHHHHHHHH') xxx HHHLLLLLHHHHHHHHHH\n",
      "('LHHLLHLLLLHLHLHH', 'LHHHHHHHHHHHHHHH') xxx LHHHHHHHHHHLHHHH\n",
      "('HHLHLLLLLHLHHHLHHHL', 'HHHHHHHHHHHHHHHHHHL') xxx HHHHLLLLLHHHHHHHHHL\n",
      "('LLLLHHHLLLHLHHLH', 'LLLLHHHHHHHHHHHH') xxx LLLLHHHHHHHLHHHH\n",
      "('HHHLLLHLLLLLHHLHHHLL', 'HHHHHHHHHHHHHHHHHHLL') xxx HHHHHHHLLLLLHHHHHHLL\n",
      "('LLHHHLHHLLLLLHHLLL', 'LLHHHHHHHHHHHHHLLL') xxx LLHHHHHHLLLLLHHLLL\n",
      "('HLLLHLLHHLHHLHL', 'HHHHHHHHHHHHHHL') xxx HHHHHLLHHHHHHHL\n",
      "('LLLLLHLHHLLLLLLHHHL', 'LLLLLHHHHHHHHHHHHHL') xxx LLLLLHHHHLLLLLLHHHL\n",
      "('HHHLLLHLHHLHHLHHHH', 'HHHHHHHHHHHHHHHHHH') xxx HHHHHHHLHHHHHHHHHH\n",
      "('HHLHLLLLLLHHLLHHLHL', 'HHHHHHHHHHHHHHHHHHL') xxx HHHHLLLLLLHHHHHHHHL\n",
      "('HLLLLLLHLHLHHLLHLHL', 'HHHHHHHHHHHHHHHHHHL') xxx HLLLLLLHHHHHHHHHHHL\n",
      "('LHLLLHLLHHLLHLHHLHLL', 'LHHHHHHHHHHHHHHHHHLL') xxx LHHHHHLLHHHHHHHHHHLL\n",
      "('LHLLLLHLLLHLLHHHLHL', 'LHHHHHHHHHHHHHHHHHL') xxx LHHHHHHLLLHHHHHHHHL\n",
      "('HHLHLHHLHLLLHLLLLLHL', 'HHHHHHHHHHHHHHHHHHHL') xxx HHHHHHHHHHHHHLLLLLHL\n",
      "('LHHHHLHHHLHLLLLLHHHH', 'LHHHHHHHHHHHHHHHHHHH') xxx LHHHHHHHHHHLLLLLHHHH\n",
      "('LLLLLHLLLLLHHHHLLLLH', 'LLLLLHHHHHHHHHHHHHHH') xxx LLLLLHLLLLLHHHHHHHHH\n",
      "('LHLHHLLLLLLLHLHHHHHH', 'LHHHHHHHHHHHHHHHHHHH') xxx LHHHHLLLLLLLHHHHHHHH\n",
      "('HHLHLLHHLLLLHLHH', 'HHHHHHHHHHHHHHHH') xxx HHHHHHHHHHHHHLHH\n",
      "('LHHLHHLHLLLLLLHLLLL', 'LHHHHHHHHHHHHHHLLLL') xxx LHHHHHHHLLLLLLHLLLL\n",
      "('LLLLLHHHLLLLLLHLHHHL', 'LLLLLHHHHHHHHHHHHHHL') xxx LLLLLHHHLLLLLLHHHHHL\n",
      "('LLHHLHLHLLLLLHHHHL', 'LLHHHHHHHHHHHHHHHL') xxx LLHHHHHHLLLLLHHHHL\n",
      "('LLLHLLHLLLHLLHLHHLL', 'LLLHHHHHHHHHHHHHHLL') xxx LLLHHHHHHHHLLHHHHLL\n",
      "('HHHLLHLLLHLHHLLLHHL', 'HHHHHHHHHHHHHHHHHHL') xxx HHHHHHHHHHLHHHHHHHL\n",
      "('HHLLLLLHLLLLHLLHL', 'HHHHHHHHHHHHHHHHL') xxx HHLLLLLHHHHHHLLHL\n",
      "('HLHLHLLLHLLHHHHL', 'HHHHHHHHHHHHHHHL') xxx HHHHHHHHHLLHHHHL\n",
      "('LHLHHHHHLHLLLLLHL', 'LHHHHHHHHHHHHHHHL') xxx LHHHHHHHHHLLLLLHL\n",
      "('HLLHLHLLLLHLLLH', 'HHHHHHHHHHHHHHH') xxx HHHHHHHHHHHLLLH\n",
      "('LLHHLLLHLHHHLLLHLHLH', 'LLHHHHHHHHHHHHHHHHHH') xxx LLHHHHHHLHHHHHHHLHHH\n",
      "('HHHLLLHLHHLLLLL', 'HHHHHHHHHHLLLLL') xxx HHHHHHHLHHLLLLL\n",
      "('LLHHLLHLLLHLHHLLLLH', 'LLHHHHHHHHHHHHHHHHH') xxx LLHHHHHHHHHLHHHHHHH\n",
      "('HHHHHLLLHLLHLHHLHH', 'HHHHHHHHHHHHHHHHHH') xxx HHHHHHHHHLLHHHHHHH\n",
      "('HLHLLLHLHLHLHHHLL', 'HHHHHHHHHHHHHHHLL') xxx HHHHHHHLHHHHHHHLL\n",
      "('LHLLLHLHLLHHHHL', 'LHHHHHHHHHHHHHL') xxx LHHHHHLHHHHHHHL\n",
      "('LHLHLHHHHHLLLHLHHHL', 'LHHHHHHHHHHHHHHHHHL') xxx LHHHHHHHHHHHHHLHHHL\n",
      "('LHHHHHLLHHLLLLLHLLL', 'LHHHHHHHHHHHHHHHLLL') xxx LHHHHHHHHHLLLLLHLLL\n",
      "('LLHHHLHLLLHLLHH', 'LLHHHHHHHHHHHHH') xxx LLHHHHHHHHHLLHH\n",
      "('HLHHHHHLHLHHLLLLLHHL', 'HHHHHHHHHHHHHHHHHHHL') xxx HHHHHHHHHHHHLLLLLHHL\n",
      "('HLLHHLLLLLLHHHLHLHL', 'HHHHHHHHHHHHHHHHHHL') xxx HHHHHLLLLLLHHHHHHHL\n",
      "('HHLLLLLHHHLHLLL', 'HHHHHHHHHHHHLLL') xxx HHLLLLLHHHHHLLL\n",
      "('HHHHHHLLLHLLHHH', 'HHHHHHHHHHHHHHH') xxx HHHHHHHHHHLLHHH\n",
      "('LLHLLHHLHLLLLHLLLHH', 'LLHHHHHHHHHHHHHHHHH') xxx LLHHHHHHHHHHHHLLLHH\n",
      "('HLHHLHHHLLLHLHLLLHHL', 'HHHHHHHHHHHHHHHHHHHL') xxx HHHHHHHHHHHHLHHHHHHL\n",
      "('LHLLLHHHLLLHLLHLHHLH', 'LHHHHHHHHHHHHHHHHHHH') xxx LHHHHHHHHHHHLLHHHHHH\n",
      "('LLHHLLHLHHHLLLLLLH', 'LLHHHHHHHHHHHHHHHH') xxx LLHHHHHHHHHLLLLLLH\n",
      "('HHLLLLLLHLLLHHHHL', 'HHHHHHHHHHHHHHHHL') xxx HHLLLLLLHHHHHHHHL\n",
      "('HLLLLLHHHHLLHHLL', 'HHHHHHHHHHHHHHLL') xxx HLLLLLHHHHHHHHLL\n",
      "('LHLLLHLHHHLHHHLLHH', 'LHHHHHHHHHHHHHHHHH') xxx LHHHHHLHHHHHHHHHHH\n",
      "('HLLLLLLHLLLLLLLLHHLH', 'HHHHHHHHHHHHHHHHHHHH') xxx HLLLLLLHLLLLLLLLHHHH\n",
      "('HLLLLHLLLHLHLLLLLL', 'HHHHHHHHHHHHLLLLLL') xxx HHHHHHLLLHHHLLLLLL\n",
      "('HLHLLLLHLHHLHHLLLLLL', 'HHHHHHHHHHHHHHLLLLLL') xxx HHHHHHHHLHHHHHLLLLLL\n",
      "('LLHLHHLLLLLLHLLL', 'LLHHHHHHHHHHHLLL') xxx LLHHHHLLLLLLHLLL\n",
      "('HLHHLLLHHHLLLLHLHHL', 'HHHHHHHHHHHHHHHHHHL') xxx HHHHHHHHHHHHHHHLHHL\n",
      "('HLLLHLHLLLHLHLH', 'HHHHHHHHHHHHHHH') xxx HHHHHLHHHHHLHHH\n",
      "('HLHLHLLLHLLHHLH', 'HHHHHHHHHHHHHHH') xxx HHHHHHHHHLLHHHH\n",
      "('HHLHHLHHHLLLLLHH', 'HHHHHHHHHHHHHHHH') xxx HHHHHHHHHLLLLLHH\n",
      "('LLHLHLLLLLLLHHLLH', 'LLHHHHHHHHHHHHHHH') xxx LLHHHLLLLLLLHHHHH\n",
      "('HLLLLLLHHLLLHLHLHHHH', 'HHHHHHHHHHHHHHHHHHHH') xxx HLLLLLLHHHHHHLHHHHHH\n",
      "('LHHHLLLHLLLHLLLLL', 'LHHHHHHHHHHHLLLLL') xxx LHHHHHHHLLLHLLLLL\n",
      "('LLLHHHLLLLLHHLLHLLH', 'LLLHHHHHHHHHHHHHHHH') xxx LLLHHHLLLLLHHHHHHHH\n",
      "('HLHHLLLHLLLLLHH', 'HHHHHHHHHHHHHHH') xxx HHHHHHHHLLLLLHH\n",
      "('LLHHHLLLLLLLHLL', 'LLHHHHHHHHHHHLL') xxx LLHHHLLLLLLLHLL\n",
      "('HLHHLLLHLLLHLLHHHHH', 'HHHHHHHHHHHHHHHHHHH') xxx HHHHHHHHLLLHHHHHHHH\n",
      "('HHLLLLLLLLLLHHLHLLHH', 'HHHHHHHHHHHHHHHHHHHH') xxx HHLLLLLLLLLLHHHHHHHH\n",
      "('HHLLLHLHHHLHLHL', 'HHHHHHHHHHHHHHL') xxx HHHHHHLHHHHHHHL\n",
      "('LHLHLLLLLLLLHLLL', 'LHHHHHHHHHHHHLLL') xxx LHHHLLLLLLLLHLLL\n",
      "('LHLLLLLHLHLHHLHLLH', 'LHHHHHHHHHHHHHHHHH') xxx LHLLLLLHHHHHHHHHHH\n",
      "('HLHLLHLLLHLLHHLLHL', 'HHHHHHHHHHHHHHHHHL') xxx HHHHHHHHHHLLHHHHHL\n",
      "('HHHHHHLLHHHLLLLLHLLL', 'HHHHHHHHHHHHHHHHHLLL') xxx HHHHHHHHHHHLLLLLHLLL\n",
      "('LHLHLLLLHLHLHLHLHHHL', 'LHHHHHHHHHHHHHHHHHHL') xxx LHHHHHHHHLHHHHHHHHHL\n",
      "('HLLLHHLLLLLLHHLLH', 'HHHHHHHHHHHHHHHHH') xxx HHHHHHLLLLLLHHHHH\n",
      "('HLLHLHHLLLHLLLHH', 'HHHHHHHHHHHHHHHH') xxx HHHHHHHHHHHLLLHH\n",
      "('LLHLHHHLLLLHLLHHHHHL', 'LLHHHHHHHHHHHHHHHHHL') xxx LLHHHHHHHHHHLLHHHHHL\n",
      "('HHLLHLHLLHLLLHLHL', 'HHHHHHHHHHHHHHHHL') xxx HHHHHHHHHHHHHHLHL\n",
      "Score: 62.7%\n"
     ]
    }
   ],
   "source": [
    "test_88 = []\n",
    "for i in range(1000):\n",
    "    test_88.extend(generate_utp_pairs(n = 1, length = randint(15, 20)))\n",
    "    \n",
    "test_fst_special(o8, test_88)"
   ]
  },
  {
   "cell_type": "code",
   "execution_count": null,
   "metadata": {},
   "outputs": [],
   "source": []
  },
  {
   "cell_type": "markdown",
   "metadata": {},
   "source": [
    "## Dataset 9: first-last harmony"
   ]
  },
  {
   "cell_type": "code",
   "execution_count": 8,
   "metadata": {},
   "outputs": [
    {
     "name": "stdout",
     "output_type": "stream",
     "text": [
      "[('oaxxo', 'oaxxo'), ('oxxaa', 'oxxao'), ('aaooo', 'aaooa'), ('ooaxo', 'ooaxo'), ('axxxxo', 'axxxxa'), ('aoaoo', 'aoaoa'), ('oxxo', 'oxxo'), ('ooo', 'ooo'), ('oxxoaa', 'oxxoao'), ('aao', 'aaa'), ('ao', 'aa'), ('aooxo', 'aooxa'), ('ooaaa', 'ooaao'), ('axaa', 'axaa'), ('aoxaao', 'aoxaaa')]\n"
     ]
    }
   ],
   "source": [
    "data_9 = []\n",
    "for i in range(5000):\n",
    "    data_9.extend(first_last_pairs(n = 1, length = randint(1, 6)))\n",
    "\n",
    "test_9 = []\n",
    "for i in range(5000):\n",
    "    test_9.extend(first_last_pairs(n = 1, length = randint(1, 6)))\n",
    "    \n",
    "    \n",
    "sigma9 = [\"a\", \"o\", \"x\"]\n",
    "gamma9 = [\"a\", \"o\", \"x\"]\n",
    "    \n",
    "    \n",
    "print(data_9[:15])"
   ]
  },
  {
   "cell_type": "code",
   "execution_count": 9,
   "metadata": {},
   "outputs": [
    {
     "name": "stdout",
     "output_type": "stream",
     "text": [
      "Score: 100.0%\n"
     ]
    }
   ],
   "source": [
    "o9 = ostia(data_9, sigma9, gamma9)\n",
    "test_fst(o9, test_9)"
   ]
  },
  {
   "cell_type": "code",
   "execution_count": 23,
   "metadata": {},
   "outputs": [
    {
     "data": {
      "text/plain": [
       "[['', 'o', 'o', 'o'],\n",
       " ['o', 'a', '', 'oa'],\n",
       " ['oa', 'x', 'ax', 'o'],\n",
       " ['o', 'x', 'x', 'o'],\n",
       " ['', 'a', 'a', 'a'],\n",
       " ['a', 'a', 'a', 'a'],\n",
       " ['o', 'o', 'o', 'o'],\n",
       " ['a', 'x', 'x', 'a'],\n",
       " ['a', 'o', '', 'ao'],\n",
       " ['ao', 'a', 'oa', 'a'],\n",
       " ['ao', 'o', 'o', 'ao'],\n",
       " ['ao', 'x', 'ox', 'a'],\n",
       " ['oa', 'o', 'ao', 'o'],\n",
       " ['oa', 'a', 'a', 'oa']]"
      ]
     },
     "execution_count": 23,
     "metadata": {},
     "output_type": "execute_result"
    }
   ],
   "source": [
    "o9.E"
   ]
  },
  {
   "cell_type": "code",
   "execution_count": 24,
   "metadata": {},
   "outputs": [
    {
     "data": {
      "text/plain": [
       "{'': '*', 'o': '', 'oa': 'o', 'a': '', 'ao': 'a'}"
      ]
     },
     "execution_count": 24,
     "metadata": {},
     "output_type": "execute_result"
    }
   ],
   "source": [
    "o9.stout"
   ]
  },
  {
   "cell_type": "code",
   "execution_count": 12,
   "metadata": {},
   "outputs": [
    {
     "data": {
      "text/plain": [
       "[['', 'o', 'o', 'o'],\n",
       " ['o', 'a', '', 'oa'],\n",
       " ['oa', 'x', 'ax', 'o'],\n",
       " ['o', 'x', 'x', 'o'],\n",
       " ['', 'a', 'a', 'a'],\n",
       " ['a', 'a', 'a', 'a'],\n",
       " ['o', 'o', 'o', 'o'],\n",
       " ['a', 'x', 'x', 'a'],\n",
       " ['a', 'o', '', 'ao'],\n",
       " ['ao', 'a', 'oa', 'a'],\n",
       " ['ao', 'o', 'o', 'ao'],\n",
       " ['ao', 'x', 'ox', 'a'],\n",
       " ['oa', 'o', 'ao', 'o'],\n",
       " ['oa', 'a', 'a', 'oa']]"
      ]
     },
     "execution_count": 12,
     "metadata": {},
     "output_type": "execute_result"
    }
   ],
   "source": [
    "o9.E"
   ]
  },
  {
   "cell_type": "code",
   "execution_count": 13,
   "metadata": {},
   "outputs": [
    {
     "name": "stdout",
     "output_type": "stream",
     "text": [
      "Score: 100.0%\n"
     ]
    }
   ],
   "source": [
    "test_99 = []\n",
    "for i in range(5000):\n",
    "    test_99.extend(first_last_pairs(n = 1, length = randint(10, 15)))\n",
    "\n",
    "test_fst(o9, test_99)"
   ]
  },
  {
   "cell_type": "code",
   "execution_count": 14,
   "metadata": {},
   "outputs": [
    {
     "name": "stdout",
     "output_type": "stream",
     "text": [
      "Score: 100.0%\n"
     ]
    }
   ],
   "source": [
    "test_fst(o9, test_99)"
   ]
  },
  {
   "cell_type": "code",
   "execution_count": 15,
   "metadata": {},
   "outputs": [],
   "source": [
    "t = [('oo', 'oo'), ('oxo', 'oxo'), ('axxo', 'axxa')]"
   ]
  },
  {
   "cell_type": "code",
   "execution_count": 16,
   "metadata": {},
   "outputs": [],
   "source": [
    "def add_xxx(strings, xrange):\n",
    "    new = []\n",
    "    for p0, p1 in strings:\n",
    "        initial_x = randint(*xrange)\n",
    "        final_x = randint(*xrange)\n",
    "        annotate = lambda s: \"x\" * initial_x + s + \"x\" * final_x\n",
    "        annotated = (annotate(p0), annotate(p1))\n",
    "        new.append(annotated)\n",
    "    return new"
   ]
  },
  {
   "cell_type": "code",
   "execution_count": 17,
   "metadata": {},
   "outputs": [
    {
     "data": {
      "text/plain": [
       "[('xxxxxxooxxxx', 'xxxxxxooxxxx'),\n",
       " ('xxxxoxoxxxxx', 'xxxxoxoxxxxx'),\n",
       " ('xxxxxxaxxoxxxx', 'xxxxxxaxxaxxxx')]"
      ]
     },
     "execution_count": 17,
     "metadata": {},
     "output_type": "execute_result"
    }
   ],
   "source": [
    "add_xxx(t, (4, 6))"
   ]
  },
  {
   "cell_type": "code",
   "execution_count": null,
   "metadata": {},
   "outputs": [],
   "source": []
  },
  {
   "cell_type": "code",
   "execution_count": null,
   "metadata": {},
   "outputs": [],
   "source": []
  },
  {
   "cell_type": "code",
   "execution_count": null,
   "metadata": {},
   "outputs": [],
   "source": []
  },
  {
   "cell_type": "code",
   "execution_count": 18,
   "metadata": {},
   "outputs": [
    {
     "name": "stdout",
     "output_type": "stream",
     "text": [
      "[('xoaaxxx', 'xoaoxxx'), ('xxxaxoxaxxx', 'xxxaxoxaxxx'), ('aooxxo', 'aooxxa'), ('xoaaxaa', 'xoaaxao'), ('xoaaoaa', 'xoaaoao'), ('xoaxx', 'xooxx'), ('xxoxaaxxx', 'xxoxaoxxx'), ('aaao', 'aaaa'), ('xxoaaaaxx', 'xxoaaaoxx'), ('xxoaoxxx', 'xxoaoxxx'), ('xoaxoxx', 'xoaxoxx'), ('xxxaxaxaaxxx', 'xxxaxaxaaxxx'), ('xxaoaoo', 'xxaoaoa'), ('xoxaxxx', 'xoxoxxx'), ('xxxaaoaxxx', 'xxxaaoaxxx')]\n"
     ]
    }
   ],
   "source": [
    "data_9 = []\n",
    "for i in range(5000):\n",
    "    data_9.extend(first_last_pairs(n = 1, length = randint(1, 6)))\n",
    "data_9 = add_xxx(data_9, (0, 3))\n",
    "    \n",
    "test_9 = []\n",
    "for i in range(5000):\n",
    "    test_9.extend(first_last_pairs(n = 1, length = randint(1, 6)))\n",
    "test_9 = add_xxx(test_9, (0, 3))\n",
    "    \n",
    "sigma9 = [\"a\", \"o\", \"x\"]\n",
    "gamma9 = [\"a\", \"o\", \"x\"]\n",
    "    \n",
    "    \n",
    "print(data_9[:15])"
   ]
  },
  {
   "cell_type": "code",
   "execution_count": 19,
   "metadata": {},
   "outputs": [
    {
     "name": "stdout",
     "output_type": "stream",
     "text": [
      "Score: 99.53999999999999%\n"
     ]
    }
   ],
   "source": [
    "o99 = ostia(data_9, sigma9, gamma9)\n",
    "test_fst(o99, test_9)"
   ]
  },
  {
   "cell_type": "code",
   "execution_count": 20,
   "metadata": {},
   "outputs": [
    {
     "data": {
      "text/plain": [
       "235"
      ]
     },
     "execution_count": 20,
     "metadata": {},
     "output_type": "execute_result"
    }
   ],
   "source": [
    "len(o99.E)"
   ]
  },
  {
   "cell_type": "code",
   "execution_count": 21,
   "metadata": {},
   "outputs": [
    {
     "data": {
      "text/plain": [
       "79"
      ]
     },
     "execution_count": 21,
     "metadata": {},
     "output_type": "execute_result"
    }
   ],
   "source": [
    "len(o99.stout)"
   ]
  },
  {
   "cell_type": "code",
   "execution_count": null,
   "metadata": {},
   "outputs": [],
   "source": []
  },
  {
   "cell_type": "code",
   "execution_count": 22,
   "metadata": {},
   "outputs": [
    {
     "name": "stdout",
     "output_type": "stream",
     "text": [
      "Score: 33.92%\n"
     ]
    }
   ],
   "source": [
    "test_999 = []\n",
    "for i in range(5000):\n",
    "    test_999.extend(first_last_pairs(n = 1, length = randint(10, 15)))\n",
    "test_999 = add_xxx(test_999, (0, 7))\n",
    "\n",
    "test_fst(o99, test_999)"
   ]
  },
  {
   "cell_type": "code",
   "execution_count": null,
   "metadata": {},
   "outputs": [],
   "source": []
  }
 ],
 "metadata": {
  "kernelspec": {
   "display_name": "Python 3",
   "language": "python",
   "name": "python3"
  },
  "language_info": {
   "codemirror_mode": {
    "name": "ipython",
    "version": 3
   },
   "file_extension": ".py",
   "mimetype": "text/x-python",
   "name": "python",
   "nbconvert_exporter": "python",
   "pygments_lexer": "ipython3",
   "version": "3.6.9"
  }
 },
 "nbformat": 4,
 "nbformat_minor": 2
}
